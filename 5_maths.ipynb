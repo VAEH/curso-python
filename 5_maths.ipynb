{
  "nbformat": 4,
  "nbformat_minor": 0,
  "metadata": {
    "colab": {
      "name": "5_maths.ipynb",
      "provenance": [],
      "collapsed_sections": [],
      "include_colab_link": true
    },
    "kernelspec": {
      "name": "python3",
      "display_name": "Python 3"
    }
  },
  "cells": [
    {
      "cell_type": "markdown",
      "metadata": {
        "id": "view-in-github",
        "colab_type": "text"
      },
      "source": [
        "<a href=\"https://colab.research.google.com/github/VAEH/curso-python/blob/master/5_maths.ipynb\" target=\"_parent\"><img src=\"https://colab.research.google.com/assets/colab-badge.svg\" alt=\"Open In Colab\"/></a>"
      ]
    },
    {
      "cell_type": "markdown",
      "metadata": {
        "id": "-8-LoGvl4o_K"
      },
      "source": [
        "# Funciones Matematicas\n",
        "\n",
        "- Realización de operaciones dentro de un DataFrame\n",
        "- Realizar operaciones dentro de las columnas de un DF\n",
        "- Utilización de operaciones de otra libreria como Numpy"
      ]
    },
    {
      "cell_type": "code",
      "metadata": {
        "id": "106RHLnkKg50",
        "colab": {
          "base_uri": "https://localhost:8080/",
          "height": 366
        },
        "outputId": "958c46b8-ba4b-4715-9c23-ad2a676bb60d"
      },
      "source": [
        "!pip install --upgrade pandas"
      ],
      "execution_count": 1,
      "outputs": [
        {
          "output_type": "stream",
          "text": [
            "Collecting pandas\n",
            "\u001b[?25l  Downloading https://files.pythonhosted.org/packages/51/51/48f3fc47c4e2144da2806dfb6629c4dd1fa3d5a143f9652b141e979a8ca9/pandas-1.2.4-cp37-cp37m-manylinux1_x86_64.whl (9.9MB)\n",
            "\u001b[K     |████████████████████████████████| 9.9MB 6.4MB/s \n",
            "\u001b[?25hRequirement already satisfied, skipping upgrade: python-dateutil>=2.7.3 in /usr/local/lib/python3.7/dist-packages (from pandas) (2.8.1)\n",
            "Requirement already satisfied, skipping upgrade: numpy>=1.16.5 in /usr/local/lib/python3.7/dist-packages (from pandas) (1.19.5)\n",
            "Requirement already satisfied, skipping upgrade: pytz>=2017.3 in /usr/local/lib/python3.7/dist-packages (from pandas) (2018.9)\n",
            "Requirement already satisfied, skipping upgrade: six>=1.5 in /usr/local/lib/python3.7/dist-packages (from python-dateutil>=2.7.3->pandas) (1.15.0)\n",
            "\u001b[31mERROR: google-colab 1.0.0 has requirement pandas~=1.1.0; python_version >= \"3.0\", but you'll have pandas 1.2.4 which is incompatible.\u001b[0m\n",
            "Installing collected packages: pandas\n",
            "  Found existing installation: pandas 1.1.5\n",
            "    Uninstalling pandas-1.1.5:\n",
            "      Successfully uninstalled pandas-1.1.5\n",
            "Successfully installed pandas-1.2.4\n"
          ],
          "name": "stdout"
        },
        {
          "output_type": "display_data",
          "data": {
            "application/vnd.colab-display-data+json": {
              "pip_warning": {
                "packages": [
                  "pandas"
                ]
              }
            }
          },
          "metadata": {
            "tags": []
          }
        }
      ]
    },
    {
      "cell_type": "code",
      "metadata": {
        "id": "Bmlhv-YdKn15",
        "colab": {
          "base_uri": "https://localhost:8080/"
        },
        "outputId": "36f93329-910d-45e7-b6ba-0c948b312883"
      },
      "source": [
        "from google.colab import drive\n",
        "drive.mount('/content/drive/')"
      ],
      "execution_count": 2,
      "outputs": [
        {
          "output_type": "stream",
          "text": [
            "Mounted at /content/drive/\n"
          ],
          "name": "stdout"
        }
      ]
    },
    {
      "cell_type": "code",
      "metadata": {
        "id": "fz1pX8RjKpWp",
        "colab": {
          "base_uri": "https://localhost:8080/"
        },
        "outputId": "cf0617c5-5cc4-4f58-f30d-170b106f33e0"
      },
      "source": [
        "%cd '/content/drive/My Drive/Colab Notebooks/db'\n",
        "!ls"
      ],
      "execution_count": 4,
      "outputs": [
        {
          "output_type": "stream",
          "text": [
            "/content/drive/My Drive/Colab Notebooks/db\n",
            "london_merged.csv\ttest.csv  test.json\ttest.pkl\n",
            "Meteorite_Landings.csv\ttest.h5   test.parquet\ttest.xlsx\n"
          ],
          "name": "stdout"
        }
      ]
    },
    {
      "cell_type": "code",
      "metadata": {
        "id": "wv-7au-JKrJb",
        "colab": {
          "base_uri": "https://localhost:8080/",
          "height": 36
        },
        "outputId": "884eea4e-8fb5-44d8-8b91-c1db31015f3b"
      },
      "source": [
        "import pandas as pd\n",
        "import numpy as np\n",
        "pd.__version__"
      ],
      "execution_count": 5,
      "outputs": [
        {
          "output_type": "execute_result",
          "data": {
            "application/vnd.google.colaboratory.intrinsic+json": {
              "type": "string"
            },
            "text/plain": [
              "'1.2.4'"
            ]
          },
          "metadata": {
            "tags": []
          },
          "execution_count": 5
        }
      ]
    },
    {
      "cell_type": "markdown",
      "metadata": {
        "id": "0cpt_wIGswjS"
      },
      "source": [
        "Leemos nuestro Dataframe"
      ]
    },
    {
      "cell_type": "code",
      "metadata": {
        "id": "HpGpEMJXLYEr",
        "colab": {
          "base_uri": "https://localhost:8080/",
          "height": 424
        },
        "outputId": "a973ffd0-0038-4bc3-c7f3-411c7dacb7cd"
      },
      "source": [
        "df_lmerged = pd.read_csv('london_merged.csv')\n",
        "df_lmerged"
      ],
      "execution_count": 7,
      "outputs": [
        {
          "output_type": "execute_result",
          "data": {
            "text/html": [
              "<div>\n",
              "<style scoped>\n",
              "    .dataframe tbody tr th:only-of-type {\n",
              "        vertical-align: middle;\n",
              "    }\n",
              "\n",
              "    .dataframe tbody tr th {\n",
              "        vertical-align: top;\n",
              "    }\n",
              "\n",
              "    .dataframe thead th {\n",
              "        text-align: right;\n",
              "    }\n",
              "</style>\n",
              "<table border=\"1\" class=\"dataframe\">\n",
              "  <thead>\n",
              "    <tr style=\"text-align: right;\">\n",
              "      <th></th>\n",
              "      <th>timestamp</th>\n",
              "      <th>cnt</th>\n",
              "      <th>t1</th>\n",
              "      <th>t2</th>\n",
              "      <th>hum</th>\n",
              "      <th>wind_speed</th>\n",
              "      <th>weather_code</th>\n",
              "      <th>is_holiday</th>\n",
              "      <th>is_weekend</th>\n",
              "      <th>season</th>\n",
              "    </tr>\n",
              "  </thead>\n",
              "  <tbody>\n",
              "    <tr>\n",
              "      <th>0</th>\n",
              "      <td>2015-01-04 00:00:00</td>\n",
              "      <td>182</td>\n",
              "      <td>3.0</td>\n",
              "      <td>2.0</td>\n",
              "      <td>93.0</td>\n",
              "      <td>6.0</td>\n",
              "      <td>3.0</td>\n",
              "      <td>0.0</td>\n",
              "      <td>1.0</td>\n",
              "      <td>3.0</td>\n",
              "    </tr>\n",
              "    <tr>\n",
              "      <th>1</th>\n",
              "      <td>2015-01-04 01:00:00</td>\n",
              "      <td>138</td>\n",
              "      <td>3.0</td>\n",
              "      <td>2.5</td>\n",
              "      <td>93.0</td>\n",
              "      <td>5.0</td>\n",
              "      <td>1.0</td>\n",
              "      <td>0.0</td>\n",
              "      <td>1.0</td>\n",
              "      <td>3.0</td>\n",
              "    </tr>\n",
              "    <tr>\n",
              "      <th>2</th>\n",
              "      <td>2015-01-04 02:00:00</td>\n",
              "      <td>134</td>\n",
              "      <td>2.5</td>\n",
              "      <td>2.5</td>\n",
              "      <td>96.5</td>\n",
              "      <td>0.0</td>\n",
              "      <td>1.0</td>\n",
              "      <td>0.0</td>\n",
              "      <td>1.0</td>\n",
              "      <td>3.0</td>\n",
              "    </tr>\n",
              "    <tr>\n",
              "      <th>3</th>\n",
              "      <td>2015-01-04 03:00:00</td>\n",
              "      <td>72</td>\n",
              "      <td>2.0</td>\n",
              "      <td>2.0</td>\n",
              "      <td>100.0</td>\n",
              "      <td>0.0</td>\n",
              "      <td>1.0</td>\n",
              "      <td>0.0</td>\n",
              "      <td>1.0</td>\n",
              "      <td>3.0</td>\n",
              "    </tr>\n",
              "    <tr>\n",
              "      <th>4</th>\n",
              "      <td>2015-01-04 04:00:00</td>\n",
              "      <td>47</td>\n",
              "      <td>2.0</td>\n",
              "      <td>0.0</td>\n",
              "      <td>93.0</td>\n",
              "      <td>6.5</td>\n",
              "      <td>1.0</td>\n",
              "      <td>0.0</td>\n",
              "      <td>1.0</td>\n",
              "      <td>3.0</td>\n",
              "    </tr>\n",
              "    <tr>\n",
              "      <th>...</th>\n",
              "      <td>...</td>\n",
              "      <td>...</td>\n",
              "      <td>...</td>\n",
              "      <td>...</td>\n",
              "      <td>...</td>\n",
              "      <td>...</td>\n",
              "      <td>...</td>\n",
              "      <td>...</td>\n",
              "      <td>...</td>\n",
              "      <td>...</td>\n",
              "    </tr>\n",
              "    <tr>\n",
              "      <th>17409</th>\n",
              "      <td>2017-01-03 19:00:00</td>\n",
              "      <td>1042</td>\n",
              "      <td>5.0</td>\n",
              "      <td>1.0</td>\n",
              "      <td>81.0</td>\n",
              "      <td>19.0</td>\n",
              "      <td>3.0</td>\n",
              "      <td>0.0</td>\n",
              "      <td>0.0</td>\n",
              "      <td>3.0</td>\n",
              "    </tr>\n",
              "    <tr>\n",
              "      <th>17410</th>\n",
              "      <td>2017-01-03 20:00:00</td>\n",
              "      <td>541</td>\n",
              "      <td>5.0</td>\n",
              "      <td>1.0</td>\n",
              "      <td>81.0</td>\n",
              "      <td>21.0</td>\n",
              "      <td>4.0</td>\n",
              "      <td>0.0</td>\n",
              "      <td>0.0</td>\n",
              "      <td>3.0</td>\n",
              "    </tr>\n",
              "    <tr>\n",
              "      <th>17411</th>\n",
              "      <td>2017-01-03 21:00:00</td>\n",
              "      <td>337</td>\n",
              "      <td>5.5</td>\n",
              "      <td>1.5</td>\n",
              "      <td>78.5</td>\n",
              "      <td>24.0</td>\n",
              "      <td>4.0</td>\n",
              "      <td>0.0</td>\n",
              "      <td>0.0</td>\n",
              "      <td>3.0</td>\n",
              "    </tr>\n",
              "    <tr>\n",
              "      <th>17412</th>\n",
              "      <td>2017-01-03 22:00:00</td>\n",
              "      <td>224</td>\n",
              "      <td>5.5</td>\n",
              "      <td>1.5</td>\n",
              "      <td>76.0</td>\n",
              "      <td>23.0</td>\n",
              "      <td>4.0</td>\n",
              "      <td>0.0</td>\n",
              "      <td>0.0</td>\n",
              "      <td>3.0</td>\n",
              "    </tr>\n",
              "    <tr>\n",
              "      <th>17413</th>\n",
              "      <td>2017-01-03 23:00:00</td>\n",
              "      <td>139</td>\n",
              "      <td>5.0</td>\n",
              "      <td>1.0</td>\n",
              "      <td>76.0</td>\n",
              "      <td>22.0</td>\n",
              "      <td>2.0</td>\n",
              "      <td>0.0</td>\n",
              "      <td>0.0</td>\n",
              "      <td>3.0</td>\n",
              "    </tr>\n",
              "  </tbody>\n",
              "</table>\n",
              "<p>17414 rows × 10 columns</p>\n",
              "</div>"
            ],
            "text/plain": [
              "                 timestamp   cnt   t1  ...  is_holiday  is_weekend  season\n",
              "0      2015-01-04 00:00:00   182  3.0  ...         0.0         1.0     3.0\n",
              "1      2015-01-04 01:00:00   138  3.0  ...         0.0         1.0     3.0\n",
              "2      2015-01-04 02:00:00   134  2.5  ...         0.0         1.0     3.0\n",
              "3      2015-01-04 03:00:00    72  2.0  ...         0.0         1.0     3.0\n",
              "4      2015-01-04 04:00:00    47  2.0  ...         0.0         1.0     3.0\n",
              "...                    ...   ...  ...  ...         ...         ...     ...\n",
              "17409  2017-01-03 19:00:00  1042  5.0  ...         0.0         0.0     3.0\n",
              "17410  2017-01-03 20:00:00   541  5.0  ...         0.0         0.0     3.0\n",
              "17411  2017-01-03 21:00:00   337  5.5  ...         0.0         0.0     3.0\n",
              "17412  2017-01-03 22:00:00   224  5.5  ...         0.0         0.0     3.0\n",
              "17413  2017-01-03 23:00:00   139  5.0  ...         0.0         0.0     3.0\n",
              "\n",
              "[17414 rows x 10 columns]"
            ]
          },
          "metadata": {
            "tags": []
          },
          "execution_count": 7
        }
      ]
    },
    {
      "cell_type": "markdown",
      "metadata": {
        "id": "sR9HPGAIs17V"
      },
      "source": [
        "Lo primero que se hace es reconocer el tipo de variables que tenemos"
      ]
    },
    {
      "cell_type": "code",
      "metadata": {
        "id": "7Y-CTAuiL4KP",
        "colab": {
          "base_uri": "https://localhost:8080/"
        },
        "outputId": "c18c435e-8849-4a44-8b15-ddbee7ff8e18"
      },
      "source": [
        "df_lmerged.dtypes"
      ],
      "execution_count": 8,
      "outputs": [
        {
          "output_type": "execute_result",
          "data": {
            "text/plain": [
              "timestamp        object\n",
              "cnt               int64\n",
              "t1              float64\n",
              "t2              float64\n",
              "hum             float64\n",
              "wind_speed      float64\n",
              "weather_code    float64\n",
              "is_holiday      float64\n",
              "is_weekend      float64\n",
              "season          float64\n",
              "dtype: object"
            ]
          },
          "metadata": {
            "tags": []
          },
          "execution_count": 8
        }
      ]
    },
    {
      "cell_type": "markdown",
      "metadata": {
        "id": "uto635Dss91_"
      },
      "source": [
        "Usamo el comando:\n",
        "\n",
        "```\n",
        "pd.to_datetime(df_lmerged['timestamp'])\n",
        "```\n",
        "Para cambiar el formato de tipo `object` a fecha. Decimos que se debe efectuar el cambio en la columna `timestamp` en nuestro DataFrame\n",
        "\n"
      ]
    },
    {
      "cell_type": "code",
      "metadata": {
        "id": "EV6QmSb0L4ND",
        "colab": {
          "base_uri": "https://localhost:8080/"
        },
        "outputId": "f10d8607-8728-4578-e9ec-f14344b7a725"
      },
      "source": [
        "df_lmerged['timestamp'] = pd.to_datetime(df_lmerged['timestamp'])\n",
        "df_lmerged['timestamp']"
      ],
      "execution_count": 9,
      "outputs": [
        {
          "output_type": "execute_result",
          "data": {
            "text/plain": [
              "0       2015-01-04 00:00:00\n",
              "1       2015-01-04 01:00:00\n",
              "2       2015-01-04 02:00:00\n",
              "3       2015-01-04 03:00:00\n",
              "4       2015-01-04 04:00:00\n",
              "                ...        \n",
              "17409   2017-01-03 19:00:00\n",
              "17410   2017-01-03 20:00:00\n",
              "17411   2017-01-03 21:00:00\n",
              "17412   2017-01-03 22:00:00\n",
              "17413   2017-01-03 23:00:00\n",
              "Name: timestamp, Length: 17414, dtype: datetime64[ns]"
            ]
          },
          "metadata": {
            "tags": []
          },
          "execution_count": 9
        }
      ]
    },
    {
      "cell_type": "markdown",
      "metadata": {
        "id": "4IESqwF3tz5P"
      },
      "source": [
        "Se crea una nueva columna con **HORA**, aprovechando que la columna ya es de tipo tiempo. \n",
        "\n",
        "```\n",
        "df_lmerged['timestamp'].dt.hour\n",
        "```\n",
        "Con esto, ya la nueva columna contiene la hora en la que estaban sucediendo estos eventos. \n"
      ]
    },
    {
      "cell_type": "code",
      "metadata": {
        "id": "YlXsdmjPL4Q0",
        "colab": {
          "base_uri": "https://localhost:8080/"
        },
        "outputId": "b67812a9-c71e-4ba8-a5a5-0c6b20747906"
      },
      "source": [
        "df_lmerged['hour'] = df_lmerged['timestamp'].dt.hour\n",
        "df_lmerged['hour']"
      ],
      "execution_count": 33,
      "outputs": [
        {
          "output_type": "execute_result",
          "data": {
            "text/plain": [
              "0         0\n",
              "1         1\n",
              "2         2\n",
              "3         3\n",
              "4         4\n",
              "         ..\n",
              "17409    19\n",
              "17410    20\n",
              "17411    21\n",
              "17412    22\n",
              "17413    23\n",
              "Name: hour, Length: 17414, dtype: int64"
            ]
          },
          "metadata": {
            "tags": []
          },
          "execution_count": 33
        }
      ]
    },
    {
      "cell_type": "markdown",
      "metadata": {
        "id": "HhoF35LputgO"
      },
      "source": [
        "Se quita el tiempo del DataFrame y usamos `.iloc[]` para quitar la primer columna. (En realidad es como si las ocultara). Entonces se dice que se quiere todas las filas, pero desde la columna 1 hasta la última. "
      ]
    },
    {
      "cell_type": "code",
      "metadata": {
        "id": "sJdInYVfL4Tm",
        "colab": {
          "base_uri": "https://localhost:8080/",
          "height": 424
        },
        "outputId": "37a1c4c3-a955-4f39-9b39-51fd7c47e4d6"
      },
      "source": [
        "df = df_lmerged.iloc[:,1:]\n",
        "df"
      ],
      "execution_count": 49,
      "outputs": [
        {
          "output_type": "execute_result",
          "data": {
            "text/html": [
              "<div>\n",
              "<style scoped>\n",
              "    .dataframe tbody tr th:only-of-type {\n",
              "        vertical-align: middle;\n",
              "    }\n",
              "\n",
              "    .dataframe tbody tr th {\n",
              "        vertical-align: top;\n",
              "    }\n",
              "\n",
              "    .dataframe thead th {\n",
              "        text-align: right;\n",
              "    }\n",
              "</style>\n",
              "<table border=\"1\" class=\"dataframe\">\n",
              "  <thead>\n",
              "    <tr style=\"text-align: right;\">\n",
              "      <th></th>\n",
              "      <th>cnt</th>\n",
              "      <th>t1</th>\n",
              "      <th>t2</th>\n",
              "      <th>hum</th>\n",
              "      <th>wind_speed</th>\n",
              "      <th>weather_code</th>\n",
              "      <th>is_holiday</th>\n",
              "      <th>is_weekend</th>\n",
              "      <th>season</th>\n",
              "      <th>hour</th>\n",
              "    </tr>\n",
              "  </thead>\n",
              "  <tbody>\n",
              "    <tr>\n",
              "      <th>0</th>\n",
              "      <td>182</td>\n",
              "      <td>3.0</td>\n",
              "      <td>2.0</td>\n",
              "      <td>93.0</td>\n",
              "      <td>6.0</td>\n",
              "      <td>3.0</td>\n",
              "      <td>0.0</td>\n",
              "      <td>1.0</td>\n",
              "      <td>3.0</td>\n",
              "      <td>0</td>\n",
              "    </tr>\n",
              "    <tr>\n",
              "      <th>1</th>\n",
              "      <td>138</td>\n",
              "      <td>3.0</td>\n",
              "      <td>2.5</td>\n",
              "      <td>93.0</td>\n",
              "      <td>5.0</td>\n",
              "      <td>1.0</td>\n",
              "      <td>0.0</td>\n",
              "      <td>1.0</td>\n",
              "      <td>3.0</td>\n",
              "      <td>1</td>\n",
              "    </tr>\n",
              "    <tr>\n",
              "      <th>2</th>\n",
              "      <td>134</td>\n",
              "      <td>2.5</td>\n",
              "      <td>2.5</td>\n",
              "      <td>96.5</td>\n",
              "      <td>0.0</td>\n",
              "      <td>1.0</td>\n",
              "      <td>0.0</td>\n",
              "      <td>1.0</td>\n",
              "      <td>3.0</td>\n",
              "      <td>2</td>\n",
              "    </tr>\n",
              "    <tr>\n",
              "      <th>3</th>\n",
              "      <td>72</td>\n",
              "      <td>2.0</td>\n",
              "      <td>2.0</td>\n",
              "      <td>100.0</td>\n",
              "      <td>0.0</td>\n",
              "      <td>1.0</td>\n",
              "      <td>0.0</td>\n",
              "      <td>1.0</td>\n",
              "      <td>3.0</td>\n",
              "      <td>3</td>\n",
              "    </tr>\n",
              "    <tr>\n",
              "      <th>4</th>\n",
              "      <td>47</td>\n",
              "      <td>2.0</td>\n",
              "      <td>0.0</td>\n",
              "      <td>93.0</td>\n",
              "      <td>6.5</td>\n",
              "      <td>1.0</td>\n",
              "      <td>0.0</td>\n",
              "      <td>1.0</td>\n",
              "      <td>3.0</td>\n",
              "      <td>4</td>\n",
              "    </tr>\n",
              "    <tr>\n",
              "      <th>...</th>\n",
              "      <td>...</td>\n",
              "      <td>...</td>\n",
              "      <td>...</td>\n",
              "      <td>...</td>\n",
              "      <td>...</td>\n",
              "      <td>...</td>\n",
              "      <td>...</td>\n",
              "      <td>...</td>\n",
              "      <td>...</td>\n",
              "      <td>...</td>\n",
              "    </tr>\n",
              "    <tr>\n",
              "      <th>17409</th>\n",
              "      <td>1042</td>\n",
              "      <td>5.0</td>\n",
              "      <td>1.0</td>\n",
              "      <td>81.0</td>\n",
              "      <td>19.0</td>\n",
              "      <td>3.0</td>\n",
              "      <td>0.0</td>\n",
              "      <td>0.0</td>\n",
              "      <td>3.0</td>\n",
              "      <td>19</td>\n",
              "    </tr>\n",
              "    <tr>\n",
              "      <th>17410</th>\n",
              "      <td>541</td>\n",
              "      <td>5.0</td>\n",
              "      <td>1.0</td>\n",
              "      <td>81.0</td>\n",
              "      <td>21.0</td>\n",
              "      <td>4.0</td>\n",
              "      <td>0.0</td>\n",
              "      <td>0.0</td>\n",
              "      <td>3.0</td>\n",
              "      <td>20</td>\n",
              "    </tr>\n",
              "    <tr>\n",
              "      <th>17411</th>\n",
              "      <td>337</td>\n",
              "      <td>5.5</td>\n",
              "      <td>1.5</td>\n",
              "      <td>78.5</td>\n",
              "      <td>24.0</td>\n",
              "      <td>4.0</td>\n",
              "      <td>0.0</td>\n",
              "      <td>0.0</td>\n",
              "      <td>3.0</td>\n",
              "      <td>21</td>\n",
              "    </tr>\n",
              "    <tr>\n",
              "      <th>17412</th>\n",
              "      <td>224</td>\n",
              "      <td>5.5</td>\n",
              "      <td>1.5</td>\n",
              "      <td>76.0</td>\n",
              "      <td>23.0</td>\n",
              "      <td>4.0</td>\n",
              "      <td>0.0</td>\n",
              "      <td>0.0</td>\n",
              "      <td>3.0</td>\n",
              "      <td>22</td>\n",
              "    </tr>\n",
              "    <tr>\n",
              "      <th>17413</th>\n",
              "      <td>139</td>\n",
              "      <td>5.0</td>\n",
              "      <td>1.0</td>\n",
              "      <td>76.0</td>\n",
              "      <td>22.0</td>\n",
              "      <td>2.0</td>\n",
              "      <td>0.0</td>\n",
              "      <td>0.0</td>\n",
              "      <td>3.0</td>\n",
              "      <td>23</td>\n",
              "    </tr>\n",
              "  </tbody>\n",
              "</table>\n",
              "<p>17414 rows × 10 columns</p>\n",
              "</div>"
            ],
            "text/plain": [
              "        cnt   t1   t2    hum  ...  is_holiday  is_weekend  season  hour\n",
              "0       182  3.0  2.0   93.0  ...         0.0         1.0     3.0     0\n",
              "1       138  3.0  2.5   93.0  ...         0.0         1.0     3.0     1\n",
              "2       134  2.5  2.5   96.5  ...         0.0         1.0     3.0     2\n",
              "3        72  2.0  2.0  100.0  ...         0.0         1.0     3.0     3\n",
              "4        47  2.0  0.0   93.0  ...         0.0         1.0     3.0     4\n",
              "...     ...  ...  ...    ...  ...         ...         ...     ...   ...\n",
              "17409  1042  5.0  1.0   81.0  ...         0.0         0.0     3.0    19\n",
              "17410   541  5.0  1.0   81.0  ...         0.0         0.0     3.0    20\n",
              "17411   337  5.5  1.5   78.5  ...         0.0         0.0     3.0    21\n",
              "17412   224  5.5  1.5   76.0  ...         0.0         0.0     3.0    22\n",
              "17413   139  5.0  1.0   76.0  ...         0.0         0.0     3.0    23\n",
              "\n",
              "[17414 rows x 10 columns]"
            ]
          },
          "metadata": {
            "tags": []
          },
          "execution_count": 49
        }
      ]
    },
    {
      "cell_type": "markdown",
      "metadata": {
        "id": "a-mAx9V6zZti"
      },
      "source": [
        "Al tener todo nuestro DF de tipo númerico, podemos hacer\n",
        "- Potencias\n",
        "\n",
        "Por ejemplo, si hacemos:\n",
        "\n",
        "\n",
        "```\n",
        "df**\n",
        "```\n",
        "Esto significa que todas nuestras variables se van a elevar al cuadrado. Teniendo en cuenta esto, se elige una columna o fila y todas esas variables se elevan al cuadraddo, además de poder realizar otro tipo de operaciones. \n",
        "\n"
      ]
    },
    {
      "cell_type": "code",
      "metadata": {
        "id": "dUVGw4MUL4WG",
        "colab": {
          "base_uri": "https://localhost:8080/"
        },
        "outputId": "bc3e3951-faef-4443-af5d-2e304266f773"
      },
      "source": [
        "np.sin(df['wind_speed']**2) + 10"
      ],
      "execution_count": 12,
      "outputs": [
        {
          "output_type": "execute_result",
          "data": {
            "text/plain": [
              "0         9.008221\n",
              "1         9.867648\n",
              "2        10.000000\n",
              "3        10.000000\n",
              "4         9.013013\n",
              "           ...    \n",
              "17409    10.279387\n",
              "17410    10.923470\n",
              "17411     9.114047\n",
              "17412    10.936473\n",
              "17413    10.193503\n",
              "Name: wind_speed, Length: 17414, dtype: float64"
            ]
          },
          "metadata": {
            "tags": []
          },
          "execution_count": 12
        }
      ]
    },
    {
      "cell_type": "markdown",
      "metadata": {
        "id": "xJE6MIrQ0RuP"
      },
      "source": [
        "Se puede realizar operaciones entre las mismas columnas, por ejemplo podemos encontrar la diferencia de temperatura, entre la temperatura real y la sensación termica. \n",
        "\n",
        "\n",
        "```\n",
        "df['t1']-df['t2']\n",
        "```\n",
        "Hay algo más que puede hacer, y es que con `.iloc[]` podemos coger datos que correspondan al indice par, como se hace de la siguiente forma: \n"
      ]
    },
    {
      "cell_type": "code",
      "metadata": {
        "id": "sXNZltY8QngE",
        "colab": {
          "base_uri": "https://localhost:8080/"
        },
        "outputId": "7bd478cc-3890-4c42-a91d-f13f831d04a8"
      },
      "source": [
        "#Tenemos en cuenta que aquí estamos seleccionando solo un tercio de los datos\n",
        "df['t1'].iloc[::3]-df['t2']\n",
        "# El resultado es, donde hacia falta un dato... automaticamente se va a completar con una variable NULA "
      ],
      "execution_count": 13,
      "outputs": [
        {
          "output_type": "execute_result",
          "data": {
            "text/plain": [
              "0        1.0\n",
              "1        NaN\n",
              "2        NaN\n",
              "3        0.0\n",
              "4        NaN\n",
              "        ... \n",
              "17409    4.0\n",
              "17410    NaN\n",
              "17411    NaN\n",
              "17412    4.0\n",
              "17413    NaN\n",
              "Length: 17414, dtype: float64"
            ]
          },
          "metadata": {
            "tags": []
          },
          "execution_count": 13
        }
      ]
    },
    {
      "cell_type": "markdown",
      "metadata": {
        "id": "h3RbnLC11phb"
      },
      "source": [
        "Para completar una variable **NULA** se usa una funcionalidad de pandas de tipo aritmeticas, pero están incluidas dentro de pandas. \n",
        "\n",
        "Hace lo mismo que el anterior, ya que utilizamos `substract()`, para la diferencia radica en podemos tener más parametros, como: `fill_value=` que rellena los NaN con un valor que nosotros definamos.  "
      ]
    },
    {
      "cell_type": "code",
      "metadata": {
        "id": "1p5rv3NxRHrN",
        "colab": {
          "base_uri": "https://localhost:8080/"
        },
        "outputId": "2daa16fc-aedc-47ac-cd2c-7a98ed9d3254"
      },
      "source": [
        "df['t1'].iloc[::3].sub(df['t2'], fill_value = 1000)"
      ],
      "execution_count": 14,
      "outputs": [
        {
          "output_type": "execute_result",
          "data": {
            "text/plain": [
              "0           1.0\n",
              "1         997.5\n",
              "2         997.5\n",
              "3           0.0\n",
              "4        1000.0\n",
              "          ...  \n",
              "17409       4.0\n",
              "17410     999.0\n",
              "17411     998.5\n",
              "17412       4.0\n",
              "17413     999.0\n",
              "Length: 17414, dtype: float64"
            ]
          },
          "metadata": {
            "tags": []
          },
          "execution_count": 14
        }
      ]
    },
    {
      "cell_type": "markdown",
      "metadata": {
        "id": "tgMznxm5L4so"
      },
      "source": [
        "\n",
        "\n",
        "```\n",
        "+    add()\n",
        "-    sub(), subtract()\n",
        "*    mul(), multiply()\n",
        "/    truediv(), div(), divide()\n",
        "//   floordiv()\n",
        "%    mod()\n",
        "**   pow()\n",
        "```\n",
        "\n"
      ]
    },
    {
      "cell_type": "code",
      "metadata": {
        "id": "XPQ6QzZpRLCW",
        "colab": {
          "base_uri": "https://localhost:8080/"
        },
        "outputId": "75fcab23-a2fe-4448-dbad-052867719e54"
      },
      "source": [
        "df['t1']/df['t2']"
      ],
      "execution_count": 15,
      "outputs": [
        {
          "output_type": "execute_result",
          "data": {
            "text/plain": [
              "0        1.500000\n",
              "1        1.200000\n",
              "2        1.000000\n",
              "3        1.000000\n",
              "4             inf\n",
              "           ...   \n",
              "17409    5.000000\n",
              "17410    5.000000\n",
              "17411    3.666667\n",
              "17412    3.666667\n",
              "17413    5.000000\n",
              "Length: 17414, dtype: float64"
            ]
          },
          "metadata": {
            "tags": []
          },
          "execution_count": 15
        }
      ]
    },
    {
      "cell_type": "markdown",
      "metadata": {
        "id": "10qU2-EG36ZJ"
      },
      "source": [
        "Pandas cuenta con otras propiedades de Algebra Lineal como lo es el **Producto Punto**.\n",
        "\n",
        "Lo podemos hacer con `.dot()` de una misma columna con ella misma para ver la norma de este vector, esto lo que hace es: Multiplicar cada uno de los elementos por si mismo y luego la suma de todo. "
      ]
    },
    {
      "cell_type": "code",
      "metadata": {
        "id": "n-dRaHXcR1cn",
        "colab": {
          "base_uri": "https://localhost:8080/"
        },
        "outputId": "a4f6d245-ce91-47e1-9cb1-782e4775727d"
      },
      "source": [
        "df['t1'].dot(df['t1'])"
      ],
      "execution_count": 16,
      "outputs": [
        {
          "output_type": "execute_result",
          "data": {
            "text/plain": [
              "3247652.777777778"
            ]
          },
          "metadata": {
            "tags": []
          },
          "execution_count": 16
        }
      ]
    },
    {
      "cell_type": "markdown",
      "metadata": {
        "id": "JtoeIQFx6ZTe"
      },
      "source": [
        "## Funciones más complejas y lambdas\n",
        "\n"
      ]
    },
    {
      "cell_type": "code",
      "metadata": {
        "id": "8Iua5--TR7bg"
      },
      "source": [
        "def fun_1(x):\n",
        "  y = x**2 + 1\n",
        "  return y"
      ],
      "execution_count": 17,
      "outputs": []
    },
    {
      "cell_type": "code",
      "metadata": {
        "id": "Ivg0LiplU9o8",
        "colab": {
          "base_uri": "https://localhost:8080/"
        },
        "outputId": "166271ea-17d0-4a56-dac2-a03c122fcdc4"
      },
      "source": [
        "fun_1(10)"
      ],
      "execution_count": 18,
      "outputs": [
        {
          "output_type": "execute_result",
          "data": {
            "text/plain": [
              "101"
            ]
          },
          "metadata": {
            "tags": []
          },
          "execution_count": 18
        }
      ]
    },
    {
      "cell_type": "code",
      "metadata": {
        "id": "BSWueVznVAGc",
        "colab": {
          "base_uri": "https://localhost:8080/"
        },
        "outputId": "e97af5ba-fc5c-445a-fd19-2985f991c224"
      },
      "source": [
        "np.arange(-5,6)"
      ],
      "execution_count": 19,
      "outputs": [
        {
          "output_type": "execute_result",
          "data": {
            "text/plain": [
              "array([-5, -4, -3, -2, -1,  0,  1,  2,  3,  4,  5])"
            ]
          },
          "metadata": {
            "tags": []
          },
          "execution_count": 19
        }
      ]
    },
    {
      "cell_type": "code",
      "metadata": {
        "id": "pyBmsPsMVEfx",
        "colab": {
          "base_uri": "https://localhost:8080/"
        },
        "outputId": "1a05a37a-edf6-4187-baad-b6e5cb2d665e"
      },
      "source": [
        "#vemos el tamaño de los dato\n",
        "np.arange(-5,6).shape"
      ],
      "execution_count": 20,
      "outputs": [
        {
          "output_type": "execute_result",
          "data": {
            "text/plain": [
              "(11,)"
            ]
          },
          "metadata": {
            "tags": []
          },
          "execution_count": 20
        }
      ]
    },
    {
      "cell_type": "code",
      "metadata": {
        "id": "hQMLa7AQVGWi",
        "colab": {
          "base_uri": "https://localhost:8080/"
        },
        "outputId": "57e8fe40-510d-4c72-dfc0-8427004d51c4"
      },
      "source": [
        "#La función recibe los parámetros y realiza el respectivo calculo \n",
        "fun_1(np.arange(-5,6))"
      ],
      "execution_count": 21,
      "outputs": [
        {
          "output_type": "execute_result",
          "data": {
            "text/plain": [
              "array([26, 17, 10,  5,  2,  1,  2,  5, 10, 17, 26])"
            ]
          },
          "metadata": {
            "tags": []
          },
          "execution_count": 21
        }
      ]
    },
    {
      "cell_type": "markdown",
      "metadata": {
        "id": "6UIizBD1N-ND"
      },
      "source": [
        "Aqui tenemos el número de horas de 0 a x números, aplicamos la función que se creo anteriormente. \n",
        "- apply() Se utiliza para aplicar una función a lo largo de un eje (columna o fila)"
      ]
    },
    {
      "cell_type": "code",
      "metadata": {
        "id": "BFXhzDvdVI4C",
        "colab": {
          "base_uri": "https://localhost:8080/"
        },
        "outputId": "c261eda4-1ebb-4b92-a4d0-b0f17b83607c"
      },
      "source": [
        "df['hour'].apply(fun_1)"
      ],
      "execution_count": 52,
      "outputs": [
        {
          "output_type": "execute_result",
          "data": {
            "text/plain": [
              "0          1\n",
              "1          2\n",
              "2          5\n",
              "3         10\n",
              "4         17\n",
              "        ... \n",
              "17409    362\n",
              "17410    401\n",
              "17411    442\n",
              "17412    485\n",
              "17413    530\n",
              "Name: hour, Length: 17414, dtype: int64"
            ]
          },
          "metadata": {
            "tags": []
          },
          "execution_count": 52
        }
      ]
    },
    {
      "cell_type": "markdown",
      "metadata": {
        "id": "cX9oQ-YQO7SW"
      },
      "source": [
        "Se pueden crear argumentos más complejos "
      ]
    },
    {
      "cell_type": "code",
      "metadata": {
        "id": "2u6mrFt1VM-6"
      },
      "source": [
        "def fun_2(x, a=1, b=0):\n",
        "  y = x**2 + a*x + b\n",
        "  return y"
      ],
      "execution_count": 23,
      "outputs": []
    },
    {
      "cell_type": "code",
      "metadata": {
        "id": "NaYmgfWHVYe1",
        "colab": {
          "base_uri": "https://localhost:8080/"
        },
        "outputId": "3d581c35-f444-4c06-95fc-9d4f229d6fb2"
      },
      "source": [
        "fun_2(10, a = 20, b= -100)"
      ],
      "execution_count": 24,
      "outputs": [
        {
          "output_type": "execute_result",
          "data": {
            "text/plain": [
              "200"
            ]
          },
          "metadata": {
            "tags": []
          },
          "execution_count": 24
        }
      ]
    },
    {
      "cell_type": "markdown",
      "metadata": {
        "id": "fjkSyYsQPeqD"
      },
      "source": [
        "Aplicando la nueva función con argumentos al DataFrame, en este caso llamamos a la función pero podemos agregar los argumentos en una Tupla de Argumentos. "
      ]
    },
    {
      "cell_type": "code",
      "metadata": {
        "id": "OgR0GS04Vc2j",
        "colab": {
          "base_uri": "https://localhost:8080/"
        },
        "outputId": "5e6fe4b5-945a-4e44-b70f-04c7136b0e32"
      },
      "source": [
        "df['hour'].apply(fun_2, args = (20, -100))"
      ],
      "execution_count": 25,
      "outputs": [
        {
          "output_type": "execute_result",
          "data": {
            "text/plain": [
              "0       -100\n",
              "1        -79\n",
              "2        -56\n",
              "3        -31\n",
              "4         -4\n",
              "        ... \n",
              "17409    641\n",
              "17410    700\n",
              "17411    761\n",
              "17412    824\n",
              "17413    889\n",
              "Name: hour, Length: 17414, dtype: int64"
            ]
          },
          "metadata": {
            "tags": []
          },
          "execution_count": 25
        }
      ]
    },
    {
      "cell_type": "markdown",
      "metadata": {
        "id": "atBozjARP2mo"
      },
      "source": [
        "Lo anterior también se puede hacer de la siguiente forma:"
      ]
    },
    {
      "cell_type": "code",
      "metadata": {
        "id": "Sup-rFvKVnzo",
        "colab": {
          "base_uri": "https://localhost:8080/"
        },
        "outputId": "441ea14a-0dd8-4d27-ab72-deabcfcf00a5"
      },
      "source": [
        "df['hour'].apply(fun_2, a =20, b= -100)"
      ],
      "execution_count": 26,
      "outputs": [
        {
          "output_type": "execute_result",
          "data": {
            "text/plain": [
              "0       -100\n",
              "1        -79\n",
              "2        -56\n",
              "3        -31\n",
              "4         -4\n",
              "        ... \n",
              "17409    641\n",
              "17410    700\n",
              "17411    761\n",
              "17412    824\n",
              "17413    889\n",
              "Name: hour, Length: 17414, dtype: int64"
            ]
          },
          "metadata": {
            "tags": []
          },
          "execution_count": 26
        }
      ]
    },
    {
      "cell_type": "markdown",
      "metadata": {
        "id": "4V7bEa_UQIxb"
      },
      "source": [
        "### **FUNCIONES LAMBDAS**\n",
        "\n",
        "Podemos usar las funciones Lambdas para no tener que hacer lo anterior y que sea de forma más optima. \n",
        "`lambda` es una manera de definir una función en una sola linea.\n",
        "\n",
        "Cada uno de los datos que componen la serie de 'tempearatura' 'x', se le va a smar 273, cambios a grados Kelvin. "
      ]
    },
    {
      "cell_type": "code",
      "metadata": {
        "id": "6PMhdOMeVvZL",
        "colab": {
          "base_uri": "https://localhost:8080/"
        },
        "outputId": "6c4aeaa1-4581-45d8-abc2-b67fe9a722cf"
      },
      "source": [
        "df['t1'].apply(lambda x: x+273)"
      ],
      "execution_count": 27,
      "outputs": [
        {
          "output_type": "execute_result",
          "data": {
            "text/plain": [
              "0        276.0\n",
              "1        276.0\n",
              "2        275.5\n",
              "3        275.0\n",
              "4        275.0\n",
              "         ...  \n",
              "17409    278.0\n",
              "17410    278.0\n",
              "17411    278.5\n",
              "17412    278.5\n",
              "17413    278.0\n",
              "Name: t1, Length: 17414, dtype: float64"
            ]
          },
          "metadata": {
            "tags": []
          },
          "execution_count": 27
        }
      ]
    },
    {
      "cell_type": "markdown",
      "metadata": {
        "id": "5kkJS6ojQ4jV"
      },
      "source": [
        "Se pueden hacer cosas más complejas con `.apply()`, por ejemplo aplicar toda una función al DataFrame. \n",
        "\n",
        "Por ejemplo, al aplicar el `.apply()` directamente en el DF, podemos calcular el promedio de todas las columnas del DF"
      ]
    },
    {
      "cell_type": "code",
      "metadata": {
        "id": "qite3-8mV6Id",
        "colab": {
          "base_uri": "https://localhost:8080/"
        },
        "outputId": "61cedf43-0fd8-45bd-eb29-209d28cac30f"
      },
      "source": [
        "df.apply(lambda x: x.mean())"
      ],
      "execution_count": 28,
      "outputs": [
        {
          "output_type": "execute_result",
          "data": {
            "text/plain": [
              "cnt             1143.101642\n",
              "t1                12.468091\n",
              "t2                11.520836\n",
              "hum               72.324954\n",
              "wind_speed        15.913063\n",
              "weather_code       2.722752\n",
              "is_holiday         0.022051\n",
              "is_weekend         0.285403\n",
              "season             1.492075\n",
              "hour              11.513265\n",
              "dtype: float64"
            ]
          },
          "metadata": {
            "tags": []
          },
          "execution_count": 28
        }
      ]
    },
    {
      "cell_type": "markdown",
      "metadata": {
        "id": "ITub4wmARjqE"
      },
      "source": [
        "También se puede calcular para cada una de nuestras **filas**, pero debemos especificar el eje en el que queremos operar. "
      ]
    },
    {
      "cell_type": "code",
      "metadata": {
        "id": "_3GWtXjnV_8u",
        "colab": {
          "base_uri": "https://localhost:8080/"
        },
        "outputId": "d8d5b2e4-3a7d-4f61-b640-b97fef569e98"
      },
      "source": [
        "df.apply(lambda x: x.mean(), axis=1)"
      ],
      "execution_count": 29,
      "outputs": [
        {
          "output_type": "execute_result",
          "data": {
            "text/plain": [
              "0         29.30\n",
              "1         24.75\n",
              "2         24.25\n",
              "3         18.40\n",
              "4         15.75\n",
              "          ...  \n",
              "17409    117.30\n",
              "17410     67.60\n",
              "17411     47.45\n",
              "17412     35.90\n",
              "17413     27.10\n",
              "Length: 17414, dtype: float64"
            ]
          },
          "metadata": {
            "tags": []
          },
          "execution_count": 29
        }
      ]
    },
    {
      "cell_type": "markdown",
      "metadata": {
        "id": "mDyZF79TR4wu"
      },
      "source": [
        "Se puede calular la **Desviación Estándar**"
      ]
    },
    {
      "cell_type": "code",
      "metadata": {
        "id": "GXIjeFLvWGAT",
        "colab": {
          "base_uri": "https://localhost:8080/"
        },
        "outputId": "c404251a-eef8-4fa3-a310-aaf51584cfb9"
      },
      "source": [
        "df.apply(lambda x: x.std(), axis=1)"
      ],
      "execution_count": 30,
      "outputs": [
        {
          "output_type": "execute_result",
          "data": {
            "text/plain": [
              "0         60.787517\n",
              "1         49.012045\n",
              "2         48.779692\n",
              "3         36.249751\n",
              "4         30.642427\n",
              "            ...    \n",
              "17409    325.831944\n",
              "17410    168.138964\n",
              "17411    104.504505\n",
              "17412     70.027296\n",
              "17413     45.710320\n",
              "Length: 17414, dtype: float64"
            ]
          },
          "metadata": {
            "tags": []
          },
          "execution_count": 30
        }
      ]
    },
    {
      "cell_type": "markdown",
      "metadata": {
        "id": "TXncoiEnScPM"
      },
      "source": [
        "En este caso lo hacemos cada una de las filas, calculando la diferencia entre ambas tempearaturas pero con una función Lambda. "
      ]
    },
    {
      "cell_type": "code",
      "metadata": {
        "id": "hEhlrR59WJT3",
        "colab": {
          "base_uri": "https://localhost:8080/"
        },
        "outputId": "09f06998-8e36-4fe8-b6d1-b2745017c0ef"
      },
      "source": [
        "df.apply(lambda x: x['t1']-x['t2'], axis=1)"
      ],
      "execution_count": 31,
      "outputs": [
        {
          "output_type": "execute_result",
          "data": {
            "text/plain": [
              "0        1.0\n",
              "1        0.5\n",
              "2        0.0\n",
              "3        0.0\n",
              "4        2.0\n",
              "        ... \n",
              "17409    4.0\n",
              "17410    4.0\n",
              "17411    4.0\n",
              "17412    4.0\n",
              "17413    4.0\n",
              "Length: 17414, dtype: float64"
            ]
          },
          "metadata": {
            "tags": []
          },
          "execution_count": 31
        }
      ]
    },
    {
      "cell_type": "markdown",
      "metadata": {
        "id": "yu7xRa62SpaV"
      },
      "source": [
        "- `.applymap()` permite operar todos los valores de forma independiente, por ejemplo: Todos los datos se quieren dividir por mil, este cambio los afecta a todos (De forma individual). Se usa para aplicar una función a todos los elementos del DataFrame\n",
        "-`.map()` Se usa para sustituir cada valor de una fila por otro valor"
      ]
    },
    {
      "cell_type": "code",
      "metadata": {
        "id": "WAYffFnPWPO-",
        "colab": {
          "base_uri": "https://localhost:8080/",
          "height": 424
        },
        "outputId": "d55d3fd9-da84-4542-8aa2-af044a0eec06"
      },
      "source": [
        "df.applymap(lambda x: x/1000)"
      ],
      "execution_count": 32,
      "outputs": [
        {
          "output_type": "execute_result",
          "data": {
            "text/html": [
              "<div>\n",
              "<style scoped>\n",
              "    .dataframe tbody tr th:only-of-type {\n",
              "        vertical-align: middle;\n",
              "    }\n",
              "\n",
              "    .dataframe tbody tr th {\n",
              "        vertical-align: top;\n",
              "    }\n",
              "\n",
              "    .dataframe thead th {\n",
              "        text-align: right;\n",
              "    }\n",
              "</style>\n",
              "<table border=\"1\" class=\"dataframe\">\n",
              "  <thead>\n",
              "    <tr style=\"text-align: right;\">\n",
              "      <th></th>\n",
              "      <th>cnt</th>\n",
              "      <th>t1</th>\n",
              "      <th>t2</th>\n",
              "      <th>hum</th>\n",
              "      <th>wind_speed</th>\n",
              "      <th>weather_code</th>\n",
              "      <th>is_holiday</th>\n",
              "      <th>is_weekend</th>\n",
              "      <th>season</th>\n",
              "      <th>hour</th>\n",
              "    </tr>\n",
              "  </thead>\n",
              "  <tbody>\n",
              "    <tr>\n",
              "      <th>0</th>\n",
              "      <td>0.182</td>\n",
              "      <td>0.0030</td>\n",
              "      <td>0.0020</td>\n",
              "      <td>0.0930</td>\n",
              "      <td>0.0060</td>\n",
              "      <td>0.003</td>\n",
              "      <td>0.0</td>\n",
              "      <td>0.001</td>\n",
              "      <td>0.003</td>\n",
              "      <td>0.000</td>\n",
              "    </tr>\n",
              "    <tr>\n",
              "      <th>1</th>\n",
              "      <td>0.138</td>\n",
              "      <td>0.0030</td>\n",
              "      <td>0.0025</td>\n",
              "      <td>0.0930</td>\n",
              "      <td>0.0050</td>\n",
              "      <td>0.001</td>\n",
              "      <td>0.0</td>\n",
              "      <td>0.001</td>\n",
              "      <td>0.003</td>\n",
              "      <td>0.001</td>\n",
              "    </tr>\n",
              "    <tr>\n",
              "      <th>2</th>\n",
              "      <td>0.134</td>\n",
              "      <td>0.0025</td>\n",
              "      <td>0.0025</td>\n",
              "      <td>0.0965</td>\n",
              "      <td>0.0000</td>\n",
              "      <td>0.001</td>\n",
              "      <td>0.0</td>\n",
              "      <td>0.001</td>\n",
              "      <td>0.003</td>\n",
              "      <td>0.002</td>\n",
              "    </tr>\n",
              "    <tr>\n",
              "      <th>3</th>\n",
              "      <td>0.072</td>\n",
              "      <td>0.0020</td>\n",
              "      <td>0.0020</td>\n",
              "      <td>0.1000</td>\n",
              "      <td>0.0000</td>\n",
              "      <td>0.001</td>\n",
              "      <td>0.0</td>\n",
              "      <td>0.001</td>\n",
              "      <td>0.003</td>\n",
              "      <td>0.003</td>\n",
              "    </tr>\n",
              "    <tr>\n",
              "      <th>4</th>\n",
              "      <td>0.047</td>\n",
              "      <td>0.0020</td>\n",
              "      <td>0.0000</td>\n",
              "      <td>0.0930</td>\n",
              "      <td>0.0065</td>\n",
              "      <td>0.001</td>\n",
              "      <td>0.0</td>\n",
              "      <td>0.001</td>\n",
              "      <td>0.003</td>\n",
              "      <td>0.004</td>\n",
              "    </tr>\n",
              "    <tr>\n",
              "      <th>...</th>\n",
              "      <td>...</td>\n",
              "      <td>...</td>\n",
              "      <td>...</td>\n",
              "      <td>...</td>\n",
              "      <td>...</td>\n",
              "      <td>...</td>\n",
              "      <td>...</td>\n",
              "      <td>...</td>\n",
              "      <td>...</td>\n",
              "      <td>...</td>\n",
              "    </tr>\n",
              "    <tr>\n",
              "      <th>17409</th>\n",
              "      <td>1.042</td>\n",
              "      <td>0.0050</td>\n",
              "      <td>0.0010</td>\n",
              "      <td>0.0810</td>\n",
              "      <td>0.0190</td>\n",
              "      <td>0.003</td>\n",
              "      <td>0.0</td>\n",
              "      <td>0.000</td>\n",
              "      <td>0.003</td>\n",
              "      <td>0.019</td>\n",
              "    </tr>\n",
              "    <tr>\n",
              "      <th>17410</th>\n",
              "      <td>0.541</td>\n",
              "      <td>0.0050</td>\n",
              "      <td>0.0010</td>\n",
              "      <td>0.0810</td>\n",
              "      <td>0.0210</td>\n",
              "      <td>0.004</td>\n",
              "      <td>0.0</td>\n",
              "      <td>0.000</td>\n",
              "      <td>0.003</td>\n",
              "      <td>0.020</td>\n",
              "    </tr>\n",
              "    <tr>\n",
              "      <th>17411</th>\n",
              "      <td>0.337</td>\n",
              "      <td>0.0055</td>\n",
              "      <td>0.0015</td>\n",
              "      <td>0.0785</td>\n",
              "      <td>0.0240</td>\n",
              "      <td>0.004</td>\n",
              "      <td>0.0</td>\n",
              "      <td>0.000</td>\n",
              "      <td>0.003</td>\n",
              "      <td>0.021</td>\n",
              "    </tr>\n",
              "    <tr>\n",
              "      <th>17412</th>\n",
              "      <td>0.224</td>\n",
              "      <td>0.0055</td>\n",
              "      <td>0.0015</td>\n",
              "      <td>0.0760</td>\n",
              "      <td>0.0230</td>\n",
              "      <td>0.004</td>\n",
              "      <td>0.0</td>\n",
              "      <td>0.000</td>\n",
              "      <td>0.003</td>\n",
              "      <td>0.022</td>\n",
              "    </tr>\n",
              "    <tr>\n",
              "      <th>17413</th>\n",
              "      <td>0.139</td>\n",
              "      <td>0.0050</td>\n",
              "      <td>0.0010</td>\n",
              "      <td>0.0760</td>\n",
              "      <td>0.0220</td>\n",
              "      <td>0.002</td>\n",
              "      <td>0.0</td>\n",
              "      <td>0.000</td>\n",
              "      <td>0.003</td>\n",
              "      <td>0.023</td>\n",
              "    </tr>\n",
              "  </tbody>\n",
              "</table>\n",
              "<p>17414 rows × 10 columns</p>\n",
              "</div>"
            ],
            "text/plain": [
              "         cnt      t1      t2     hum  ...  is_holiday  is_weekend  season   hour\n",
              "0      0.182  0.0030  0.0020  0.0930  ...         0.0       0.001   0.003  0.000\n",
              "1      0.138  0.0030  0.0025  0.0930  ...         0.0       0.001   0.003  0.001\n",
              "2      0.134  0.0025  0.0025  0.0965  ...         0.0       0.001   0.003  0.002\n",
              "3      0.072  0.0020  0.0020  0.1000  ...         0.0       0.001   0.003  0.003\n",
              "4      0.047  0.0020  0.0000  0.0930  ...         0.0       0.001   0.003  0.004\n",
              "...      ...     ...     ...     ...  ...         ...         ...     ...    ...\n",
              "17409  1.042  0.0050  0.0010  0.0810  ...         0.0       0.000   0.003  0.019\n",
              "17410  0.541  0.0050  0.0010  0.0810  ...         0.0       0.000   0.003  0.020\n",
              "17411  0.337  0.0055  0.0015  0.0785  ...         0.0       0.000   0.003  0.021\n",
              "17412  0.224  0.0055  0.0015  0.0760  ...         0.0       0.000   0.003  0.022\n",
              "17413  0.139  0.0050  0.0010  0.0760  ...         0.0       0.000   0.003  0.023\n",
              "\n",
              "[17414 rows x 10 columns]"
            ]
          },
          "metadata": {
            "tags": []
          },
          "execution_count": 32
        }
      ]
    },
    {
      "cell_type": "code",
      "metadata": {
        "id": "pNiOvTt1WVyU"
      },
      "source": [
        ""
      ],
      "execution_count": 32,
      "outputs": []
    },
    {
      "cell_type": "markdown",
      "metadata": {
        "id": "3tgMsS8NUMOo"
      },
      "source": [
        "Fuente: https://stackoverflow.com/questions/19798153/difference-between-map-applymap-and-apply-methods-in-pandas/27368948#27368948\n",
        "\n",
        "Primera gran diferencia: DEFINICIÓN\n",
        "\n",
        "   - map se define en Serie SOLAMENTE\n",
        "   - applymap está definido en DataFrames SOLAMENTE\n",
        "   - apply se define en AMBOS\n",
        "\n",
        "Segunda gran diferencia: ARGUMENTO DE ENTRADA\n",
        "\n",
        "  - map acepta dicts Series, o invocable\n",
        "  - applymap y apply acepta solo llamadas\n",
        "\n",
        "Tercera gran diferencia: COMPORTAMIENTO\n",
        "\n",
        "   - map es elementwise para Series\n",
        "   - applymap es elementwise para DataFrames\n",
        "   - apply también funciona con elementos, pero es adecuado para operaciones y agregaciones más complejas. El comportamiento y el valor de retorno dependen de la función.\n",
        "\n",
        "Cuarta diferencia principal (la más importante): CASO DE USO\n",
        "\n",
        "  -  map está diseñado para mapear valores de un dominio a otro, por lo que está optimizado para el rendimiento (p. ej., df[‘A’].map({1:‘a’, 2:‘b’, 3:‘c’}))\n",
        "  - applymap es bueno para transformaciones de elementos en varias filas / columnas (p. ej., df[[‘A’, ‘B’, ‘C’]].applymap(str.strip))\n",
        "  - apply es para aplicar cualquier función que no se pueda vectorizar (p. ej., df[‘sentences’].apply(nltk.sent_tokenize))\n"
      ]
    }
  ]
}