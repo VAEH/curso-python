{
  "nbformat": 4,
  "nbformat_minor": 0,
  "metadata": {
    "colab": {
      "name": "8_concat append.ipynb",
      "provenance": [],
      "include_colab_link": true
    },
    "kernelspec": {
      "name": "python3",
      "display_name": "Python 3"
    }
  },
  "cells": [
    {
      "cell_type": "markdown",
      "metadata": {
        "id": "view-in-github",
        "colab_type": "text"
      },
      "source": [
        "<a href=\"https://colab.research.google.com/github/VAEH/curso-python/blob/master/8_concat_append.ipynb\" target=\"_parent\"><img src=\"https://colab.research.google.com/assets/colab-badge.svg\" alt=\"Open In Colab\"/></a>"
      ]
    },
    {
      "cell_type": "markdown",
      "metadata": {
        "id": "5SBFGJwyR5oj"
      },
      "source": [
        "# Concatenación de DataFrames: concat y append\n",
        "\n",
        "Concatenación de dos dataFrames"
      ]
    },
    {
      "cell_type": "code",
      "metadata": {
        "id": "77iTN-tujF-T",
        "colab": {
          "base_uri": "https://localhost:8080/",
          "height": 366
        },
        "outputId": "f6ff7d51-f41e-4c32-d40a-cd1eb9ef2808"
      },
      "source": [
        "!pip install --upgrade pandas"
      ],
      "execution_count": 1,
      "outputs": [
        {
          "output_type": "stream",
          "text": [
            "Collecting pandas\n",
            "\u001b[?25l  Downloading https://files.pythonhosted.org/packages/51/51/48f3fc47c4e2144da2806dfb6629c4dd1fa3d5a143f9652b141e979a8ca9/pandas-1.2.4-cp37-cp37m-manylinux1_x86_64.whl (9.9MB)\n",
            "\u001b[K     |████████████████████████████████| 9.9MB 5.2MB/s \n",
            "\u001b[?25hRequirement already satisfied, skipping upgrade: python-dateutil>=2.7.3 in /usr/local/lib/python3.7/dist-packages (from pandas) (2.8.1)\n",
            "Requirement already satisfied, skipping upgrade: pytz>=2017.3 in /usr/local/lib/python3.7/dist-packages (from pandas) (2018.9)\n",
            "Requirement already satisfied, skipping upgrade: numpy>=1.16.5 in /usr/local/lib/python3.7/dist-packages (from pandas) (1.19.5)\n",
            "Requirement already satisfied, skipping upgrade: six>=1.5 in /usr/local/lib/python3.7/dist-packages (from python-dateutil>=2.7.3->pandas) (1.15.0)\n",
            "\u001b[31mERROR: google-colab 1.0.0 has requirement pandas~=1.1.0; python_version >= \"3.0\", but you'll have pandas 1.2.4 which is incompatible.\u001b[0m\n",
            "Installing collected packages: pandas\n",
            "  Found existing installation: pandas 1.1.5\n",
            "    Uninstalling pandas-1.1.5:\n",
            "      Successfully uninstalled pandas-1.1.5\n",
            "Successfully installed pandas-1.2.4\n"
          ],
          "name": "stdout"
        },
        {
          "output_type": "display_data",
          "data": {
            "application/vnd.colab-display-data+json": {
              "pip_warning": {
                "packages": [
                  "pandas"
                ]
              }
            }
          },
          "metadata": {
            "tags": []
          }
        }
      ]
    },
    {
      "cell_type": "code",
      "metadata": {
        "id": "X447iCNCjHS3",
        "colab": {
          "base_uri": "https://localhost:8080/",
          "height": 36
        },
        "outputId": "6ab71d44-e1f3-4beb-ed03-bd5217f4fe5d"
      },
      "source": [
        "import pandas as pd\n",
        "import numpy as np\n",
        "pd.__version__"
      ],
      "execution_count": 1,
      "outputs": [
        {
          "output_type": "execute_result",
          "data": {
            "application/vnd.google.colaboratory.intrinsic+json": {
              "type": "string"
            },
            "text/plain": [
              "'1.2.4'"
            ]
          },
          "metadata": {
            "tags": []
          },
          "execution_count": 1
        }
      ]
    },
    {
      "cell_type": "markdown",
      "metadata": {
        "id": "8nwCct9OSM0Y"
      },
      "source": [
        "Este comando se usa para que los números que vamos a mostrar en el proceso, solo tengan dos cifras decimales. "
      ]
    },
    {
      "cell_type": "code",
      "metadata": {
        "id": "eXGnd5oojKAj"
      },
      "source": [
        "pd.options.display.float_format = '{:.2f}'.format"
      ],
      "execution_count": 2,
      "outputs": []
    },
    {
      "cell_type": "markdown",
      "metadata": {
        "id": "2NxzFYg5SclF"
      },
      "source": [
        "En la librería Numpy se puede hacer lo mismo. "
      ]
    },
    {
      "cell_type": "code",
      "metadata": {
        "id": "xPnEGLMgjPc5"
      },
      "source": [
        "np.set_printoptions(precision=1)"
      ],
      "execution_count": 3,
      "outputs": []
    },
    {
      "cell_type": "markdown",
      "metadata": {
        "id": "WXQCyc8_SnHx"
      },
      "source": [
        "Generamos números aleatorios con Numpy. Calculamos para una matriz de 2x5"
      ]
    },
    {
      "cell_type": "code",
      "metadata": {
        "id": "4mqRowankcoc",
        "colab": {
          "base_uri": "https://localhost:8080/"
        },
        "outputId": "e3d3ac99-ef38-45e9-a401-6a815956915c"
      },
      "source": [
        "x1 = np.random.rand(2,5)*10\n",
        "x1"
      ],
      "execution_count": 8,
      "outputs": [
        {
          "output_type": "execute_result",
          "data": {
            "text/plain": [
              "array([[4.8, 0.6, 6.3, 8.7, 2.6],\n",
              "       [9. , 7. , 6.2, 2. , 3.1]])"
            ]
          },
          "metadata": {
            "tags": []
          },
          "execution_count": 8
        }
      ]
    },
    {
      "cell_type": "markdown",
      "metadata": {
        "id": "yRiM0l6eS65a"
      },
      "source": [
        "Esta vez calculamos para números negativos, que nos va a permitir identificar cuando vamos a concatenar. "
      ]
    },
    {
      "cell_type": "code",
      "metadata": {
        "id": "sxrNdr-xkfdA",
        "colab": {
          "base_uri": "https://localhost:8080/"
        },
        "outputId": "5015c064-e301-4465-e9a1-8394f4d4f7e1"
      },
      "source": [
        "x2 = np.random.rand(2,5)*-1\n",
        "x2"
      ],
      "execution_count": 6,
      "outputs": [
        {
          "output_type": "execute_result",
          "data": {
            "text/plain": [
              "array([[-0.6, -0.4, -0.7, -0.3, -0.2],\n",
              "       [-0.6, -0.2, -0.7, -0.1, -0.1]])"
            ]
          },
          "metadata": {
            "tags": []
          },
          "execution_count": 6
        }
      ]
    },
    {
      "cell_type": "markdown",
      "metadata": {
        "id": "SlY3clGbTMUy"
      },
      "source": [
        "`Numpy` puede concatenar matrices usando la función `concatenate([])`, en una lista de objetos, se oolocan las dos matrices.\n",
        "\n",
        "La primer parte 'X1', se ha puesto en la parte de encima y 'X2' en la parte de abajo, quedan concatenados. "
      ]
    },
    {
      "cell_type": "code",
      "metadata": {
        "id": "t1jg4bExktWM",
        "colab": {
          "base_uri": "https://localhost:8080/"
        },
        "outputId": "20ba9656-5e27-4208-a61e-df820081d776"
      },
      "source": [
        "np.concatenate([x1,x2])"
      ],
      "execution_count": 9,
      "outputs": [
        {
          "output_type": "execute_result",
          "data": {
            "text/plain": [
              "array([[ 4.8,  0.6,  6.3,  8.7,  2.6],\n",
              "       [ 9. ,  7. ,  6.2,  2. ,  3.1],\n",
              "       [-0.6, -0.4, -0.7, -0.3, -0.2],\n",
              "       [-0.6, -0.2, -0.7, -0.1, -0.1]])"
            ]
          },
          "metadata": {
            "tags": []
          },
          "execution_count": 9
        }
      ]
    },
    {
      "cell_type": "markdown",
      "metadata": {
        "id": "zHDPm_eOT6qW"
      },
      "source": [
        "vemos las dimensiones. "
      ]
    },
    {
      "cell_type": "code",
      "metadata": {
        "id": "yDOCIr1Kkyrk",
        "colab": {
          "base_uri": "https://localhost:8080/",
          "height": 34
        },
        "outputId": "9f9d4ca8-3a51-45ac-cbe7-5ce1c3118bf7"
      },
      "source": [
        "np.concatenate([x1,x2]).shape"
      ],
      "execution_count": null,
      "outputs": [
        {
          "output_type": "execute_result",
          "data": {
            "text/plain": [
              "(4, 5)"
            ]
          },
          "metadata": {
            "tags": []
          },
          "execution_count": 17
        }
      ]
    },
    {
      "cell_type": "markdown",
      "metadata": {
        "id": "N353r752T9n0"
      },
      "source": [
        "Se puede concatenar en el eje de las columnas, esto se hace especificando el eje a traves de `axis=1`"
      ]
    },
    {
      "cell_type": "code",
      "metadata": {
        "id": "LKFVJVWclC0M",
        "colab": {
          "base_uri": "https://localhost:8080/"
        },
        "outputId": "adb16aa5-0ba5-4f78-967f-5c13f876821b"
      },
      "source": [
        "np.concatenate([x1,x2], axis = 1)"
      ],
      "execution_count": 10,
      "outputs": [
        {
          "output_type": "execute_result",
          "data": {
            "text/plain": [
              "array([[ 4.8,  0.6,  6.3,  8.7,  2.6, -0.6, -0.4, -0.7, -0.3, -0.2],\n",
              "       [ 9. ,  7. ,  6.2,  2. ,  3.1, -0.6, -0.2, -0.7, -0.1, -0.1]])"
            ]
          },
          "metadata": {
            "tags": []
          },
          "execution_count": 10
        }
      ]
    },
    {
      "cell_type": "markdown",
      "metadata": {
        "id": "ILhwkg5GUONA"
      },
      "source": [
        "vemos dimensiones. "
      ]
    },
    {
      "cell_type": "code",
      "metadata": {
        "id": "5LgWVdqdlGJO",
        "colab": {
          "base_uri": "https://localhost:8080/",
          "height": 34
        },
        "outputId": "c672d23e-1263-46e9-d3ee-37d3c67cad00"
      },
      "source": [
        "np.concatenate([x1,x2], axis = 1).shape"
      ],
      "execution_count": null,
      "outputs": [
        {
          "output_type": "execute_result",
          "data": {
            "text/plain": [
              "(2, 10)"
            ]
          },
          "metadata": {
            "tags": []
          },
          "execution_count": 19
        }
      ]
    },
    {
      "cell_type": "markdown",
      "metadata": {
        "id": "2MLpJw22USfM"
      },
      "source": [
        "Ahora se ve la concatenación con **Pandas**. Usamos `.series()` cogemos la primer fila y definimos los indices del elemento.  "
      ]
    },
    {
      "cell_type": "code",
      "metadata": {
        "id": "EBGPg7UalIF4",
        "colab": {
          "base_uri": "https://localhost:8080/"
        },
        "outputId": "dde1d31d-8a96-4d77-aad5-a030b2a03d8a"
      },
      "source": [
        "s1 = pd.Series(x1[0],index = ['a','b','c','d','e'])\n",
        "s1"
      ],
      "execution_count": 11,
      "outputs": [
        {
          "output_type": "execute_result",
          "data": {
            "text/plain": [
              "a   4.82\n",
              "b   0.60\n",
              "c   6.35\n",
              "d   8.71\n",
              "e   2.55\n",
              "dtype: float64"
            ]
          },
          "metadata": {
            "tags": []
          },
          "execution_count": 11
        }
      ]
    },
    {
      "cell_type": "markdown",
      "metadata": {
        "id": "dvoC7rTxVeQI"
      },
      "source": [
        "Tomamos los otros y se hace lo mismo. "
      ]
    },
    {
      "cell_type": "code",
      "metadata": {
        "id": "XYVqHdmBlUF4",
        "colab": {
          "base_uri": "https://localhost:8080/",
          "height": 121
        },
        "outputId": "40abfa0a-8343-4e56-e60d-e8f3111564b1"
      },
      "source": [
        "s2 = pd.Series(x2[0],index = ['c','d','e','f','g'])\n",
        "s2"
      ],
      "execution_count": null,
      "outputs": [
        {
          "output_type": "execute_result",
          "data": {
            "text/plain": [
              "c   -0.34\n",
              "d   -0.73\n",
              "e   -0.38\n",
              "f   -0.54\n",
              "g   -0.04\n",
              "dtype: float64"
            ]
          },
          "metadata": {
            "tags": []
          },
          "execution_count": 21
        }
      ]
    },
    {
      "cell_type": "markdown",
      "metadata": {
        "id": "NPu6jxukVkBY"
      },
      "source": [
        "Para hacer una concatenación en Pandas, usamos `.concat()` se coloca la lista de las series que queremos concatenar. usamos `axis=1` para alterar el comportamiento y que la concatenacón se haga al lado de la columna y no de bajo.  \n",
        "\n",
        "Se concatenaron a los largo de las columnas. Se tiene en cuenta que cuando se concatena, se respeta los indices a los que pertenece. "
      ]
    },
    {
      "cell_type": "code",
      "metadata": {
        "id": "78UF_X88lZx3",
        "colab": {
          "base_uri": "https://localhost:8080/",
          "height": 269
        },
        "outputId": "f42f8eec-22b9-498c-d8c0-cd06f766b810"
      },
      "source": [
        "pd.concat([s1,s2], axis=1)"
      ],
      "execution_count": null,
      "outputs": [
        {
          "output_type": "execute_result",
          "data": {
            "text/html": [
              "<div>\n",
              "<style scoped>\n",
              "    .dataframe tbody tr th:only-of-type {\n",
              "        vertical-align: middle;\n",
              "    }\n",
              "\n",
              "    .dataframe tbody tr th {\n",
              "        vertical-align: top;\n",
              "    }\n",
              "\n",
              "    .dataframe thead th {\n",
              "        text-align: right;\n",
              "    }\n",
              "</style>\n",
              "<table border=\"1\" class=\"dataframe\">\n",
              "  <thead>\n",
              "    <tr style=\"text-align: right;\">\n",
              "      <th></th>\n",
              "      <th>0</th>\n",
              "      <th>1</th>\n",
              "    </tr>\n",
              "  </thead>\n",
              "  <tbody>\n",
              "    <tr>\n",
              "      <th>a</th>\n",
              "      <td>6.44</td>\n",
              "      <td>nan</td>\n",
              "    </tr>\n",
              "    <tr>\n",
              "      <th>b</th>\n",
              "      <td>0.10</td>\n",
              "      <td>nan</td>\n",
              "    </tr>\n",
              "    <tr>\n",
              "      <th>c</th>\n",
              "      <td>2.05</td>\n",
              "      <td>-0.34</td>\n",
              "    </tr>\n",
              "    <tr>\n",
              "      <th>d</th>\n",
              "      <td>8.71</td>\n",
              "      <td>-0.73</td>\n",
              "    </tr>\n",
              "    <tr>\n",
              "      <th>e</th>\n",
              "      <td>5.20</td>\n",
              "      <td>-0.38</td>\n",
              "    </tr>\n",
              "    <tr>\n",
              "      <th>f</th>\n",
              "      <td>nan</td>\n",
              "      <td>-0.54</td>\n",
              "    </tr>\n",
              "    <tr>\n",
              "      <th>g</th>\n",
              "      <td>nan</td>\n",
              "      <td>-0.04</td>\n",
              "    </tr>\n",
              "  </tbody>\n",
              "</table>\n",
              "</div>"
            ],
            "text/plain": [
              "     0     1\n",
              "a 6.44   nan\n",
              "b 0.10   nan\n",
              "c 2.05 -0.34\n",
              "d 8.71 -0.73\n",
              "e 5.20 -0.38\n",
              "f  nan -0.54\n",
              "g  nan -0.04"
            ]
          },
          "metadata": {
            "tags": []
          },
          "execution_count": 23
        }
      ]
    },
    {
      "cell_type": "markdown",
      "metadata": {
        "id": "8Lf_1QM6Whin"
      },
      "source": [
        "Sí el objetivo es concatenar dos series a lo largo del eje de las columnas, sin respectar el indice, lo que podemos hacer es simplemente resetear su indice, esto se hace a traves del comando `.reset_index()`, el cual borra el indice previamente definido. Para que no siga apareciendo como columna se puede ingresra el parametro `drop=True`"
      ]
    },
    {
      "cell_type": "code",
      "metadata": {
        "id": "FzRCYzxUlfV2",
        "colab": {
          "base_uri": "https://localhost:8080/",
          "height": 121
        },
        "outputId": "65f13837-902f-442a-e9fa-86631a55a53f"
      },
      "source": [
        "s1.reset_index(drop=True)"
      ],
      "execution_count": null,
      "outputs": [
        {
          "output_type": "execute_result",
          "data": {
            "text/plain": [
              "0   6.44\n",
              "1   0.10\n",
              "2   2.05\n",
              "3   8.71\n",
              "4   5.20\n",
              "dtype: float64"
            ]
          },
          "metadata": {
            "tags": []
          },
          "execution_count": 25
        }
      ]
    },
    {
      "cell_type": "markdown",
      "metadata": {
        "id": "N1sPBkbWXNpL"
      },
      "source": [
        "Se concatena las dos series definidas previamente, pero está vez ya no respeta el indice, bueno, se continua respetando pero sin embargo, se respeta el nuevo indice que se ha creado con `reset_index()`"
      ]
    },
    {
      "cell_type": "code",
      "metadata": {
        "id": "RF43POpNmQJP",
        "colab": {
          "base_uri": "https://localhost:8080/",
          "height": 206
        },
        "outputId": "c9225082-8b3c-4272-d93e-682be887ab78"
      },
      "source": [
        "pd.concat([s1.reset_index(drop=True),s2.reset_index(drop=True)], axis=1)"
      ],
      "execution_count": null,
      "outputs": [
        {
          "output_type": "execute_result",
          "data": {
            "text/html": [
              "<div>\n",
              "<style scoped>\n",
              "    .dataframe tbody tr th:only-of-type {\n",
              "        vertical-align: middle;\n",
              "    }\n",
              "\n",
              "    .dataframe tbody tr th {\n",
              "        vertical-align: top;\n",
              "    }\n",
              "\n",
              "    .dataframe thead th {\n",
              "        text-align: right;\n",
              "    }\n",
              "</style>\n",
              "<table border=\"1\" class=\"dataframe\">\n",
              "  <thead>\n",
              "    <tr style=\"text-align: right;\">\n",
              "      <th></th>\n",
              "      <th>0</th>\n",
              "      <th>1</th>\n",
              "    </tr>\n",
              "  </thead>\n",
              "  <tbody>\n",
              "    <tr>\n",
              "      <th>0</th>\n",
              "      <td>6.44</td>\n",
              "      <td>-0.34</td>\n",
              "    </tr>\n",
              "    <tr>\n",
              "      <th>1</th>\n",
              "      <td>0.10</td>\n",
              "      <td>-0.73</td>\n",
              "    </tr>\n",
              "    <tr>\n",
              "      <th>2</th>\n",
              "      <td>2.05</td>\n",
              "      <td>-0.38</td>\n",
              "    </tr>\n",
              "    <tr>\n",
              "      <th>3</th>\n",
              "      <td>8.71</td>\n",
              "      <td>-0.54</td>\n",
              "    </tr>\n",
              "    <tr>\n",
              "      <th>4</th>\n",
              "      <td>5.20</td>\n",
              "      <td>-0.04</td>\n",
              "    </tr>\n",
              "  </tbody>\n",
              "</table>\n",
              "</div>"
            ],
            "text/plain": [
              "     0     1\n",
              "0 6.44 -0.34\n",
              "1 0.10 -0.73\n",
              "2 2.05 -0.38\n",
              "3 8.71 -0.54\n",
              "4 5.20 -0.04"
            ]
          },
          "metadata": {
            "tags": []
          },
          "execution_count": 26
        }
      ]
    },
    {
      "cell_type": "markdown",
      "metadata": {
        "id": "Dknk4nYyXMVa"
      },
      "source": [
        "### Concatenación de DataFrames\n",
        "\n",
        "Se crea la matriz de 3x2 con números entre 0 y 3, cuyas columnas son 'a' y 'b' "
      ]
    },
    {
      "cell_type": "code",
      "metadata": {
        "id": "74VOg_VjmXGG",
        "colab": {
          "base_uri": "https://localhost:8080/",
          "height": 143
        },
        "outputId": "b85dfaec-a65c-4950-ca85-56fb7aae2970"
      },
      "source": [
        "df1 = pd.DataFrame(np.random.rand(3,2)*10,columns=['a','b'])\n",
        "df1"
      ],
      "execution_count": 12,
      "outputs": [
        {
          "output_type": "execute_result",
          "data": {
            "text/html": [
              "<div>\n",
              "<style scoped>\n",
              "    .dataframe tbody tr th:only-of-type {\n",
              "        vertical-align: middle;\n",
              "    }\n",
              "\n",
              "    .dataframe tbody tr th {\n",
              "        vertical-align: top;\n",
              "    }\n",
              "\n",
              "    .dataframe thead th {\n",
              "        text-align: right;\n",
              "    }\n",
              "</style>\n",
              "<table border=\"1\" class=\"dataframe\">\n",
              "  <thead>\n",
              "    <tr style=\"text-align: right;\">\n",
              "      <th></th>\n",
              "      <th>a</th>\n",
              "      <th>b</th>\n",
              "    </tr>\n",
              "  </thead>\n",
              "  <tbody>\n",
              "    <tr>\n",
              "      <th>0</th>\n",
              "      <td>5.67</td>\n",
              "      <td>1.69</td>\n",
              "    </tr>\n",
              "    <tr>\n",
              "      <th>1</th>\n",
              "      <td>3.93</td>\n",
              "      <td>2.45</td>\n",
              "    </tr>\n",
              "    <tr>\n",
              "      <th>2</th>\n",
              "      <td>0.68</td>\n",
              "      <td>2.99</td>\n",
              "    </tr>\n",
              "  </tbody>\n",
              "</table>\n",
              "</div>"
            ],
            "text/plain": [
              "     a    b\n",
              "0 5.67 1.69\n",
              "1 3.93 2.45\n",
              "2 0.68 2.99"
            ]
          },
          "metadata": {
            "tags": []
          },
          "execution_count": 12
        }
      ]
    },
    {
      "cell_type": "code",
      "metadata": {
        "id": "-f2RcNETmmF5",
        "colab": {
          "base_uri": "https://localhost:8080/",
          "height": 143
        },
        "outputId": "7dae0368-2ac8-4395-ff3c-d6d55ca68bd7"
      },
      "source": [
        "#Decimos que sus indices sean: 2,3,4\n",
        "df2 = pd.DataFrame(np.random.rand(3,2)*-1,columns=['a','b'], index = [2,3,4])\n",
        "df2"
      ],
      "execution_count": 13,
      "outputs": [
        {
          "output_type": "execute_result",
          "data": {
            "text/html": [
              "<div>\n",
              "<style scoped>\n",
              "    .dataframe tbody tr th:only-of-type {\n",
              "        vertical-align: middle;\n",
              "    }\n",
              "\n",
              "    .dataframe tbody tr th {\n",
              "        vertical-align: top;\n",
              "    }\n",
              "\n",
              "    .dataframe thead th {\n",
              "        text-align: right;\n",
              "    }\n",
              "</style>\n",
              "<table border=\"1\" class=\"dataframe\">\n",
              "  <thead>\n",
              "    <tr style=\"text-align: right;\">\n",
              "      <th></th>\n",
              "      <th>a</th>\n",
              "      <th>b</th>\n",
              "    </tr>\n",
              "  </thead>\n",
              "  <tbody>\n",
              "    <tr>\n",
              "      <th>2</th>\n",
              "      <td>-0.52</td>\n",
              "      <td>-0.05</td>\n",
              "    </tr>\n",
              "    <tr>\n",
              "      <th>3</th>\n",
              "      <td>-0.83</td>\n",
              "      <td>-0.25</td>\n",
              "    </tr>\n",
              "    <tr>\n",
              "      <th>4</th>\n",
              "      <td>-0.31</td>\n",
              "      <td>-0.50</td>\n",
              "    </tr>\n",
              "  </tbody>\n",
              "</table>\n",
              "</div>"
            ],
            "text/plain": [
              "      a     b\n",
              "2 -0.52 -0.05\n",
              "3 -0.83 -0.25\n",
              "4 -0.31 -0.50"
            ]
          },
          "metadata": {
            "tags": []
          },
          "execution_count": 13
        }
      ]
    },
    {
      "cell_type": "markdown",
      "metadata": {
        "id": "Bn2QmOo_ZUH8"
      },
      "source": [
        "Usamoa `.concat([])` para concatenar los dos dataframes "
      ]
    },
    {
      "cell_type": "code",
      "metadata": {
        "id": "E4KCO1lBmveb",
        "colab": {
          "base_uri": "https://localhost:8080/",
          "height": 238
        },
        "outputId": "6f1ba8dd-c15c-4abd-8247-c7361716f0a7"
      },
      "source": [
        "pd.concat([df1,df2])\n",
        "#Vemos que se repide el indice 2"
      ],
      "execution_count": null,
      "outputs": [
        {
          "output_type": "execute_result",
          "data": {
            "text/html": [
              "<div>\n",
              "<style scoped>\n",
              "    .dataframe tbody tr th:only-of-type {\n",
              "        vertical-align: middle;\n",
              "    }\n",
              "\n",
              "    .dataframe tbody tr th {\n",
              "        vertical-align: top;\n",
              "    }\n",
              "\n",
              "    .dataframe thead th {\n",
              "        text-align: right;\n",
              "    }\n",
              "</style>\n",
              "<table border=\"1\" class=\"dataframe\">\n",
              "  <thead>\n",
              "    <tr style=\"text-align: right;\">\n",
              "      <th></th>\n",
              "      <th>a</th>\n",
              "      <th>b</th>\n",
              "    </tr>\n",
              "  </thead>\n",
              "  <tbody>\n",
              "    <tr>\n",
              "      <th>0</th>\n",
              "      <td>1.29</td>\n",
              "      <td>5.86</td>\n",
              "    </tr>\n",
              "    <tr>\n",
              "      <th>1</th>\n",
              "      <td>7.82</td>\n",
              "      <td>1.88</td>\n",
              "    </tr>\n",
              "    <tr>\n",
              "      <th>2</th>\n",
              "      <td>8.89</td>\n",
              "      <td>9.38</td>\n",
              "    </tr>\n",
              "    <tr>\n",
              "      <th>2</th>\n",
              "      <td>-0.22</td>\n",
              "      <td>-0.92</td>\n",
              "    </tr>\n",
              "    <tr>\n",
              "      <th>3</th>\n",
              "      <td>-0.59</td>\n",
              "      <td>-0.36</td>\n",
              "    </tr>\n",
              "    <tr>\n",
              "      <th>4</th>\n",
              "      <td>-0.13</td>\n",
              "      <td>-0.91</td>\n",
              "    </tr>\n",
              "  </tbody>\n",
              "</table>\n",
              "</div>"
            ],
            "text/plain": [
              "      a     b\n",
              "0  1.29  5.86\n",
              "1  7.82  1.88\n",
              "2  8.89  9.38\n",
              "2 -0.22 -0.92\n",
              "3 -0.59 -0.36\n",
              "4 -0.13 -0.91"
            ]
          },
          "metadata": {
            "tags": []
          },
          "execution_count": 29
        }
      ]
    },
    {
      "cell_type": "markdown",
      "metadata": {
        "id": "ziOgO9TvZcr_"
      },
      "source": [
        "Concatenación a lo largo de las columnas, especificamos el eje con el parametro `axis=1`"
      ]
    },
    {
      "cell_type": "code",
      "metadata": {
        "id": "phNZ2JSPmyxz",
        "colab": {
          "base_uri": "https://localhost:8080/",
          "height": 206
        },
        "outputId": "987a88fb-bcca-4e6e-a03e-95e002a40dff"
      },
      "source": [
        "pd.concat([df1,df2], axis=1)"
      ],
      "execution_count": null,
      "outputs": [
        {
          "output_type": "execute_result",
          "data": {
            "text/html": [
              "<div>\n",
              "<style scoped>\n",
              "    .dataframe tbody tr th:only-of-type {\n",
              "        vertical-align: middle;\n",
              "    }\n",
              "\n",
              "    .dataframe tbody tr th {\n",
              "        vertical-align: top;\n",
              "    }\n",
              "\n",
              "    .dataframe thead th {\n",
              "        text-align: right;\n",
              "    }\n",
              "</style>\n",
              "<table border=\"1\" class=\"dataframe\">\n",
              "  <thead>\n",
              "    <tr style=\"text-align: right;\">\n",
              "      <th></th>\n",
              "      <th>a</th>\n",
              "      <th>b</th>\n",
              "      <th>a</th>\n",
              "      <th>b</th>\n",
              "    </tr>\n",
              "  </thead>\n",
              "  <tbody>\n",
              "    <tr>\n",
              "      <th>0</th>\n",
              "      <td>1.29</td>\n",
              "      <td>5.86</td>\n",
              "      <td>nan</td>\n",
              "      <td>nan</td>\n",
              "    </tr>\n",
              "    <tr>\n",
              "      <th>1</th>\n",
              "      <td>7.82</td>\n",
              "      <td>1.88</td>\n",
              "      <td>nan</td>\n",
              "      <td>nan</td>\n",
              "    </tr>\n",
              "    <tr>\n",
              "      <th>2</th>\n",
              "      <td>8.89</td>\n",
              "      <td>9.38</td>\n",
              "      <td>-0.22</td>\n",
              "      <td>-0.92</td>\n",
              "    </tr>\n",
              "    <tr>\n",
              "      <th>3</th>\n",
              "      <td>nan</td>\n",
              "      <td>nan</td>\n",
              "      <td>-0.59</td>\n",
              "      <td>-0.36</td>\n",
              "    </tr>\n",
              "    <tr>\n",
              "      <th>4</th>\n",
              "      <td>nan</td>\n",
              "      <td>nan</td>\n",
              "      <td>-0.13</td>\n",
              "      <td>-0.91</td>\n",
              "    </tr>\n",
              "  </tbody>\n",
              "</table>\n",
              "</div>"
            ],
            "text/plain": [
              "     a    b     a     b\n",
              "0 1.29 5.86   nan   nan\n",
              "1 7.82 1.88   nan   nan\n",
              "2 8.89 9.38 -0.22 -0.92\n",
              "3  nan  nan -0.59 -0.36\n",
              "4  nan  nan -0.13 -0.91"
            ]
          },
          "metadata": {
            "tags": []
          },
          "execution_count": 30
        }
      ]
    },
    {
      "cell_type": "markdown",
      "metadata": {
        "id": "PV2wetbIZxdC"
      },
      "source": [
        "Si hacemos la concatenación de dos dataframes, y se quiere hacer enfasis en la columna que se comparten, lo podemos hacer atraves del argumento`join='inner'`.\n",
        "\n",
        "Obtenemos la fila donde los dos dataframes comparten el indice. "
      ]
    },
    {
      "cell_type": "code",
      "metadata": {
        "id": "ksEF8rUmm31c",
        "colab": {
          "base_uri": "https://localhost:8080/",
          "height": 81
        },
        "outputId": "1b81c436-fa4f-4b54-b498-ef85f75d3db7"
      },
      "source": [
        "pd.concat([df1,df2], axis=1, join='inner')"
      ],
      "execution_count": null,
      "outputs": [
        {
          "output_type": "execute_result",
          "data": {
            "text/html": [
              "<div>\n",
              "<style scoped>\n",
              "    .dataframe tbody tr th:only-of-type {\n",
              "        vertical-align: middle;\n",
              "    }\n",
              "\n",
              "    .dataframe tbody tr th {\n",
              "        vertical-align: top;\n",
              "    }\n",
              "\n",
              "    .dataframe thead th {\n",
              "        text-align: right;\n",
              "    }\n",
              "</style>\n",
              "<table border=\"1\" class=\"dataframe\">\n",
              "  <thead>\n",
              "    <tr style=\"text-align: right;\">\n",
              "      <th></th>\n",
              "      <th>a</th>\n",
              "      <th>b</th>\n",
              "      <th>a</th>\n",
              "      <th>b</th>\n",
              "    </tr>\n",
              "  </thead>\n",
              "  <tbody>\n",
              "    <tr>\n",
              "      <th>2</th>\n",
              "      <td>8.89</td>\n",
              "      <td>9.38</td>\n",
              "      <td>-0.22</td>\n",
              "      <td>-0.92</td>\n",
              "    </tr>\n",
              "  </tbody>\n",
              "</table>\n",
              "</div>"
            ],
            "text/plain": [
              "     a    b     a     b\n",
              "2 8.89 9.38 -0.22 -0.92"
            ]
          },
          "metadata": {
            "tags": []
          },
          "execution_count": 31
        }
      ]
    },
    {
      "cell_type": "markdown",
      "metadata": {
        "id": "TyRNyTzhaMfY"
      },
      "source": [
        "Si no se quiere respectar suus indices, se hace de la siguiente forma, reseteando sus indices previamente `.reset_index(drop=True)`"
      ]
    },
    {
      "cell_type": "code",
      "metadata": {
        "id": "p6vPzhFym-R7",
        "colab": {
          "base_uri": "https://localhost:8080/",
          "height": 143
        },
        "outputId": "18fff3ac-7384-400c-e988-ccb503edc1bd"
      },
      "source": [
        "pd.concat([\n",
        "           df1.reset_index(drop=True),\n",
        "           df2.reset_index(drop=True)\n",
        "           ], axis=1)"
      ],
      "execution_count": null,
      "outputs": [
        {
          "output_type": "execute_result",
          "data": {
            "text/html": [
              "<div>\n",
              "<style scoped>\n",
              "    .dataframe tbody tr th:only-of-type {\n",
              "        vertical-align: middle;\n",
              "    }\n",
              "\n",
              "    .dataframe tbody tr th {\n",
              "        vertical-align: top;\n",
              "    }\n",
              "\n",
              "    .dataframe thead th {\n",
              "        text-align: right;\n",
              "    }\n",
              "</style>\n",
              "<table border=\"1\" class=\"dataframe\">\n",
              "  <thead>\n",
              "    <tr style=\"text-align: right;\">\n",
              "      <th></th>\n",
              "      <th>a</th>\n",
              "      <th>b</th>\n",
              "      <th>a</th>\n",
              "      <th>b</th>\n",
              "    </tr>\n",
              "  </thead>\n",
              "  <tbody>\n",
              "    <tr>\n",
              "      <th>0</th>\n",
              "      <td>1.29</td>\n",
              "      <td>5.86</td>\n",
              "      <td>-0.22</td>\n",
              "      <td>-0.92</td>\n",
              "    </tr>\n",
              "    <tr>\n",
              "      <th>1</th>\n",
              "      <td>7.82</td>\n",
              "      <td>1.88</td>\n",
              "      <td>-0.59</td>\n",
              "      <td>-0.36</td>\n",
              "    </tr>\n",
              "    <tr>\n",
              "      <th>2</th>\n",
              "      <td>8.89</td>\n",
              "      <td>9.38</td>\n",
              "      <td>-0.13</td>\n",
              "      <td>-0.91</td>\n",
              "    </tr>\n",
              "  </tbody>\n",
              "</table>\n",
              "</div>"
            ],
            "text/plain": [
              "     a    b     a     b\n",
              "0 1.29 5.86 -0.22 -0.92\n",
              "1 7.82 1.88 -0.59 -0.36\n",
              "2 8.89 9.38 -0.13 -0.91"
            ]
          },
          "metadata": {
            "tags": []
          },
          "execution_count": 32
        }
      ]
    },
    {
      "cell_type": "markdown",
      "metadata": {
        "id": "xpmSPC9naZvh"
      },
      "source": [
        " Hay una forma más simple de concatenar dataFrames y es con la función `.append()`, lo que va hacer es que la segunda matriz se va a pegar debajo de la primera. Se puede hacer `.append()` de multiples dataframes"
      ]
    },
    {
      "cell_type": "code",
      "metadata": {
        "id": "tBGtef6InKBr",
        "colab": {
          "base_uri": "https://localhost:8080/",
          "height": 332
        },
        "outputId": "c83c2e29-9702-4a66-a7b4-d36685a6cf8e"
      },
      "source": [
        "df1.append(df2).append(df2)"
      ],
      "execution_count": null,
      "outputs": [
        {
          "output_type": "execute_result",
          "data": {
            "text/html": [
              "<div>\n",
              "<style scoped>\n",
              "    .dataframe tbody tr th:only-of-type {\n",
              "        vertical-align: middle;\n",
              "    }\n",
              "\n",
              "    .dataframe tbody tr th {\n",
              "        vertical-align: top;\n",
              "    }\n",
              "\n",
              "    .dataframe thead th {\n",
              "        text-align: right;\n",
              "    }\n",
              "</style>\n",
              "<table border=\"1\" class=\"dataframe\">\n",
              "  <thead>\n",
              "    <tr style=\"text-align: right;\">\n",
              "      <th></th>\n",
              "      <th>a</th>\n",
              "      <th>b</th>\n",
              "    </tr>\n",
              "  </thead>\n",
              "  <tbody>\n",
              "    <tr>\n",
              "      <th>0</th>\n",
              "      <td>1.29</td>\n",
              "      <td>5.86</td>\n",
              "    </tr>\n",
              "    <tr>\n",
              "      <th>1</th>\n",
              "      <td>7.82</td>\n",
              "      <td>1.88</td>\n",
              "    </tr>\n",
              "    <tr>\n",
              "      <th>2</th>\n",
              "      <td>8.89</td>\n",
              "      <td>9.38</td>\n",
              "    </tr>\n",
              "    <tr>\n",
              "      <th>2</th>\n",
              "      <td>-0.22</td>\n",
              "      <td>-0.92</td>\n",
              "    </tr>\n",
              "    <tr>\n",
              "      <th>3</th>\n",
              "      <td>-0.59</td>\n",
              "      <td>-0.36</td>\n",
              "    </tr>\n",
              "    <tr>\n",
              "      <th>4</th>\n",
              "      <td>-0.13</td>\n",
              "      <td>-0.91</td>\n",
              "    </tr>\n",
              "    <tr>\n",
              "      <th>2</th>\n",
              "      <td>-0.22</td>\n",
              "      <td>-0.92</td>\n",
              "    </tr>\n",
              "    <tr>\n",
              "      <th>3</th>\n",
              "      <td>-0.59</td>\n",
              "      <td>-0.36</td>\n",
              "    </tr>\n",
              "    <tr>\n",
              "      <th>4</th>\n",
              "      <td>-0.13</td>\n",
              "      <td>-0.91</td>\n",
              "    </tr>\n",
              "  </tbody>\n",
              "</table>\n",
              "</div>"
            ],
            "text/plain": [
              "      a     b\n",
              "0  1.29  5.86\n",
              "1  7.82  1.88\n",
              "2  8.89  9.38\n",
              "2 -0.22 -0.92\n",
              "3 -0.59 -0.36\n",
              "4 -0.13 -0.91\n",
              "2 -0.22 -0.92\n",
              "3 -0.59 -0.36\n",
              "4 -0.13 -0.91"
            ]
          },
          "metadata": {
            "tags": []
          },
          "execution_count": 34
        }
      ]
    },
    {
      "cell_type": "markdown",
      "metadata": {
        "id": "tP8yJ-eZa6z5"
      },
      "source": [
        "`.append` a lo largo de las columnas, se debe usar lo que se conoce como la traspuesta de nuestro dataFrame `.T` la traspuesta es simplemente invertir donde están las columnas por filas, y donde están las filas por columnas.  "
      ]
    },
    {
      "cell_type": "code",
      "metadata": {
        "id": "U38XKNDJnXcR",
        "colab": {
          "base_uri": "https://localhost:8080/",
          "height": 112
        },
        "outputId": "f3753588-e2f6-4754-a7fa-22a499d78af1"
      },
      "source": [
        "df1.T"
      ],
      "execution_count": null,
      "outputs": [
        {
          "output_type": "execute_result",
          "data": {
            "text/html": [
              "<div>\n",
              "<style scoped>\n",
              "    .dataframe tbody tr th:only-of-type {\n",
              "        vertical-align: middle;\n",
              "    }\n",
              "\n",
              "    .dataframe tbody tr th {\n",
              "        vertical-align: top;\n",
              "    }\n",
              "\n",
              "    .dataframe thead th {\n",
              "        text-align: right;\n",
              "    }\n",
              "</style>\n",
              "<table border=\"1\" class=\"dataframe\">\n",
              "  <thead>\n",
              "    <tr style=\"text-align: right;\">\n",
              "      <th></th>\n",
              "      <th>0</th>\n",
              "      <th>1</th>\n",
              "      <th>2</th>\n",
              "    </tr>\n",
              "  </thead>\n",
              "  <tbody>\n",
              "    <tr>\n",
              "      <th>a</th>\n",
              "      <td>1.29</td>\n",
              "      <td>7.82</td>\n",
              "      <td>8.89</td>\n",
              "    </tr>\n",
              "    <tr>\n",
              "      <th>b</th>\n",
              "      <td>5.86</td>\n",
              "      <td>1.88</td>\n",
              "      <td>9.38</td>\n",
              "    </tr>\n",
              "  </tbody>\n",
              "</table>\n",
              "</div>"
            ],
            "text/plain": [
              "     0    1    2\n",
              "a 1.29 7.82 8.89\n",
              "b 5.86 1.88 9.38"
            ]
          },
          "metadata": {
            "tags": []
          },
          "execution_count": 36
        }
      ]
    },
    {
      "cell_type": "markdown",
      "metadata": {
        "id": "hZ-rv2TRbTJE"
      },
      "source": [
        "Se usa `.append()` sobre la traspuesta y sobre esas dos, la traspuesta. Con esto se logra añadir la matriz a lo largo de las columnas. "
      ]
    },
    {
      "cell_type": "code",
      "metadata": {
        "id": "ZHoF6ETUnj9m",
        "colab": {
          "base_uri": "https://localhost:8080/",
          "height": 206
        },
        "outputId": "4cffbb53-9025-4475-c9ef-fac8fbd83541"
      },
      "source": [
        "df1.T.append(df2.T).T"
      ],
      "execution_count": null,
      "outputs": [
        {
          "output_type": "execute_result",
          "data": {
            "text/html": [
              "<div>\n",
              "<style scoped>\n",
              "    .dataframe tbody tr th:only-of-type {\n",
              "        vertical-align: middle;\n",
              "    }\n",
              "\n",
              "    .dataframe tbody tr th {\n",
              "        vertical-align: top;\n",
              "    }\n",
              "\n",
              "    .dataframe thead th {\n",
              "        text-align: right;\n",
              "    }\n",
              "</style>\n",
              "<table border=\"1\" class=\"dataframe\">\n",
              "  <thead>\n",
              "    <tr style=\"text-align: right;\">\n",
              "      <th></th>\n",
              "      <th>a</th>\n",
              "      <th>b</th>\n",
              "      <th>a</th>\n",
              "      <th>b</th>\n",
              "    </tr>\n",
              "  </thead>\n",
              "  <tbody>\n",
              "    <tr>\n",
              "      <th>0</th>\n",
              "      <td>1.29</td>\n",
              "      <td>5.86</td>\n",
              "      <td>nan</td>\n",
              "      <td>nan</td>\n",
              "    </tr>\n",
              "    <tr>\n",
              "      <th>1</th>\n",
              "      <td>7.82</td>\n",
              "      <td>1.88</td>\n",
              "      <td>nan</td>\n",
              "      <td>nan</td>\n",
              "    </tr>\n",
              "    <tr>\n",
              "      <th>2</th>\n",
              "      <td>8.89</td>\n",
              "      <td>9.38</td>\n",
              "      <td>-0.22</td>\n",
              "      <td>-0.92</td>\n",
              "    </tr>\n",
              "    <tr>\n",
              "      <th>3</th>\n",
              "      <td>nan</td>\n",
              "      <td>nan</td>\n",
              "      <td>-0.59</td>\n",
              "      <td>-0.36</td>\n",
              "    </tr>\n",
              "    <tr>\n",
              "      <th>4</th>\n",
              "      <td>nan</td>\n",
              "      <td>nan</td>\n",
              "      <td>-0.13</td>\n",
              "      <td>-0.91</td>\n",
              "    </tr>\n",
              "  </tbody>\n",
              "</table>\n",
              "</div>"
            ],
            "text/plain": [
              "     a    b     a     b\n",
              "0 1.29 5.86   nan   nan\n",
              "1 7.82 1.88   nan   nan\n",
              "2 8.89 9.38 -0.22 -0.92\n",
              "3  nan  nan -0.59 -0.36\n",
              "4  nan  nan -0.13 -0.91"
            ]
          },
          "metadata": {
            "tags": []
          },
          "execution_count": 37
        }
      ]
    },
    {
      "cell_type": "code",
      "metadata": {
        "id": "XHJqVcWLnobJ"
      },
      "source": [
        ""
      ],
      "execution_count": null,
      "outputs": []
    },
    {
      "cell_type": "markdown",
      "metadata": {
        "id": "dd88vHv8bvPz"
      },
      "source": [
        "Una funcionalidad extra de pandas que puede ser útil es pd.update().\n",
        "Donde básicamente si tengo df1 y df2, al hacer pdf1.update(df2) me actualiza o cambia los valores de df1 tomando los de df2 , pero sólo de las columnas que tienen en común."
      ]
    }
  ]
}
