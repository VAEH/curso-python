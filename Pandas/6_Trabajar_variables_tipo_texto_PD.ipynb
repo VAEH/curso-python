{
  "nbformat": 4,
  "nbformat_minor": 0,
  "metadata": {
    "colab": {
      "name": "6_Trabajar_variables_tipo_texto_PD.ipynb",
      "provenance": [],
      "authorship_tag": "ABX9TyMrcyy5Pf8xueceE1ZP8hVH",
      "include_colab_link": true
    },
    "kernelspec": {
      "name": "python3",
      "display_name": "Python 3"
    },
    "language_info": {
      "name": "python"
    }
  },
  "cells": [
    {
      "cell_type": "markdown",
      "metadata": {
        "id": "view-in-github",
        "colab_type": "text"
      },
      "source": [
        "<a href=\"https://colab.research.google.com/github/VAEH/curso-python/blob/master/6_Trabajar_variables_tipo_texto_PD.ipynb\" target=\"_parent\"><img src=\"https://colab.research.google.com/assets/colab-badge.svg\" alt=\"Open In Colab\"/></a>"
      ]
    },
    {
      "cell_type": "markdown",
      "metadata": {
        "id": "f8NYRkBrWrjH"
      },
      "source": [
        "# Trabajar con variables tipo texto en Pandas"
      ]
    },
    {
      "cell_type": "markdown",
      "metadata": {
        "id": "oKF-fn_pWyis"
      },
      "source": [
        "Pandas cuenta con una gran funcionalidad a la hora de interactuar con texto, es super versatil si estas interesado en crear modelos de análisis de lenguaje natural.\n",
        "\n",
        "https://platzi.com/clases/1301-expresiones-regulares/11873-uso-de-regex-para-descomponer-querys-get/\n",
        "\n",
        "https://platzi.com/clases/python-lenguaje-natural/\n",
        "\n",
        "Comencemos cargando nuestra librería y creando un diccionario con nombres de personas."
      ]
    },
    {
      "cell_type": "code",
      "metadata": {
        "id": "3vPaiHQkWqbU"
      },
      "source": [
        "import pandas as pd\n",
        "data = {'names':['Sara Moreno 34',\n",
        "                 'jUAn GOMez 23',\n",
        "                 'CArlos mArtinez 89',\n",
        "                 'Alfredo VelaZques 3',\n",
        "                 'luis Mora 56',\n",
        "                 '@freddier #platzi 10',pd.NA]}"
      ],
      "execution_count": 1,
      "outputs": []
    },
    {
      "cell_type": "markdown",
      "metadata": {
        "id": "GIlJ_wt6W7Rj"
      },
      "source": [
        "Usemos los datos del diccionario para crear nuestro DataFrame. Nuestro DataFrame contiene una columna tipo texto, con variedades de caracteres especiales, números, mayúsculas e inclusive variables nulas."
      ]
    },
    {
      "cell_type": "code",
      "metadata": {
        "colab": {
          "base_uri": "https://localhost:8080/",
          "height": 269
        },
        "id": "Ubo1GHpGW5J-",
        "outputId": "baa1e7d5-9be2-4a60-ab3c-e79f36ff5657"
      },
      "source": [
        "df = pd.DataFrame(data)\n",
        "df\n"
      ],
      "execution_count": 2,
      "outputs": [
        {
          "output_type": "execute_result",
          "data": {
            "text/html": [
              "<div>\n",
              "<style scoped>\n",
              "    .dataframe tbody tr th:only-of-type {\n",
              "        vertical-align: middle;\n",
              "    }\n",
              "\n",
              "    .dataframe tbody tr th {\n",
              "        vertical-align: top;\n",
              "    }\n",
              "\n",
              "    .dataframe thead th {\n",
              "        text-align: right;\n",
              "    }\n",
              "</style>\n",
              "<table border=\"1\" class=\"dataframe\">\n",
              "  <thead>\n",
              "    <tr style=\"text-align: right;\">\n",
              "      <th></th>\n",
              "      <th>names</th>\n",
              "    </tr>\n",
              "  </thead>\n",
              "  <tbody>\n",
              "    <tr>\n",
              "      <th>0</th>\n",
              "      <td>Sara Moreno 34</td>\n",
              "    </tr>\n",
              "    <tr>\n",
              "      <th>1</th>\n",
              "      <td>jUAn GOMez 23</td>\n",
              "    </tr>\n",
              "    <tr>\n",
              "      <th>2</th>\n",
              "      <td>CArlos mArtinez 89</td>\n",
              "    </tr>\n",
              "    <tr>\n",
              "      <th>3</th>\n",
              "      <td>Alfredo VelaZques 3</td>\n",
              "    </tr>\n",
              "    <tr>\n",
              "      <th>4</th>\n",
              "      <td>luis Mora 56</td>\n",
              "    </tr>\n",
              "    <tr>\n",
              "      <th>5</th>\n",
              "      <td>@freddier #platzi 10</td>\n",
              "    </tr>\n",
              "    <tr>\n",
              "      <th>6</th>\n",
              "      <td>&lt;NA&gt;</td>\n",
              "    </tr>\n",
              "  </tbody>\n",
              "</table>\n",
              "</div>"
            ],
            "text/plain": [
              "                  names\n",
              "0        Sara Moreno 34\n",
              "1         jUAn GOMez 23\n",
              "2    CArlos mArtinez 89\n",
              "3   Alfredo VelaZques 3\n",
              "4          luis Mora 56\n",
              "5  @freddier #platzi 10\n",
              "6                  <NA>"
            ]
          },
          "metadata": {
            "tags": []
          },
          "execution_count": 2
        }
      ]
    },
    {
      "cell_type": "markdown",
      "metadata": {
        "id": "haL8AFu3W-i9"
      },
      "source": [
        "Para usar las funciones asociadas a texto usamos str en nuestro DataFrame, por ejemplo, si se quiere colocar el texto en minúscula, basta con escribir:"
      ]
    },
    {
      "cell_type": "code",
      "metadata": {
        "colab": {
          "base_uri": "https://localhost:8080/"
        },
        "id": "Egw8ZrHmXH-V",
        "outputId": "7f980949-853c-4e50-88bc-1d6a4723eeac"
      },
      "source": [
        "df['names'].str.lower()"
      ],
      "execution_count": 3,
      "outputs": [
        {
          "output_type": "execute_result",
          "data": {
            "text/plain": [
              "0          sara moreno 34\n",
              "1           juan gomez 23\n",
              "2      carlos martinez 89\n",
              "3     alfredo velazques 3\n",
              "4            luis mora 56\n",
              "5    @freddier #platzi 10\n",
              "6                    <NA>\n",
              "Name: names, dtype: object"
            ]
          },
          "metadata": {
            "tags": []
          },
          "execution_count": 3
        }
      ]
    },
    {
      "cell_type": "markdown",
      "metadata": {
        "id": "ankxmuogXDRv"
      },
      "source": [
        "Para mayúsculas igualmente:"
      ]
    },
    {
      "cell_type": "code",
      "metadata": {
        "colab": {
          "base_uri": "https://localhost:8080/"
        },
        "id": "Z8seqCOPXOrg",
        "outputId": "5872b776-1c89-4759-9e99-424be12fd9f5"
      },
      "source": [
        "df['names'].str.upper()"
      ],
      "execution_count": 4,
      "outputs": [
        {
          "output_type": "execute_result",
          "data": {
            "text/plain": [
              "0          SARA MORENO 34\n",
              "1           JUAN GOMEZ 23\n",
              "2      CARLOS MARTINEZ 89\n",
              "3     ALFREDO VELAZQUES 3\n",
              "4            LUIS MORA 56\n",
              "5    @FREDDIER #PLATZI 10\n",
              "6                    <NA>\n",
              "Name: names, dtype: object"
            ]
          },
          "metadata": {
            "tags": []
          },
          "execution_count": 4
        }
      ]
    },
    {
      "cell_type": "markdown",
      "metadata": {
        "id": "uX73vVyFXPnJ"
      },
      "source": [
        "O si queremos solo la primera letra en mayúscula:"
      ]
    },
    {
      "cell_type": "code",
      "metadata": {
        "colab": {
          "base_uri": "https://localhost:8080/"
        },
        "id": "7pDYQLw2XSs2",
        "outputId": "963ce703-7b71-4150-ea95-520e7934e49e"
      },
      "source": [
        "df['names'].str.capitalize()"
      ],
      "execution_count": 5,
      "outputs": [
        {
          "output_type": "execute_result",
          "data": {
            "text/plain": [
              "0          Sara moreno 34\n",
              "1           Juan gomez 23\n",
              "2      Carlos martinez 89\n",
              "3     Alfredo velazques 3\n",
              "4            Luis mora 56\n",
              "5    @freddier #platzi 10\n",
              "6                    <NA>\n",
              "Name: names, dtype: object"
            ]
          },
          "metadata": {
            "tags": []
          },
          "execution_count": 5
        }
      ]
    },
    {
      "cell_type": "markdown",
      "metadata": {
        "id": "RfoJV7koXU49"
      },
      "source": [
        "Para contar la longitud de nuestro texto usamos:"
      ]
    },
    {
      "cell_type": "code",
      "metadata": {
        "colab": {
          "base_uri": "https://localhost:8080/"
        },
        "id": "r2U3V6PGXbc6",
        "outputId": "47e0d024-ad52-45a0-fb4c-07aa45dabf50"
      },
      "source": [
        "df['names'].str.len()"
      ],
      "execution_count": 6,
      "outputs": [
        {
          "output_type": "execute_result",
          "data": {
            "text/plain": [
              "0      14\n",
              "1      13\n",
              "2      18\n",
              "3      19\n",
              "4      12\n",
              "5      20\n",
              "6    <NA>\n",
              "Name: names, dtype: object"
            ]
          },
          "metadata": {
            "tags": []
          },
          "execution_count": 6
        }
      ]
    },
    {
      "cell_type": "markdown",
      "metadata": {
        "id": "FppZtNshXihC"
      },
      "source": [
        "Para dividir el texto por espacios usamos split y definimos el carácter por\n",
        "el que queremos dividir, en este caso, un espacio vacío ' ' o '#':"
      ]
    },
    {
      "cell_type": "code",
      "metadata": {
        "colab": {
          "base_uri": "https://localhost:8080/"
        },
        "id": "W6HSCaRJXXHF",
        "outputId": "e027acd7-af7a-437b-bfe5-ed2231ae5aae"
      },
      "source": [
        "df['names'].str.split(' ')"
      ],
      "execution_count": 7,
      "outputs": [
        {
          "output_type": "execute_result",
          "data": {
            "text/plain": [
              "0          [Sara, Moreno, 34]\n",
              "1           [jUAn, GOMez, 23]\n",
              "2      [CArlos, mArtinez, 89]\n",
              "3     [Alfredo, VelaZques, 3]\n",
              "4            [luis, Mora, 56]\n",
              "5    [@freddier, #platzi, 10]\n",
              "6                        <NA>\n",
              "Name: names, dtype: object"
            ]
          },
          "metadata": {
            "tags": []
          },
          "execution_count": 7
        }
      ]
    },
    {
      "cell_type": "code",
      "metadata": {
        "colab": {
          "base_uri": "https://localhost:8080/"
        },
        "id": "EvTd7OAUXnMB",
        "outputId": "fecd3f4b-e387-400b-df94-c1de2b6ed4d3"
      },
      "source": [
        "df['names'].str.split('#')\n"
      ],
      "execution_count": 8,
      "outputs": [
        {
          "output_type": "execute_result",
          "data": {
            "text/plain": [
              "0           [Sara Moreno 34]\n",
              "1            [jUAn GOMez 23]\n",
              "2       [CArlos mArtinez 89]\n",
              "3      [Alfredo VelaZques 3]\n",
              "4             [luis Mora 56]\n",
              "5    [@freddier , platzi 10]\n",
              "6                       <NA>\n",
              "Name: names, dtype: object"
            ]
          },
          "metadata": {
            "tags": []
          },
          "execution_count": 8
        }
      ]
    },
    {
      "cell_type": "markdown",
      "metadata": {
        "id": "n3_S-yNQXpub"
      },
      "source": [
        "Para seleccionar los primeros o últimos 5 caracteres usamos:"
      ]
    },
    {
      "cell_type": "code",
      "metadata": {
        "colab": {
          "base_uri": "https://localhost:8080/"
        },
        "id": "PFZtpvB4Xrml",
        "outputId": "3fa57e67-e145-4ba3-870e-08862527c275"
      },
      "source": [
        "df['names'].str[:5]"
      ],
      "execution_count": 9,
      "outputs": [
        {
          "output_type": "execute_result",
          "data": {
            "text/plain": [
              "0    Sara \n",
              "1    jUAn \n",
              "2    CArlo\n",
              "3    Alfre\n",
              "4    luis \n",
              "5    @fred\n",
              "6     <NA>\n",
              "Name: names, dtype: object"
            ]
          },
          "metadata": {
            "tags": []
          },
          "execution_count": 9
        }
      ]
    },
    {
      "cell_type": "code",
      "metadata": {
        "colab": {
          "base_uri": "https://localhost:8080/"
        },
        "id": "3NotbLu0Xtph",
        "outputId": "7f8b57aa-6d43-4b64-8d88-58f6ed4be6ed"
      },
      "source": [
        "df['names'].str[-5:]"
      ],
      "execution_count": 10,
      "outputs": [
        {
          "output_type": "execute_result",
          "data": {
            "text/plain": [
              "0    no 34\n",
              "1    ez 23\n",
              "2    ez 89\n",
              "3    ues 3\n",
              "4    ra 56\n",
              "5    zi 10\n",
              "6     <NA>\n",
              "Name: names, dtype: object"
            ]
          },
          "metadata": {
            "tags": []
          },
          "execution_count": 10
        }
      ]
    },
    {
      "cell_type": "markdown",
      "metadata": {
        "id": "PrQD0vhdXvcJ"
      },
      "source": [
        "Podemos reemplazar una secuencia de caracteres por otra mediante:"
      ]
    },
    {
      "cell_type": "code",
      "metadata": {
        "colab": {
          "base_uri": "https://localhost:8080/"
        },
        "id": "G2r-r9GoXv9M",
        "outputId": "2212ee92-855d-443d-e6ef-5b1e0c987a84"
      },
      "source": [
        "df['names'].str.replace('Alfredo','Antonio')"
      ],
      "execution_count": 11,
      "outputs": [
        {
          "output_type": "execute_result",
          "data": {
            "text/plain": [
              "0          Sara Moreno 34\n",
              "1           jUAn GOMez 23\n",
              "2      CArlos mArtinez 89\n",
              "3     Antonio VelaZques 3\n",
              "4            luis Mora 56\n",
              "5    @freddier #platzi 10\n",
              "6                    <NA>\n",
              "Name: names, dtype: object"
            ]
          },
          "metadata": {
            "tags": []
          },
          "execution_count": 11
        }
      ]
    },
    {
      "cell_type": "markdown",
      "metadata": {
        "id": "S-G1WObQXzmw"
      },
      "source": [
        "También podemos buscar una secuencia de texto en específico, en este caso,\n",
        "'ara':"
      ]
    },
    {
      "cell_type": "code",
      "metadata": {
        "colab": {
          "base_uri": "https://localhost:8080/"
        },
        "id": "Jez7dPO7X1A9",
        "outputId": "d29c5470-a346-4294-f4ac-2d5a777237f5"
      },
      "source": [
        "df['names'].str.findall('ara')"
      ],
      "execution_count": 12,
      "outputs": [
        {
          "output_type": "execute_result",
          "data": {
            "text/plain": [
              "0    [ara]\n",
              "1       []\n",
              "2       []\n",
              "3       []\n",
              "4       []\n",
              "5       []\n",
              "6     <NA>\n",
              "Name: names, dtype: object"
            ]
          },
          "metadata": {
            "tags": []
          },
          "execution_count": 12
        }
      ]
    },
    {
      "cell_type": "markdown",
      "metadata": {
        "id": "a-ExqMwVX29y"
      },
      "source": [
        "También podemos crear un filtro basándonos en una secuencia de texto en\n",
        "específico, en este caso, las filas que tengan 'or':"
      ]
    },
    {
      "cell_type": "code",
      "metadata": {
        "colab": {
          "base_uri": "https://localhost:8080/"
        },
        "id": "l97M8uuAX4pr",
        "outputId": "8c9feb70-a3a2-4f20-f9cf-84603e2610d5"
      },
      "source": [
        "df['names'].str.contains('or')"
      ],
      "execution_count": 13,
      "outputs": [
        {
          "output_type": "execute_result",
          "data": {
            "text/plain": [
              "0     True\n",
              "1    False\n",
              "2    False\n",
              "3    False\n",
              "4     True\n",
              "5    False\n",
              "6     <NA>\n",
              "Name: names, dtype: object"
            ]
          },
          "metadata": {
            "tags": []
          },
          "execution_count": 13
        }
      ]
    },
    {
      "cell_type": "markdown",
      "metadata": {
        "id": "s1bUSSkVX6bS"
      },
      "source": [
        "Así mismo, podemos contar el número de ocurrencias de un caracter en específico,\n",
        "por ejemplo, cuántas veces aparece la letra 'a':"
      ]
    },
    {
      "cell_type": "code",
      "metadata": {
        "colab": {
          "base_uri": "https://localhost:8080/"
        },
        "id": "CUyjxmalX8VJ",
        "outputId": "e549cac4-5463-4699-9884-4d94dcea9272"
      },
      "source": [
        "df['names'].str.lower().str.count('a')\n"
      ],
      "execution_count": 14,
      "outputs": [
        {
          "output_type": "execute_result",
          "data": {
            "text/plain": [
              "0       2\n",
              "1       1\n",
              "2       2\n",
              "3       2\n",
              "4       1\n",
              "5       1\n",
              "6    <NA>\n",
              "Name: names, dtype: object"
            ]
          },
          "metadata": {
            "tags": []
          },
          "execution_count": 14
        }
      ]
    },
    {
      "cell_type": "markdown",
      "metadata": {
        "id": "iWvYZ1kVX_HH"
      },
      "source": [
        "Existen comandos más avanzados usando Regex, por ejemplo, si quiero extraer los\n",
        "caracteres numéricos:"
      ]
    },
    {
      "cell_type": "code",
      "metadata": {
        "colab": {
          "base_uri": "https://localhost:8080/"
        },
        "id": "bdNWcI0CYAtO",
        "outputId": "c1ee4b01-adf1-4aba-ead4-4a3ca92117a4"
      },
      "source": [
        "df['names'].str.extract('([0-9]+)', expand=False)"
      ],
      "execution_count": 15,
      "outputs": [
        {
          "output_type": "execute_result",
          "data": {
            "text/plain": [
              "0     34\n",
              "1     23\n",
              "2     89\n",
              "3      3\n",
              "4     56\n",
              "5     10\n",
              "6    NaN\n",
              "Name: names, dtype: object"
            ]
          },
          "metadata": {
            "tags": []
          },
          "execution_count": 15
        }
      ]
    },
    {
      "cell_type": "markdown",
      "metadata": {
        "id": "XrHXGOmDYDJf"
      },
      "source": [
        "O, por ejemplo, si quiero extraer las menciones '@xxxx' del texto:"
      ]
    },
    {
      "cell_type": "code",
      "metadata": {
        "colab": {
          "base_uri": "https://localhost:8080/"
        },
        "id": "-z4nAwWcYFGI",
        "outputId": "cab7649c-1b3f-4b09-9e80-ac4ef1c4a201"
      },
      "source": [
        "df['names'].str.replace('@[^\\s]+','')"
      ],
      "execution_count": 16,
      "outputs": [
        {
          "output_type": "execute_result",
          "data": {
            "text/plain": [
              "0         Sara Moreno 34\n",
              "1          jUAn GOMez 23\n",
              "2     CArlos mArtinez 89\n",
              "3    Alfredo VelaZques 3\n",
              "4           luis Mora 56\n",
              "5             #platzi 10\n",
              "6                   <NA>\n",
              "Name: names, dtype: object"
            ]
          },
          "metadata": {
            "tags": []
          },
          "execution_count": 16
        }
      ]
    }
  ]
}
