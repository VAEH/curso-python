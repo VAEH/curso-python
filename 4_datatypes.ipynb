{
  "nbformat": 4,
  "nbformat_minor": 0,
  "metadata": {
    "colab": {
      "name": "4. datatypes.ipynb",
      "provenance": [],
      "collapsed_sections": [],
      "include_colab_link": true
    },
    "kernelspec": {
      "name": "python3",
      "display_name": "Python 3"
    }
  },
  "cells": [
    {
      "cell_type": "markdown",
      "metadata": {
        "id": "view-in-github",
        "colab_type": "text"
      },
      "source": [
        "<a href=\"https://colab.research.google.com/github/VAEH/curso-python/blob/master/4_datatypes.ipynb\" target=\"_parent\"><img src=\"https://colab.research.google.com/assets/colab-badge.svg\" alt=\"Open In Colab\"/></a>"
      ]
    },
    {
      "cell_type": "code",
      "metadata": {
        "id": "MX6c-g8C2lYh",
        "colab": {
          "base_uri": "https://localhost:8080/",
          "height": 366
        },
        "outputId": "62547c3c-e60b-494e-901d-220233c433f8"
      },
      "source": [
        "!pip install --upgrade pandas"
      ],
      "execution_count": 1,
      "outputs": [
        {
          "output_type": "stream",
          "text": [
            "Collecting pandas\n",
            "\u001b[?25l  Downloading https://files.pythonhosted.org/packages/51/51/48f3fc47c4e2144da2806dfb6629c4dd1fa3d5a143f9652b141e979a8ca9/pandas-1.2.4-cp37-cp37m-manylinux1_x86_64.whl (9.9MB)\n",
            "\u001b[K     |████████████████████████████████| 9.9MB 8.4MB/s \n",
            "\u001b[?25hRequirement already satisfied, skipping upgrade: numpy>=1.16.5 in /usr/local/lib/python3.7/dist-packages (from pandas) (1.19.5)\n",
            "Requirement already satisfied, skipping upgrade: python-dateutil>=2.7.3 in /usr/local/lib/python3.7/dist-packages (from pandas) (2.8.1)\n",
            "Requirement already satisfied, skipping upgrade: pytz>=2017.3 in /usr/local/lib/python3.7/dist-packages (from pandas) (2018.9)\n",
            "Requirement already satisfied, skipping upgrade: six>=1.5 in /usr/local/lib/python3.7/dist-packages (from python-dateutil>=2.7.3->pandas) (1.15.0)\n",
            "\u001b[31mERROR: google-colab 1.0.0 has requirement pandas~=1.1.0; python_version >= \"3.0\", but you'll have pandas 1.2.4 which is incompatible.\u001b[0m\n",
            "Installing collected packages: pandas\n",
            "  Found existing installation: pandas 1.1.5\n",
            "    Uninstalling pandas-1.1.5:\n",
            "      Successfully uninstalled pandas-1.1.5\n",
            "Successfully installed pandas-1.2.4\n"
          ],
          "name": "stdout"
        },
        {
          "output_type": "display_data",
          "data": {
            "application/vnd.colab-display-data+json": {
              "pip_warning": {
                "packages": [
                  "pandas"
                ]
              }
            }
          },
          "metadata": {
            "tags": []
          }
        }
      ]
    },
    {
      "cell_type": "code",
      "metadata": {
        "id": "5a6ZDWKi2pNv",
        "colab": {
          "base_uri": "https://localhost:8080/"
        },
        "outputId": "a26c24e0-c3d8-41a2-fb31-58a4f304c6d6"
      },
      "source": [
        "from google.colab import drive\n",
        "drive.mount('/content/drive/')"
      ],
      "execution_count": 1,
      "outputs": [
        {
          "output_type": "stream",
          "text": [
            "Mounted at /content/drive/\n"
          ],
          "name": "stdout"
        }
      ]
    },
    {
      "cell_type": "code",
      "metadata": {
        "id": "OZH6Wu3A4Fgs",
        "colab": {
          "base_uri": "https://localhost:8080/"
        },
        "outputId": "ac2d9147-1ee0-46e9-fc93-17443f2835d3"
      },
      "source": [
        "#Redirigimos nuestro código\n",
        "%cd '/content/drive/My Drive/Colab Notebooks/db'\n",
        "!ls"
      ],
      "execution_count": 3,
      "outputs": [
        {
          "output_type": "stream",
          "text": [
            "/content/drive/My Drive/Colab Notebooks/db\n",
            "Meteorite_Landings.csv\ttest.h5    test.parquet  test.xlsx\n",
            "test.csv\t\ttest.json  test.pkl\n"
          ],
          "name": "stdout"
        }
      ]
    },
    {
      "cell_type": "code",
      "metadata": {
        "id": "e8DvtfZJ4DX5",
        "colab": {
          "base_uri": "https://localhost:8080/",
          "height": 36
        },
        "outputId": "8a61feb3-dcbb-4098-efff-ebc6990b95c7"
      },
      "source": [
        "import pandas as pd\n",
        "pd.__version__"
      ],
      "execution_count": 4,
      "outputs": [
        {
          "output_type": "execute_result",
          "data": {
            "application/vnd.google.colaboratory.intrinsic+json": {
              "type": "string"
            },
            "text/plain": [
              "'1.2.4'"
            ]
          },
          "metadata": {
            "tags": []
          },
          "execution_count": 4
        }
      ]
    },
    {
      "cell_type": "markdown",
      "metadata": {
        "id": "SoTn2k8RE99B"
      },
      "source": [
        "Leemos el archivo de CSV"
      ]
    },
    {
      "cell_type": "code",
      "metadata": {
        "id": "iYzkdakM9HCA"
      },
      "source": [
        "df_meteorites = pd.read_csv('Meteorite_Landings.csv')"
      ],
      "execution_count": 5,
      "outputs": []
    },
    {
      "cell_type": "markdown",
      "metadata": {
        "id": "y-fqvPz8FDQA"
      },
      "source": [
        "- Si son bastantes nuestros datos, podemos ver los 5 primeros datos con el comando `.head()`, si quiero ver más coloco el número dentro del parentesis y me muestra ese monton. \n",
        "\n",
        "- Con `.tail()` puede ver los últimos registros de mi DataFrame"
      ]
    },
    {
      "cell_type": "code",
      "metadata": {
        "id": "S0hGSlhL93cZ",
        "colab": {
          "base_uri": "https://localhost:8080/",
          "height": 363
        },
        "outputId": "24c61be2-37e6-4f56-9356-badd0702c6b4"
      },
      "source": [
        "df_meteorites.tail(10)"
      ],
      "execution_count": null,
      "outputs": [
        {
          "output_type": "execute_result",
          "data": {
            "text/html": [
              "<div>\n",
              "<style scoped>\n",
              "    .dataframe tbody tr th:only-of-type {\n",
              "        vertical-align: middle;\n",
              "    }\n",
              "\n",
              "    .dataframe tbody tr th {\n",
              "        vertical-align: top;\n",
              "    }\n",
              "\n",
              "    .dataframe thead th {\n",
              "        text-align: right;\n",
              "    }\n",
              "</style>\n",
              "<table border=\"1\" class=\"dataframe\">\n",
              "  <thead>\n",
              "    <tr style=\"text-align: right;\">\n",
              "      <th></th>\n",
              "      <th>name</th>\n",
              "      <th>id</th>\n",
              "      <th>nametype</th>\n",
              "      <th>recclass</th>\n",
              "      <th>mass (g)</th>\n",
              "      <th>fall</th>\n",
              "      <th>year</th>\n",
              "      <th>reclat</th>\n",
              "      <th>reclong</th>\n",
              "      <th>GeoLocation</th>\n",
              "    </tr>\n",
              "  </thead>\n",
              "  <tbody>\n",
              "    <tr>\n",
              "      <th>45706</th>\n",
              "      <td>Zerkaly</td>\n",
              "      <td>31354</td>\n",
              "      <td>Valid</td>\n",
              "      <td>H5</td>\n",
              "      <td>16000.0</td>\n",
              "      <td>Found</td>\n",
              "      <td>01/01/1956 12:00:00 AM</td>\n",
              "      <td>52.13333</td>\n",
              "      <td>81.96667</td>\n",
              "      <td>(52.13333, 81.96667)</td>\n",
              "    </tr>\n",
              "    <tr>\n",
              "      <th>45707</th>\n",
              "      <td>Zhaoping</td>\n",
              "      <td>54609</td>\n",
              "      <td>Valid</td>\n",
              "      <td>Iron, IAB complex</td>\n",
              "      <td>2000000.0</td>\n",
              "      <td>Found</td>\n",
              "      <td>01/01/1983 12:00:00 AM</td>\n",
              "      <td>24.23333</td>\n",
              "      <td>111.18333</td>\n",
              "      <td>(24.23333, 111.18333)</td>\n",
              "    </tr>\n",
              "    <tr>\n",
              "      <th>45708</th>\n",
              "      <td>Zhigansk</td>\n",
              "      <td>30405</td>\n",
              "      <td>Valid</td>\n",
              "      <td>Iron, IIIAB</td>\n",
              "      <td>900000.0</td>\n",
              "      <td>Found</td>\n",
              "      <td>01/01/1966 12:00:00 AM</td>\n",
              "      <td>68.00000</td>\n",
              "      <td>128.30000</td>\n",
              "      <td>(68.0, 128.3)</td>\n",
              "    </tr>\n",
              "    <tr>\n",
              "      <th>45709</th>\n",
              "      <td>Zhongxiang</td>\n",
              "      <td>30406</td>\n",
              "      <td>Valid</td>\n",
              "      <td>Iron</td>\n",
              "      <td>100000.0</td>\n",
              "      <td>Found</td>\n",
              "      <td>01/01/1981 12:00:00 AM</td>\n",
              "      <td>31.20000</td>\n",
              "      <td>112.50000</td>\n",
              "      <td>(31.2, 112.5)</td>\n",
              "    </tr>\n",
              "    <tr>\n",
              "      <th>45710</th>\n",
              "      <td>Zillah 001</td>\n",
              "      <td>31355</td>\n",
              "      <td>Valid</td>\n",
              "      <td>L6</td>\n",
              "      <td>1475.0</td>\n",
              "      <td>Found</td>\n",
              "      <td>01/01/1990 12:00:00 AM</td>\n",
              "      <td>29.03700</td>\n",
              "      <td>17.01850</td>\n",
              "      <td>(29.037, 17.0185)</td>\n",
              "    </tr>\n",
              "    <tr>\n",
              "      <th>45711</th>\n",
              "      <td>Zillah 002</td>\n",
              "      <td>31356</td>\n",
              "      <td>Valid</td>\n",
              "      <td>Eucrite</td>\n",
              "      <td>172.0</td>\n",
              "      <td>Found</td>\n",
              "      <td>01/01/1990 12:00:00 AM</td>\n",
              "      <td>29.03700</td>\n",
              "      <td>17.01850</td>\n",
              "      <td>(29.037, 17.0185)</td>\n",
              "    </tr>\n",
              "    <tr>\n",
              "      <th>45712</th>\n",
              "      <td>Zinder</td>\n",
              "      <td>30409</td>\n",
              "      <td>Valid</td>\n",
              "      <td>Pallasite, ungrouped</td>\n",
              "      <td>46.0</td>\n",
              "      <td>Found</td>\n",
              "      <td>01/01/1999 12:00:00 AM</td>\n",
              "      <td>13.78333</td>\n",
              "      <td>8.96667</td>\n",
              "      <td>(13.78333, 8.96667)</td>\n",
              "    </tr>\n",
              "    <tr>\n",
              "      <th>45713</th>\n",
              "      <td>Zlin</td>\n",
              "      <td>30410</td>\n",
              "      <td>Valid</td>\n",
              "      <td>H4</td>\n",
              "      <td>3.3</td>\n",
              "      <td>Found</td>\n",
              "      <td>01/01/1939 12:00:00 AM</td>\n",
              "      <td>49.25000</td>\n",
              "      <td>17.66667</td>\n",
              "      <td>(49.25, 17.66667)</td>\n",
              "    </tr>\n",
              "    <tr>\n",
              "      <th>45714</th>\n",
              "      <td>Zubkovsky</td>\n",
              "      <td>31357</td>\n",
              "      <td>Valid</td>\n",
              "      <td>L6</td>\n",
              "      <td>2167.0</td>\n",
              "      <td>Found</td>\n",
              "      <td>01/01/2003 12:00:00 AM</td>\n",
              "      <td>49.78917</td>\n",
              "      <td>41.50460</td>\n",
              "      <td>(49.78917, 41.5046)</td>\n",
              "    </tr>\n",
              "    <tr>\n",
              "      <th>45715</th>\n",
              "      <td>Zulu Queen</td>\n",
              "      <td>30414</td>\n",
              "      <td>Valid</td>\n",
              "      <td>L3.7</td>\n",
              "      <td>200.0</td>\n",
              "      <td>Found</td>\n",
              "      <td>01/01/1976 12:00:00 AM</td>\n",
              "      <td>33.98333</td>\n",
              "      <td>-115.68333</td>\n",
              "      <td>(33.98333, -115.68333)</td>\n",
              "    </tr>\n",
              "  </tbody>\n",
              "</table>\n",
              "</div>"
            ],
            "text/plain": [
              "             name     id nametype  ...    reclat    reclong             GeoLocation\n",
              "45706     Zerkaly  31354    Valid  ...  52.13333   81.96667    (52.13333, 81.96667)\n",
              "45707    Zhaoping  54609    Valid  ...  24.23333  111.18333   (24.23333, 111.18333)\n",
              "45708    Zhigansk  30405    Valid  ...  68.00000  128.30000           (68.0, 128.3)\n",
              "45709  Zhongxiang  30406    Valid  ...  31.20000  112.50000           (31.2, 112.5)\n",
              "45710  Zillah 001  31355    Valid  ...  29.03700   17.01850       (29.037, 17.0185)\n",
              "45711  Zillah 002  31356    Valid  ...  29.03700   17.01850       (29.037, 17.0185)\n",
              "45712      Zinder  30409    Valid  ...  13.78333    8.96667     (13.78333, 8.96667)\n",
              "45713        Zlin  30410    Valid  ...  49.25000   17.66667       (49.25, 17.66667)\n",
              "45714   Zubkovsky  31357    Valid  ...  49.78917   41.50460     (49.78917, 41.5046)\n",
              "45715  Zulu Queen  30414    Valid  ...  33.98333 -115.68333  (33.98333, -115.68333)\n",
              "\n",
              "[10 rows x 10 columns]"
            ]
          },
          "metadata": {
            "tags": []
          },
          "execution_count": 8
        }
      ]
    },
    {
      "cell_type": "markdown",
      "metadata": {
        "id": "SqJ4c_boFy6p"
      },
      "source": [
        " - Con `sample()` puede ver un cierto número de registros de forma aleatoria\n",
        "\n",
        "\n",
        "\n"
      ]
    },
    {
      "cell_type": "code",
      "metadata": {
        "id": "QUbhbTZM94ZK",
        "colab": {
          "base_uri": "https://localhost:8080/",
          "height": 363
        },
        "outputId": "04c4495c-a804-4f79-b185-4a1ad2fd13fe"
      },
      "source": [
        "df_meteorites.sample(10)"
      ],
      "execution_count": null,
      "outputs": [
        {
          "output_type": "execute_result",
          "data": {
            "text/html": [
              "<div>\n",
              "<style scoped>\n",
              "    .dataframe tbody tr th:only-of-type {\n",
              "        vertical-align: middle;\n",
              "    }\n",
              "\n",
              "    .dataframe tbody tr th {\n",
              "        vertical-align: top;\n",
              "    }\n",
              "\n",
              "    .dataframe thead th {\n",
              "        text-align: right;\n",
              "    }\n",
              "</style>\n",
              "<table border=\"1\" class=\"dataframe\">\n",
              "  <thead>\n",
              "    <tr style=\"text-align: right;\">\n",
              "      <th></th>\n",
              "      <th>name</th>\n",
              "      <th>id</th>\n",
              "      <th>nametype</th>\n",
              "      <th>recclass</th>\n",
              "      <th>mass (g)</th>\n",
              "      <th>fall</th>\n",
              "      <th>year</th>\n",
              "      <th>reclat</th>\n",
              "      <th>reclong</th>\n",
              "      <th>GeoLocation</th>\n",
              "    </tr>\n",
              "  </thead>\n",
              "  <tbody>\n",
              "    <tr>\n",
              "      <th>29728</th>\n",
              "      <td>Northwest Africa 6156</td>\n",
              "      <td>51747</td>\n",
              "      <td>Valid</td>\n",
              "      <td>CO3.3</td>\n",
              "      <td>76.50</td>\n",
              "      <td>Found</td>\n",
              "      <td>01/01/2010 12:00:00 AM</td>\n",
              "      <td>0.00000</td>\n",
              "      <td>0.00000</td>\n",
              "      <td>(0.0, 0.0)</td>\n",
              "    </tr>\n",
              "    <tr>\n",
              "      <th>44472</th>\n",
              "      <td>Yamato 982183</td>\n",
              "      <td>38805</td>\n",
              "      <td>Valid</td>\n",
              "      <td>L6</td>\n",
              "      <td>33.55</td>\n",
              "      <td>Found</td>\n",
              "      <td>01/01/1998 12:00:00 AM</td>\n",
              "      <td>0.00000</td>\n",
              "      <td>0.00000</td>\n",
              "      <td>(0.0, 0.0)</td>\n",
              "    </tr>\n",
              "    <tr>\n",
              "      <th>38707</th>\n",
              "      <td>Yamato 74281</td>\n",
              "      <td>24659</td>\n",
              "      <td>Valid</td>\n",
              "      <td>H5</td>\n",
              "      <td>5.39</td>\n",
              "      <td>Found</td>\n",
              "      <td>01/01/1974 12:00:00 AM</td>\n",
              "      <td>-71.50000</td>\n",
              "      <td>35.66667</td>\n",
              "      <td>(-71.5, 35.66667)</td>\n",
              "    </tr>\n",
              "    <tr>\n",
              "      <th>3908</th>\n",
              "      <td>Asuka 880826</td>\n",
              "      <td>3535</td>\n",
              "      <td>Valid</td>\n",
              "      <td>H5</td>\n",
              "      <td>294.85</td>\n",
              "      <td>Found</td>\n",
              "      <td>01/01/1988 12:00:00 AM</td>\n",
              "      <td>-72.00000</td>\n",
              "      <td>26.00000</td>\n",
              "      <td>(-72.0, 26.0)</td>\n",
              "    </tr>\n",
              "    <tr>\n",
              "      <th>21862</th>\n",
              "      <td>MacAlpine Hills 02518</td>\n",
              "      <td>14827</td>\n",
              "      <td>Valid</td>\n",
              "      <td>H5</td>\n",
              "      <td>17.68</td>\n",
              "      <td>Found</td>\n",
              "      <td>01/01/2002 12:00:00 AM</td>\n",
              "      <td>NaN</td>\n",
              "      <td>NaN</td>\n",
              "      <td>NaN</td>\n",
              "    </tr>\n",
              "    <tr>\n",
              "      <th>40942</th>\n",
              "      <td>Yamato 791746</td>\n",
              "      <td>27095</td>\n",
              "      <td>Valid</td>\n",
              "      <td>CO3</td>\n",
              "      <td>8.59</td>\n",
              "      <td>Found</td>\n",
              "      <td>01/01/1979 12:00:00 AM</td>\n",
              "      <td>-71.50000</td>\n",
              "      <td>35.66667</td>\n",
              "      <td>(-71.5, 35.66667)</td>\n",
              "    </tr>\n",
              "    <tr>\n",
              "      <th>14096</th>\n",
              "      <td>Grove Mountains 021944</td>\n",
              "      <td>46811</td>\n",
              "      <td>Valid</td>\n",
              "      <td>L6</td>\n",
              "      <td>11.44</td>\n",
              "      <td>Found</td>\n",
              "      <td>01/01/2003 12:00:00 AM</td>\n",
              "      <td>-72.77639</td>\n",
              "      <td>75.32222</td>\n",
              "      <td>(-72.77639, 75.32222)</td>\n",
              "    </tr>\n",
              "    <tr>\n",
              "      <th>11226</th>\n",
              "      <td>Elephant Moraine 96022</td>\n",
              "      <td>9616</td>\n",
              "      <td>Valid</td>\n",
              "      <td>L6</td>\n",
              "      <td>687.00</td>\n",
              "      <td>Found</td>\n",
              "      <td>01/01/1996 12:00:00 AM</td>\n",
              "      <td>-76.18333</td>\n",
              "      <td>157.16667</td>\n",
              "      <td>(-76.18333, 157.16667)</td>\n",
              "    </tr>\n",
              "    <tr>\n",
              "      <th>24262</th>\n",
              "      <td>Miller Range 05052</td>\n",
              "      <td>44451</td>\n",
              "      <td>Valid</td>\n",
              "      <td>L5</td>\n",
              "      <td>257.60</td>\n",
              "      <td>Found</td>\n",
              "      <td>01/01/2005 12:00:00 AM</td>\n",
              "      <td>NaN</td>\n",
              "      <td>NaN</td>\n",
              "      <td>NaN</td>\n",
              "    </tr>\n",
              "    <tr>\n",
              "      <th>37780</th>\n",
              "      <td>Sychevka</td>\n",
              "      <td>23772</td>\n",
              "      <td>Valid</td>\n",
              "      <td>Iron, IIIAB</td>\n",
              "      <td>65000.00</td>\n",
              "      <td>Found</td>\n",
              "      <td>01/01/1988 12:00:00 AM</td>\n",
              "      <td>51.12500</td>\n",
              "      <td>127.49500</td>\n",
              "      <td>(51.125, 127.495)</td>\n",
              "    </tr>\n",
              "  </tbody>\n",
              "</table>\n",
              "</div>"
            ],
            "text/plain": [
              "                         name     id  ...    reclong             GeoLocation\n",
              "29728   Northwest Africa 6156  51747  ...    0.00000              (0.0, 0.0)\n",
              "44472           Yamato 982183  38805  ...    0.00000              (0.0, 0.0)\n",
              "38707            Yamato 74281  24659  ...   35.66667       (-71.5, 35.66667)\n",
              "3908             Asuka 880826   3535  ...   26.00000           (-72.0, 26.0)\n",
              "21862   MacAlpine Hills 02518  14827  ...        NaN                     NaN\n",
              "40942           Yamato 791746  27095  ...   35.66667       (-71.5, 35.66667)\n",
              "14096  Grove Mountains 021944  46811  ...   75.32222   (-72.77639, 75.32222)\n",
              "11226  Elephant Moraine 96022   9616  ...  157.16667  (-76.18333, 157.16667)\n",
              "24262      Miller Range 05052  44451  ...        NaN                     NaN\n",
              "37780                Sychevka  23772  ...  127.49500       (51.125, 127.495)\n",
              "\n",
              "[10 rows x 10 columns]"
            ]
          },
          "metadata": {
            "tags": []
          },
          "execution_count": 14
        }
      ]
    },
    {
      "cell_type": "markdown",
      "metadata": {
        "id": "0ci3PwowGUYb"
      },
      "source": [
        "- Con el comando `.shape` podemos ver el tamaño de nuestra base de datos"
      ]
    },
    {
      "cell_type": "code",
      "metadata": {
        "id": "lqmfB2E5-Biv",
        "colab": {
          "base_uri": "https://localhost:8080/"
        },
        "outputId": "3a43da23-fa74-48fc-fb78-4825a6e1318c"
      },
      "source": [
        "df_meteorites.shape"
      ],
      "execution_count": 6,
      "outputs": [
        {
          "output_type": "execute_result",
          "data": {
            "text/plain": [
              "(45716, 10)"
            ]
          },
          "metadata": {
            "tags": []
          },
          "execution_count": 6
        }
      ]
    },
    {
      "cell_type": "markdown",
      "metadata": {
        "id": "xCpP54nGGgow"
      },
      "source": [
        "- Con `.size` podemos ver la cántidad de datos que tenemos. filas x columnas"
      ]
    },
    {
      "cell_type": "code",
      "metadata": {
        "id": "N6R9ojjL-ND8",
        "colab": {
          "base_uri": "https://localhost:8080/"
        },
        "outputId": "a65e7f1f-f48d-407c-a8b1-a209c14a54e8"
      },
      "source": [
        "df_meteorites.size"
      ],
      "execution_count": 7,
      "outputs": [
        {
          "output_type": "execute_result",
          "data": {
            "text/plain": [
              "457160"
            ]
          },
          "metadata": {
            "tags": []
          },
          "execution_count": 7
        }
      ]
    },
    {
      "cell_type": "markdown",
      "metadata": {
        "id": "BJVJeEkyG3h8"
      },
      "source": [
        "- Con `.describe()` me dice variables de mis datos, pero de forma estadistica. \n",
        "\n",
        "    Si ordenamos los datos de menor a mayor, al cortar la base en el primer 25% obtendremos que la masa de los meteoritos en ese corte es de 7.2 g, al cortarlo en el 50% quiere decir que el valor del peso que se encuentra exactamente a la mitad, es decir, en ese corte es de 32.6 g. Otra explicación que podríamos tener aqui es que el 50% de meteoritos no tienen un peso mayor a 32.6 g y asi sucesivamente con el último cuartil."
      ]
    },
    {
      "cell_type": "code",
      "metadata": {
        "id": "D8epSwTC-RUQ",
        "colab": {
          "base_uri": "https://localhost:8080/",
          "height": 300
        },
        "outputId": "5289c580-50f4-4272-fda3-2f22a5d46889"
      },
      "source": [
        "df_meteorites.describe()"
      ],
      "execution_count": 10,
      "outputs": [
        {
          "output_type": "execute_result",
          "data": {
            "text/html": [
              "<div>\n",
              "<style scoped>\n",
              "    .dataframe tbody tr th:only-of-type {\n",
              "        vertical-align: middle;\n",
              "    }\n",
              "\n",
              "    .dataframe tbody tr th {\n",
              "        vertical-align: top;\n",
              "    }\n",
              "\n",
              "    .dataframe thead th {\n",
              "        text-align: right;\n",
              "    }\n",
              "</style>\n",
              "<table border=\"1\" class=\"dataframe\">\n",
              "  <thead>\n",
              "    <tr style=\"text-align: right;\">\n",
              "      <th></th>\n",
              "      <th>id</th>\n",
              "      <th>mass (g)</th>\n",
              "      <th>reclat</th>\n",
              "      <th>reclong</th>\n",
              "    </tr>\n",
              "  </thead>\n",
              "  <tbody>\n",
              "    <tr>\n",
              "      <th>count</th>\n",
              "      <td>45,716.0</td>\n",
              "      <td>45,585.0</td>\n",
              "      <td>38,401.0</td>\n",
              "      <td>38,401.0</td>\n",
              "    </tr>\n",
              "    <tr>\n",
              "      <th>mean</th>\n",
              "      <td>26,889.7</td>\n",
              "      <td>13,278.1</td>\n",
              "      <td>-39.1</td>\n",
              "      <td>61.1</td>\n",
              "    </tr>\n",
              "    <tr>\n",
              "      <th>std</th>\n",
              "      <td>16,860.7</td>\n",
              "      <td>574,988.9</td>\n",
              "      <td>46.4</td>\n",
              "      <td>80.6</td>\n",
              "    </tr>\n",
              "    <tr>\n",
              "      <th>min</th>\n",
              "      <td>1.0</td>\n",
              "      <td>0.0</td>\n",
              "      <td>-87.4</td>\n",
              "      <td>-165.4</td>\n",
              "    </tr>\n",
              "    <tr>\n",
              "      <th>25%</th>\n",
              "      <td>12,688.8</td>\n",
              "      <td>7.2</td>\n",
              "      <td>-76.7</td>\n",
              "      <td>0.0</td>\n",
              "    </tr>\n",
              "    <tr>\n",
              "      <th>50%</th>\n",
              "      <td>24,261.5</td>\n",
              "      <td>32.6</td>\n",
              "      <td>-71.5</td>\n",
              "      <td>35.7</td>\n",
              "    </tr>\n",
              "    <tr>\n",
              "      <th>75%</th>\n",
              "      <td>40,656.8</td>\n",
              "      <td>202.6</td>\n",
              "      <td>0.0</td>\n",
              "      <td>157.2</td>\n",
              "    </tr>\n",
              "    <tr>\n",
              "      <th>max</th>\n",
              "      <td>57,458.0</td>\n",
              "      <td>60,000,000.0</td>\n",
              "      <td>81.2</td>\n",
              "      <td>354.5</td>\n",
              "    </tr>\n",
              "  </tbody>\n",
              "</table>\n",
              "</div>"
            ],
            "text/plain": [
              "            id     mass (g)   reclat  reclong\n",
              "count 45,716.0     45,585.0 38,401.0 38,401.0\n",
              "mean  26,889.7     13,278.1    -39.1     61.1\n",
              "std   16,860.7    574,988.9     46.4     80.6\n",
              "min        1.0          0.0    -87.4   -165.4\n",
              "25%   12,688.8          7.2    -76.7      0.0\n",
              "50%   24,261.5         32.6    -71.5     35.7\n",
              "75%   40,656.8        202.6      0.0    157.2\n",
              "max   57,458.0 60,000,000.0     81.2    354.5"
            ]
          },
          "metadata": {
            "tags": []
          },
          "execution_count": 10
        }
      ]
    },
    {
      "cell_type": "markdown",
      "metadata": {
        "id": "5kKts1-VHO0L"
      },
      "source": [
        "- Podemos quitar la notación cientifica con la siguiente linea"
      ]
    },
    {
      "cell_type": "code",
      "metadata": {
        "id": "bmLvtoO2-XVI"
      },
      "source": [
        "pd.options.display.float_format = '{:,.1f}'.format"
      ],
      "execution_count": 9,
      "outputs": []
    },
    {
      "cell_type": "markdown",
      "metadata": {
        "id": "LhUrh6pLHjZf"
      },
      "source": [
        "- Podemos usar describe  con la variable `include='all'` para ver el comportamiento de nuestras variables de tipo texto\n",
        "\n",
        "    - El indice **unique** nos dice la variedad de nuestros datos \n",
        "    - La variable **freq** nos dice cual es el dato que más se repite\n",
        "    \n"
      ]
    },
    {
      "cell_type": "code",
      "metadata": {
        "id": "k_hKV8uO-0z7",
        "colab": {
          "base_uri": "https://localhost:8080/",
          "height": 394
        },
        "outputId": "be3774c5-d12c-4c06-b42c-5ca760955824"
      },
      "source": [
        "df_meteorites.describe(include='all')"
      ],
      "execution_count": null,
      "outputs": [
        {
          "output_type": "execute_result",
          "data": {
            "text/html": [
              "<div>\n",
              "<style scoped>\n",
              "    .dataframe tbody tr th:only-of-type {\n",
              "        vertical-align: middle;\n",
              "    }\n",
              "\n",
              "    .dataframe tbody tr th {\n",
              "        vertical-align: top;\n",
              "    }\n",
              "\n",
              "    .dataframe thead th {\n",
              "        text-align: right;\n",
              "    }\n",
              "</style>\n",
              "<table border=\"1\" class=\"dataframe\">\n",
              "  <thead>\n",
              "    <tr style=\"text-align: right;\">\n",
              "      <th></th>\n",
              "      <th>name</th>\n",
              "      <th>id</th>\n",
              "      <th>nametype</th>\n",
              "      <th>recclass</th>\n",
              "      <th>mass (g)</th>\n",
              "      <th>fall</th>\n",
              "      <th>year</th>\n",
              "      <th>reclat</th>\n",
              "      <th>reclong</th>\n",
              "      <th>GeoLocation</th>\n",
              "    </tr>\n",
              "  </thead>\n",
              "  <tbody>\n",
              "    <tr>\n",
              "      <th>count</th>\n",
              "      <td>45716</td>\n",
              "      <td>45,716.0</td>\n",
              "      <td>45716</td>\n",
              "      <td>45716</td>\n",
              "      <td>45,585.0</td>\n",
              "      <td>45716</td>\n",
              "      <td>45425</td>\n",
              "      <td>38,401.0</td>\n",
              "      <td>38,401.0</td>\n",
              "      <td>38401</td>\n",
              "    </tr>\n",
              "    <tr>\n",
              "      <th>unique</th>\n",
              "      <td>45716</td>\n",
              "      <td>nan</td>\n",
              "      <td>2</td>\n",
              "      <td>466</td>\n",
              "      <td>nan</td>\n",
              "      <td>2</td>\n",
              "      <td>266</td>\n",
              "      <td>nan</td>\n",
              "      <td>nan</td>\n",
              "      <td>17100</td>\n",
              "    </tr>\n",
              "    <tr>\n",
              "      <th>top</th>\n",
              "      <td>Yamato 75105</td>\n",
              "      <td>nan</td>\n",
              "      <td>Valid</td>\n",
              "      <td>L6</td>\n",
              "      <td>nan</td>\n",
              "      <td>Found</td>\n",
              "      <td>01/01/2003 12:00:00 AM</td>\n",
              "      <td>nan</td>\n",
              "      <td>nan</td>\n",
              "      <td>(0.0, 0.0)</td>\n",
              "    </tr>\n",
              "    <tr>\n",
              "      <th>freq</th>\n",
              "      <td>1</td>\n",
              "      <td>nan</td>\n",
              "      <td>45641</td>\n",
              "      <td>8285</td>\n",
              "      <td>nan</td>\n",
              "      <td>44609</td>\n",
              "      <td>3323</td>\n",
              "      <td>nan</td>\n",
              "      <td>nan</td>\n",
              "      <td>6214</td>\n",
              "    </tr>\n",
              "    <tr>\n",
              "      <th>mean</th>\n",
              "      <td>NaN</td>\n",
              "      <td>26,889.7</td>\n",
              "      <td>NaN</td>\n",
              "      <td>NaN</td>\n",
              "      <td>13,278.1</td>\n",
              "      <td>NaN</td>\n",
              "      <td>NaN</td>\n",
              "      <td>-39.1</td>\n",
              "      <td>61.1</td>\n",
              "      <td>NaN</td>\n",
              "    </tr>\n",
              "    <tr>\n",
              "      <th>std</th>\n",
              "      <td>NaN</td>\n",
              "      <td>16,860.7</td>\n",
              "      <td>NaN</td>\n",
              "      <td>NaN</td>\n",
              "      <td>574,988.9</td>\n",
              "      <td>NaN</td>\n",
              "      <td>NaN</td>\n",
              "      <td>46.4</td>\n",
              "      <td>80.6</td>\n",
              "      <td>NaN</td>\n",
              "    </tr>\n",
              "    <tr>\n",
              "      <th>min</th>\n",
              "      <td>NaN</td>\n",
              "      <td>1.0</td>\n",
              "      <td>NaN</td>\n",
              "      <td>NaN</td>\n",
              "      <td>0.0</td>\n",
              "      <td>NaN</td>\n",
              "      <td>NaN</td>\n",
              "      <td>-87.4</td>\n",
              "      <td>-165.4</td>\n",
              "      <td>NaN</td>\n",
              "    </tr>\n",
              "    <tr>\n",
              "      <th>25%</th>\n",
              "      <td>NaN</td>\n",
              "      <td>12,688.8</td>\n",
              "      <td>NaN</td>\n",
              "      <td>NaN</td>\n",
              "      <td>7.2</td>\n",
              "      <td>NaN</td>\n",
              "      <td>NaN</td>\n",
              "      <td>-76.7</td>\n",
              "      <td>0.0</td>\n",
              "      <td>NaN</td>\n",
              "    </tr>\n",
              "    <tr>\n",
              "      <th>50%</th>\n",
              "      <td>NaN</td>\n",
              "      <td>24,261.5</td>\n",
              "      <td>NaN</td>\n",
              "      <td>NaN</td>\n",
              "      <td>32.6</td>\n",
              "      <td>NaN</td>\n",
              "      <td>NaN</td>\n",
              "      <td>-71.5</td>\n",
              "      <td>35.7</td>\n",
              "      <td>NaN</td>\n",
              "    </tr>\n",
              "    <tr>\n",
              "      <th>75%</th>\n",
              "      <td>NaN</td>\n",
              "      <td>40,656.8</td>\n",
              "      <td>NaN</td>\n",
              "      <td>NaN</td>\n",
              "      <td>202.6</td>\n",
              "      <td>NaN</td>\n",
              "      <td>NaN</td>\n",
              "      <td>0.0</td>\n",
              "      <td>157.2</td>\n",
              "      <td>NaN</td>\n",
              "    </tr>\n",
              "    <tr>\n",
              "      <th>max</th>\n",
              "      <td>NaN</td>\n",
              "      <td>57,458.0</td>\n",
              "      <td>NaN</td>\n",
              "      <td>NaN</td>\n",
              "      <td>60,000,000.0</td>\n",
              "      <td>NaN</td>\n",
              "      <td>NaN</td>\n",
              "      <td>81.2</td>\n",
              "      <td>354.5</td>\n",
              "      <td>NaN</td>\n",
              "    </tr>\n",
              "  </tbody>\n",
              "</table>\n",
              "</div>"
            ],
            "text/plain": [
              "                name       id nametype  ...   reclat  reclong GeoLocation\n",
              "count          45716 45,716.0    45716  ... 38,401.0 38,401.0       38401\n",
              "unique         45716      nan        2  ...      nan      nan       17100\n",
              "top     Yamato 75105      nan    Valid  ...      nan      nan  (0.0, 0.0)\n",
              "freq               1      nan    45641  ...      nan      nan        6214\n",
              "mean             NaN 26,889.7      NaN  ...    -39.1     61.1         NaN\n",
              "std              NaN 16,860.7      NaN  ...     46.4     80.6         NaN\n",
              "min              NaN      1.0      NaN  ...    -87.4   -165.4         NaN\n",
              "25%              NaN 12,688.8      NaN  ...    -76.7      0.0         NaN\n",
              "50%              NaN 24,261.5      NaN  ...    -71.5     35.7         NaN\n",
              "75%              NaN 40,656.8      NaN  ...      0.0    157.2         NaN\n",
              "max              NaN 57,458.0      NaN  ...     81.2    354.5         NaN\n",
              "\n",
              "[11 rows x 10 columns]"
            ]
          },
          "metadata": {
            "tags": []
          },
          "execution_count": 45
        }
      ]
    },
    {
      "cell_type": "markdown",
      "metadata": {
        "id": "TXJZWA1xIcLs"
      },
      "source": [
        "- Si nosotros queremos ver de que están compuestas las categorias de nuestro DataFrame lo podemos hacer usando: `.info()`"
      ]
    },
    {
      "cell_type": "code",
      "metadata": {
        "id": "ejzVs0tcAkBS",
        "colab": {
          "base_uri": "https://localhost:8080/"
        },
        "outputId": "57260f26-7293-4ca9-a1c4-32db12576604"
      },
      "source": [
        "df_meteorites.info()"
      ],
      "execution_count": 11,
      "outputs": [
        {
          "output_type": "stream",
          "text": [
            "<class 'pandas.core.frame.DataFrame'>\n",
            "RangeIndex: 45716 entries, 0 to 45715\n",
            "Data columns (total 10 columns):\n",
            " #   Column       Non-Null Count  Dtype  \n",
            "---  ------       --------------  -----  \n",
            " 0   name         45716 non-null  object \n",
            " 1   id           45716 non-null  int64  \n",
            " 2   nametype     45716 non-null  object \n",
            " 3   recclass     45716 non-null  object \n",
            " 4   mass (g)     45585 non-null  float64\n",
            " 5   fall         45716 non-null  object \n",
            " 6   year         45425 non-null  object \n",
            " 7   reclat       38401 non-null  float64\n",
            " 8   reclong      38401 non-null  float64\n",
            " 9   GeoLocation  38401 non-null  object \n",
            "dtypes: float64(3), int64(1), object(6)\n",
            "memory usage: 3.5+ MB\n"
          ],
          "name": "stdout"
        }
      ]
    },
    {
      "cell_type": "markdown",
      "metadata": {
        "id": "ibIDopEsI8eE"
      },
      "source": [
        "- Con `dtypes`, se ve el tipo de datos "
      ]
    },
    {
      "cell_type": "code",
      "metadata": {
        "id": "8Nkf61EAAvga",
        "colab": {
          "base_uri": "https://localhost:8080/",
          "height": 208
        },
        "outputId": "b3b184a6-a0b7-4256-d055-1fe9118992e4"
      },
      "source": [
        "df_meteorites.dtypes"
      ],
      "execution_count": null,
      "outputs": [
        {
          "output_type": "execute_result",
          "data": {
            "text/plain": [
              "name            object\n",
              "id               int64\n",
              "nametype        object\n",
              "recclass        object\n",
              "mass (g)       float64\n",
              "fall            object\n",
              "year            object\n",
              "reclat         float64\n",
              "reclong        float64\n",
              "GeoLocation     object\n",
              "dtype: object"
            ]
          },
          "metadata": {
            "tags": []
          },
          "execution_count": 47
        }
      ]
    },
    {
      "cell_type": "markdown",
      "metadata": {
        "id": "vWWIjr1PJSUa"
      },
      "source": [
        "- Hay una nueva funcionalidad en pandas que nos permite convertir y encontrar el formato más adecuado para las variables, se llama `.convert_dtypes().dtypes`"
      ]
    },
    {
      "cell_type": "code",
      "metadata": {
        "id": "CwF6ARXTA5tV",
        "colab": {
          "base_uri": "https://localhost:8080/",
          "height": 208
        },
        "outputId": "986b3e66-47f6-4934-d682-d59b101d7bd4"
      },
      "source": [
        "df_meteorites.convert_dtypes().dtypes"
      ],
      "execution_count": null,
      "outputs": [
        {
          "output_type": "execute_result",
          "data": {
            "text/plain": [
              "name            string\n",
              "id               Int64\n",
              "nametype        string\n",
              "recclass        string\n",
              "mass (g)       float64\n",
              "fall            string\n",
              "year            string\n",
              "reclat         float64\n",
              "reclong        float64\n",
              "GeoLocation     string\n",
              "dtype: object"
            ]
          },
          "metadata": {
            "tags": []
          },
          "execution_count": 50
        }
      ]
    },
    {
      "cell_type": "markdown",
      "metadata": {
        "id": "ByaRAXpiMkOb"
      },
      "source": [
        "### Estructuras de DataFrame en detalle\n",
        "Diferentes variables que se pueden llegar a encontrar en un mismo DataFrame, variables **categoricas**, variables de tipo **tiempo**, de **texto**, **númericos** y dentro de estos están las float y las enteras. \n",
        "\n",
        "La ventaja de trabajar con variables categoricas es que se reduce el uso de memoria RAM y el espacio que ocupan los archivos \n",
        "\n",
        "\n",
        "\n",
        "\n",
        "\n",
        "- La variables `.nunique()` sirve para conocer la variedad de nuestros datos que componen el DF\n",
        "\n",
        "En este ejemplo hay dos variables que llaman mucho la atención, son dos variables de tipo texto llamadas **nametype ** y **fall** y que según el comando `nunuque()` están compuestas de dos variedades.\n",
        "\n"
      ]
    },
    {
      "cell_type": "code",
      "metadata": {
        "id": "8owKhYR6C8SR",
        "colab": {
          "base_uri": "https://localhost:8080/",
          "height": 208
        },
        "outputId": "58720796-1fca-4ad0-e294-7e56ef1cbcf8"
      },
      "source": [
        "df_meteorites.nunique()"
      ],
      "execution_count": null,
      "outputs": [
        {
          "output_type": "execute_result",
          "data": {
            "text/plain": [
              "name           45716\n",
              "id             45716\n",
              "nametype           2\n",
              "recclass         466\n",
              "mass (g)       12576\n",
              "fall               2\n",
              "year             266\n",
              "reclat         12738\n",
              "reclong        14640\n",
              "GeoLocation    17100\n",
              "dtype: int64"
            ]
          },
          "metadata": {
            "tags": []
          },
          "execution_count": 58
        }
      ]
    },
    {
      "cell_type": "markdown",
      "metadata": {
        "id": "DUOqvquKNmIn"
      },
      "source": [
        "Al ver ambas columnas a más detalle, vemos que es una variable que define simplemente una categoria. \n",
        "\n",
        "Esto tiene por nombre **VARIABLES CATEGORICAS**"
      ]
    },
    {
      "cell_type": "code",
      "metadata": {
        "colab": {
          "base_uri": "https://localhost:8080/",
          "height": 424
        },
        "id": "dHxyqRalNnrl",
        "outputId": "b5bab6ef-e75c-4fd1-dc10-185303d9a659"
      },
      "source": [
        "df_meteorites[['fall','nametype']]"
      ],
      "execution_count": 12,
      "outputs": [
        {
          "output_type": "execute_result",
          "data": {
            "text/html": [
              "<div>\n",
              "<style scoped>\n",
              "    .dataframe tbody tr th:only-of-type {\n",
              "        vertical-align: middle;\n",
              "    }\n",
              "\n",
              "    .dataframe tbody tr th {\n",
              "        vertical-align: top;\n",
              "    }\n",
              "\n",
              "    .dataframe thead th {\n",
              "        text-align: right;\n",
              "    }\n",
              "</style>\n",
              "<table border=\"1\" class=\"dataframe\">\n",
              "  <thead>\n",
              "    <tr style=\"text-align: right;\">\n",
              "      <th></th>\n",
              "      <th>fall</th>\n",
              "      <th>nametype</th>\n",
              "    </tr>\n",
              "  </thead>\n",
              "  <tbody>\n",
              "    <tr>\n",
              "      <th>0</th>\n",
              "      <td>Fell</td>\n",
              "      <td>Valid</td>\n",
              "    </tr>\n",
              "    <tr>\n",
              "      <th>1</th>\n",
              "      <td>Fell</td>\n",
              "      <td>Valid</td>\n",
              "    </tr>\n",
              "    <tr>\n",
              "      <th>2</th>\n",
              "      <td>Fell</td>\n",
              "      <td>Valid</td>\n",
              "    </tr>\n",
              "    <tr>\n",
              "      <th>3</th>\n",
              "      <td>Fell</td>\n",
              "      <td>Valid</td>\n",
              "    </tr>\n",
              "    <tr>\n",
              "      <th>4</th>\n",
              "      <td>Fell</td>\n",
              "      <td>Valid</td>\n",
              "    </tr>\n",
              "    <tr>\n",
              "      <th>...</th>\n",
              "      <td>...</td>\n",
              "      <td>...</td>\n",
              "    </tr>\n",
              "    <tr>\n",
              "      <th>45711</th>\n",
              "      <td>Found</td>\n",
              "      <td>Valid</td>\n",
              "    </tr>\n",
              "    <tr>\n",
              "      <th>45712</th>\n",
              "      <td>Found</td>\n",
              "      <td>Valid</td>\n",
              "    </tr>\n",
              "    <tr>\n",
              "      <th>45713</th>\n",
              "      <td>Found</td>\n",
              "      <td>Valid</td>\n",
              "    </tr>\n",
              "    <tr>\n",
              "      <th>45714</th>\n",
              "      <td>Found</td>\n",
              "      <td>Valid</td>\n",
              "    </tr>\n",
              "    <tr>\n",
              "      <th>45715</th>\n",
              "      <td>Found</td>\n",
              "      <td>Valid</td>\n",
              "    </tr>\n",
              "  </tbody>\n",
              "</table>\n",
              "<p>45716 rows × 2 columns</p>\n",
              "</div>"
            ],
            "text/plain": [
              "        fall nametype\n",
              "0       Fell    Valid\n",
              "1       Fell    Valid\n",
              "2       Fell    Valid\n",
              "3       Fell    Valid\n",
              "4       Fell    Valid\n",
              "...      ...      ...\n",
              "45711  Found    Valid\n",
              "45712  Found    Valid\n",
              "45713  Found    Valid\n",
              "45714  Found    Valid\n",
              "45715  Found    Valid\n",
              "\n",
              "[45716 rows x 2 columns]"
            ]
          },
          "metadata": {
            "tags": []
          },
          "execution_count": 12
        }
      ]
    },
    {
      "cell_type": "markdown",
      "metadata": {
        "id": "jGE7GdL5OHfv"
      },
      "source": [
        "\n",
        "`.astype('category')` define una nueva variable en nuestrp DF\n",
        "\n",
        "\n",
        "\n",
        "\n"
      ]
    },
    {
      "cell_type": "code",
      "metadata": {
        "colab": {
          "base_uri": "https://localhost:8080/",
          "height": 424
        },
        "id": "BXjqVJcEOhGw",
        "outputId": "792fb83f-b5ad-427a-c02c-a1348cb8e6a8"
      },
      "source": [
        "df_meteorites[['fall','nametype']].astype('category')"
      ],
      "execution_count": 13,
      "outputs": [
        {
          "output_type": "execute_result",
          "data": {
            "text/html": [
              "<div>\n",
              "<style scoped>\n",
              "    .dataframe tbody tr th:only-of-type {\n",
              "        vertical-align: middle;\n",
              "    }\n",
              "\n",
              "    .dataframe tbody tr th {\n",
              "        vertical-align: top;\n",
              "    }\n",
              "\n",
              "    .dataframe thead th {\n",
              "        text-align: right;\n",
              "    }\n",
              "</style>\n",
              "<table border=\"1\" class=\"dataframe\">\n",
              "  <thead>\n",
              "    <tr style=\"text-align: right;\">\n",
              "      <th></th>\n",
              "      <th>fall</th>\n",
              "      <th>nametype</th>\n",
              "    </tr>\n",
              "  </thead>\n",
              "  <tbody>\n",
              "    <tr>\n",
              "      <th>0</th>\n",
              "      <td>Fell</td>\n",
              "      <td>Valid</td>\n",
              "    </tr>\n",
              "    <tr>\n",
              "      <th>1</th>\n",
              "      <td>Fell</td>\n",
              "      <td>Valid</td>\n",
              "    </tr>\n",
              "    <tr>\n",
              "      <th>2</th>\n",
              "      <td>Fell</td>\n",
              "      <td>Valid</td>\n",
              "    </tr>\n",
              "    <tr>\n",
              "      <th>3</th>\n",
              "      <td>Fell</td>\n",
              "      <td>Valid</td>\n",
              "    </tr>\n",
              "    <tr>\n",
              "      <th>4</th>\n",
              "      <td>Fell</td>\n",
              "      <td>Valid</td>\n",
              "    </tr>\n",
              "    <tr>\n",
              "      <th>...</th>\n",
              "      <td>...</td>\n",
              "      <td>...</td>\n",
              "    </tr>\n",
              "    <tr>\n",
              "      <th>45711</th>\n",
              "      <td>Found</td>\n",
              "      <td>Valid</td>\n",
              "    </tr>\n",
              "    <tr>\n",
              "      <th>45712</th>\n",
              "      <td>Found</td>\n",
              "      <td>Valid</td>\n",
              "    </tr>\n",
              "    <tr>\n",
              "      <th>45713</th>\n",
              "      <td>Found</td>\n",
              "      <td>Valid</td>\n",
              "    </tr>\n",
              "    <tr>\n",
              "      <th>45714</th>\n",
              "      <td>Found</td>\n",
              "      <td>Valid</td>\n",
              "    </tr>\n",
              "    <tr>\n",
              "      <th>45715</th>\n",
              "      <td>Found</td>\n",
              "      <td>Valid</td>\n",
              "    </tr>\n",
              "  </tbody>\n",
              "</table>\n",
              "<p>45716 rows × 2 columns</p>\n",
              "</div>"
            ],
            "text/plain": [
              "        fall nametype\n",
              "0       Fell    Valid\n",
              "1       Fell    Valid\n",
              "2       Fell    Valid\n",
              "3       Fell    Valid\n",
              "4       Fell    Valid\n",
              "...      ...      ...\n",
              "45711  Found    Valid\n",
              "45712  Found    Valid\n",
              "45713  Found    Valid\n",
              "45714  Found    Valid\n",
              "45715  Found    Valid\n",
              "\n",
              "[45716 rows x 2 columns]"
            ]
          },
          "metadata": {
            "tags": []
          },
          "execution_count": 13
        }
      ]
    },
    {
      "cell_type": "markdown",
      "metadata": {
        "id": "VcakgqRCOrsY"
      },
      "source": [
        "Aseguramos que el cambio afecte al DataFrame, hacemos lo siguiente"
      ]
    },
    {
      "cell_type": "code",
      "metadata": {
        "id": "TpxIl1pgDueD"
      },
      "source": [
        "df_meteorites[['fall','nametype']] = df_meteorites[['fall','nametype']].astype('category')"
      ],
      "execution_count": 14,
      "outputs": []
    },
    {
      "cell_type": "code",
      "metadata": {
        "id": "q3z-IcrnDyog",
        "colab": {
          "base_uri": "https://localhost:8080/"
        },
        "outputId": "02cbd482-c94b-4af1-f0ea-0f5ed7849cf4"
      },
      "source": [
        "#vemos que el cambio se ha efectuado\n",
        "df_meteorites.dtypes"
      ],
      "execution_count": 16,
      "outputs": [
        {
          "output_type": "execute_result",
          "data": {
            "text/plain": [
              "name             object\n",
              "id                int64\n",
              "nametype       category\n",
              "recclass         object\n",
              "mass (g)        float64\n",
              "fall           category\n",
              "year             object\n",
              "reclat          float64\n",
              "reclong         float64\n",
              "GeoLocation      object\n",
              "dtype: object"
            ]
          },
          "metadata": {
            "tags": []
          },
          "execution_count": 16
        }
      ]
    },
    {
      "cell_type": "markdown",
      "metadata": {
        "id": "br-GOgqUPKO_"
      },
      "source": [
        "- Podemo usar `unique()` para saber cuales son el tipo de categorias que contiene la columna (teniendo en caso que evidendeciamos esto). Encontramos la cántidad de objeto que contiene "
      ]
    },
    {
      "cell_type": "code",
      "metadata": {
        "id": "GSYxGrbWD9Rs",
        "colab": {
          "base_uri": "https://localhost:8080/",
          "height": 52
        },
        "outputId": "6e355a37-e545-4486-d67e-e32f761c42b8"
      },
      "source": [
        "df_meteorites['fall'].unique()"
      ],
      "execution_count": null,
      "outputs": [
        {
          "output_type": "execute_result",
          "data": {
            "text/plain": [
              "[Fell, Found]\n",
              "Categories (2, object): [Fell, Found]"
            ]
          },
          "metadata": {
            "tags": []
          },
          "execution_count": 63
        }
      ]
    },
    {
      "cell_type": "markdown",
      "metadata": {
        "id": "F8dbvR6jPhwn"
      },
      "source": [
        "- Con `.value_counts()` podemos saber la frecuencia de estás categorias o palabras "
      ]
    },
    {
      "cell_type": "code",
      "metadata": {
        "id": "B8pitcG5EDdk",
        "colab": {
          "base_uri": "https://localhost:8080/"
        },
        "outputId": "31c3e7f7-82b6-4080-eb6e-3290c0650ed2"
      },
      "source": [
        "df_meteorites['fall'].value_counts()"
      ],
      "execution_count": 17,
      "outputs": [
        {
          "output_type": "execute_result",
          "data": {
            "text/plain": [
              "Found    44609\n",
              "Fell      1107\n",
              "Name: fall, dtype: int64"
            ]
          },
          "metadata": {
            "tags": []
          },
          "execution_count": 17
        }
      ]
    },
    {
      "cell_type": "markdown",
      "metadata": {
        "id": "MkXHIw6oP8st"
      },
      "source": [
        "- Otra forma de trabajar con variables categoricas es crear variables dummies `.get_dummies()`.\n",
        "\n",
        "Convertir las variables de tipo texto a númerico al momento de realizar un analisis de datos, es una buena practica. Se tiene en cuenta que esto se hace directamente en el pd para que el cambio se vea aplicado "
      ]
    },
    {
      "cell_type": "code",
      "metadata": {
        "id": "D8Lkt2ZPEH7j",
        "colab": {
          "base_uri": "https://localhost:8080/",
          "height": 424
        },
        "outputId": "e4b778f4-08d4-4359-c40b-d6da98ca34ca"
      },
      "source": [
        "pd.get_dummies(df_meteorites['fall'])"
      ],
      "execution_count": null,
      "outputs": [
        {
          "output_type": "execute_result",
          "data": {
            "text/html": [
              "<div>\n",
              "<style scoped>\n",
              "    .dataframe tbody tr th:only-of-type {\n",
              "        vertical-align: middle;\n",
              "    }\n",
              "\n",
              "    .dataframe tbody tr th {\n",
              "        vertical-align: top;\n",
              "    }\n",
              "\n",
              "    .dataframe thead th {\n",
              "        text-align: right;\n",
              "    }\n",
              "</style>\n",
              "<table border=\"1\" class=\"dataframe\">\n",
              "  <thead>\n",
              "    <tr style=\"text-align: right;\">\n",
              "      <th></th>\n",
              "      <th>Fell</th>\n",
              "      <th>Found</th>\n",
              "    </tr>\n",
              "  </thead>\n",
              "  <tbody>\n",
              "    <tr>\n",
              "      <th>0</th>\n",
              "      <td>1</td>\n",
              "      <td>0</td>\n",
              "    </tr>\n",
              "    <tr>\n",
              "      <th>1</th>\n",
              "      <td>1</td>\n",
              "      <td>0</td>\n",
              "    </tr>\n",
              "    <tr>\n",
              "      <th>2</th>\n",
              "      <td>1</td>\n",
              "      <td>0</td>\n",
              "    </tr>\n",
              "    <tr>\n",
              "      <th>3</th>\n",
              "      <td>1</td>\n",
              "      <td>0</td>\n",
              "    </tr>\n",
              "    <tr>\n",
              "      <th>4</th>\n",
              "      <td>1</td>\n",
              "      <td>0</td>\n",
              "    </tr>\n",
              "    <tr>\n",
              "      <th>...</th>\n",
              "      <td>...</td>\n",
              "      <td>...</td>\n",
              "    </tr>\n",
              "    <tr>\n",
              "      <th>45711</th>\n",
              "      <td>0</td>\n",
              "      <td>1</td>\n",
              "    </tr>\n",
              "    <tr>\n",
              "      <th>45712</th>\n",
              "      <td>0</td>\n",
              "      <td>1</td>\n",
              "    </tr>\n",
              "    <tr>\n",
              "      <th>45713</th>\n",
              "      <td>0</td>\n",
              "      <td>1</td>\n",
              "    </tr>\n",
              "    <tr>\n",
              "      <th>45714</th>\n",
              "      <td>0</td>\n",
              "      <td>1</td>\n",
              "    </tr>\n",
              "    <tr>\n",
              "      <th>45715</th>\n",
              "      <td>0</td>\n",
              "      <td>1</td>\n",
              "    </tr>\n",
              "  </tbody>\n",
              "</table>\n",
              "<p>45716 rows × 2 columns</p>\n",
              "</div>"
            ],
            "text/plain": [
              "       Fell  Found\n",
              "0         1      0\n",
              "1         1      0\n",
              "2         1      0\n",
              "3         1      0\n",
              "4         1      0\n",
              "...     ...    ...\n",
              "45711     0      1\n",
              "45712     0      1\n",
              "45713     0      1\n",
              "45714     0      1\n",
              "45715     0      1\n",
              "\n",
              "[45716 rows x 2 columns]"
            ]
          },
          "metadata": {
            "tags": []
          },
          "execution_count": 65
        }
      ]
    },
    {
      "cell_type": "markdown",
      "metadata": {
        "id": "bxSfSZgAR21n"
      },
      "source": [
        "Se pueden crear nuevas variables, columnas; colocando el nombre de la columna dentro de un corchete, de la siguiente forma:"
      ]
    },
    {
      "cell_type": "code",
      "metadata": {
        "id": "f9aD-sP3EPjS",
        "colab": {
          "base_uri": "https://localhost:8080/",
          "height": 424
        },
        "outputId": "d84a0f52-65cb-469f-c94e-48afcede6e83"
      },
      "source": [
        "df_meteorites['ones'] = 1\n",
        "df_meteorites"
      ],
      "execution_count": null,
      "outputs": [
        {
          "output_type": "execute_result",
          "data": {
            "text/html": [
              "<div>\n",
              "<style scoped>\n",
              "    .dataframe tbody tr th:only-of-type {\n",
              "        vertical-align: middle;\n",
              "    }\n",
              "\n",
              "    .dataframe tbody tr th {\n",
              "        vertical-align: top;\n",
              "    }\n",
              "\n",
              "    .dataframe thead th {\n",
              "        text-align: right;\n",
              "    }\n",
              "</style>\n",
              "<table border=\"1\" class=\"dataframe\">\n",
              "  <thead>\n",
              "    <tr style=\"text-align: right;\">\n",
              "      <th></th>\n",
              "      <th>name</th>\n",
              "      <th>id</th>\n",
              "      <th>nametype</th>\n",
              "      <th>recclass</th>\n",
              "      <th>mass (g)</th>\n",
              "      <th>fall</th>\n",
              "      <th>year</th>\n",
              "      <th>reclat</th>\n",
              "      <th>reclong</th>\n",
              "      <th>GeoLocation</th>\n",
              "      <th>ones</th>\n",
              "    </tr>\n",
              "  </thead>\n",
              "  <tbody>\n",
              "    <tr>\n",
              "      <th>0</th>\n",
              "      <td>Aachen</td>\n",
              "      <td>1</td>\n",
              "      <td>Valid</td>\n",
              "      <td>L5</td>\n",
              "      <td>21.0</td>\n",
              "      <td>Fell</td>\n",
              "      <td>01/01/1880 12:00:00 AM</td>\n",
              "      <td>50.8</td>\n",
              "      <td>6.1</td>\n",
              "      <td>(50.775, 6.08333)</td>\n",
              "      <td>1</td>\n",
              "    </tr>\n",
              "    <tr>\n",
              "      <th>1</th>\n",
              "      <td>Aarhus</td>\n",
              "      <td>2</td>\n",
              "      <td>Valid</td>\n",
              "      <td>H6</td>\n",
              "      <td>720.0</td>\n",
              "      <td>Fell</td>\n",
              "      <td>01/01/1951 12:00:00 AM</td>\n",
              "      <td>56.2</td>\n",
              "      <td>10.2</td>\n",
              "      <td>(56.18333, 10.23333)</td>\n",
              "      <td>1</td>\n",
              "    </tr>\n",
              "    <tr>\n",
              "      <th>2</th>\n",
              "      <td>Abee</td>\n",
              "      <td>6</td>\n",
              "      <td>Valid</td>\n",
              "      <td>EH4</td>\n",
              "      <td>107,000.0</td>\n",
              "      <td>Fell</td>\n",
              "      <td>01/01/1952 12:00:00 AM</td>\n",
              "      <td>54.2</td>\n",
              "      <td>-113.0</td>\n",
              "      <td>(54.21667, -113.0)</td>\n",
              "      <td>1</td>\n",
              "    </tr>\n",
              "    <tr>\n",
              "      <th>3</th>\n",
              "      <td>Acapulco</td>\n",
              "      <td>10</td>\n",
              "      <td>Valid</td>\n",
              "      <td>Acapulcoite</td>\n",
              "      <td>1,914.0</td>\n",
              "      <td>Fell</td>\n",
              "      <td>01/01/1976 12:00:00 AM</td>\n",
              "      <td>16.9</td>\n",
              "      <td>-99.9</td>\n",
              "      <td>(16.88333, -99.9)</td>\n",
              "      <td>1</td>\n",
              "    </tr>\n",
              "    <tr>\n",
              "      <th>4</th>\n",
              "      <td>Achiras</td>\n",
              "      <td>370</td>\n",
              "      <td>Valid</td>\n",
              "      <td>L6</td>\n",
              "      <td>780.0</td>\n",
              "      <td>Fell</td>\n",
              "      <td>01/01/1902 12:00:00 AM</td>\n",
              "      <td>-33.2</td>\n",
              "      <td>-65.0</td>\n",
              "      <td>(-33.16667, -64.95)</td>\n",
              "      <td>1</td>\n",
              "    </tr>\n",
              "    <tr>\n",
              "      <th>...</th>\n",
              "      <td>...</td>\n",
              "      <td>...</td>\n",
              "      <td>...</td>\n",
              "      <td>...</td>\n",
              "      <td>...</td>\n",
              "      <td>...</td>\n",
              "      <td>...</td>\n",
              "      <td>...</td>\n",
              "      <td>...</td>\n",
              "      <td>...</td>\n",
              "      <td>...</td>\n",
              "    </tr>\n",
              "    <tr>\n",
              "      <th>45711</th>\n",
              "      <td>Zillah 002</td>\n",
              "      <td>31356</td>\n",
              "      <td>Valid</td>\n",
              "      <td>Eucrite</td>\n",
              "      <td>172.0</td>\n",
              "      <td>Found</td>\n",
              "      <td>01/01/1990 12:00:00 AM</td>\n",
              "      <td>29.0</td>\n",
              "      <td>17.0</td>\n",
              "      <td>(29.037, 17.0185)</td>\n",
              "      <td>1</td>\n",
              "    </tr>\n",
              "    <tr>\n",
              "      <th>45712</th>\n",
              "      <td>Zinder</td>\n",
              "      <td>30409</td>\n",
              "      <td>Valid</td>\n",
              "      <td>Pallasite, ungrouped</td>\n",
              "      <td>46.0</td>\n",
              "      <td>Found</td>\n",
              "      <td>01/01/1999 12:00:00 AM</td>\n",
              "      <td>13.8</td>\n",
              "      <td>9.0</td>\n",
              "      <td>(13.78333, 8.96667)</td>\n",
              "      <td>1</td>\n",
              "    </tr>\n",
              "    <tr>\n",
              "      <th>45713</th>\n",
              "      <td>Zlin</td>\n",
              "      <td>30410</td>\n",
              "      <td>Valid</td>\n",
              "      <td>H4</td>\n",
              "      <td>3.3</td>\n",
              "      <td>Found</td>\n",
              "      <td>01/01/1939 12:00:00 AM</td>\n",
              "      <td>49.2</td>\n",
              "      <td>17.7</td>\n",
              "      <td>(49.25, 17.66667)</td>\n",
              "      <td>1</td>\n",
              "    </tr>\n",
              "    <tr>\n",
              "      <th>45714</th>\n",
              "      <td>Zubkovsky</td>\n",
              "      <td>31357</td>\n",
              "      <td>Valid</td>\n",
              "      <td>L6</td>\n",
              "      <td>2,167.0</td>\n",
              "      <td>Found</td>\n",
              "      <td>01/01/2003 12:00:00 AM</td>\n",
              "      <td>49.8</td>\n",
              "      <td>41.5</td>\n",
              "      <td>(49.78917, 41.5046)</td>\n",
              "      <td>1</td>\n",
              "    </tr>\n",
              "    <tr>\n",
              "      <th>45715</th>\n",
              "      <td>Zulu Queen</td>\n",
              "      <td>30414</td>\n",
              "      <td>Valid</td>\n",
              "      <td>L3.7</td>\n",
              "      <td>200.0</td>\n",
              "      <td>Found</td>\n",
              "      <td>01/01/1976 12:00:00 AM</td>\n",
              "      <td>34.0</td>\n",
              "      <td>-115.7</td>\n",
              "      <td>(33.98333, -115.68333)</td>\n",
              "      <td>1</td>\n",
              "    </tr>\n",
              "  </tbody>\n",
              "</table>\n",
              "<p>45716 rows × 11 columns</p>\n",
              "</div>"
            ],
            "text/plain": [
              "             name     id nametype  ... reclong             GeoLocation ones\n",
              "0          Aachen      1    Valid  ...     6.1       (50.775, 6.08333)    1\n",
              "1          Aarhus      2    Valid  ...    10.2    (56.18333, 10.23333)    1\n",
              "2            Abee      6    Valid  ...  -113.0      (54.21667, -113.0)    1\n",
              "3        Acapulco     10    Valid  ...   -99.9       (16.88333, -99.9)    1\n",
              "4         Achiras    370    Valid  ...   -65.0     (-33.16667, -64.95)    1\n",
              "...           ...    ...      ...  ...     ...                     ...  ...\n",
              "45711  Zillah 002  31356    Valid  ...    17.0       (29.037, 17.0185)    1\n",
              "45712      Zinder  30409    Valid  ...     9.0     (13.78333, 8.96667)    1\n",
              "45713        Zlin  30410    Valid  ...    17.7       (49.25, 17.66667)    1\n",
              "45714   Zubkovsky  31357    Valid  ...    41.5     (49.78917, 41.5046)    1\n",
              "45715  Zulu Queen  30414    Valid  ...  -115.7  (33.98333, -115.68333)    1\n",
              "\n",
              "[45716 rows x 11 columns]"
            ]
          },
          "metadata": {
            "tags": []
          },
          "execution_count": 66
        }
      ]
    },
    {
      "cell_type": "markdown",
      "metadata": {
        "id": "LTmFO5PGScQE"
      },
      "source": [
        "Si se quiere quiere crear las columnas **fell** y **found** con la varibale dummies se hace de la siguiente forma:\n",
        "  - Definimos nuestras dos variables dummies dentro de los corchetes para crear sus correspondiente columnas "
      ]
    },
    {
      "cell_type": "code",
      "metadata": {
        "id": "lzllf5OQEttS"
      },
      "source": [
        "df_meteorites[['fell','found']] = pd.get_dummies(df_meteorites['fall'])"
      ],
      "execution_count": 18,
      "outputs": []
    },
    {
      "cell_type": "code",
      "metadata": {
        "id": "-i2CmYGLE3IF",
        "colab": {
          "base_uri": "https://localhost:8080/",
          "height": 597
        },
        "outputId": "70472b6f-7946-41b3-f5a7-10770598f5fd"
      },
      "source": [
        "df_meteorites"
      ],
      "execution_count": null,
      "outputs": [
        {
          "output_type": "execute_result",
          "data": {
            "text/html": [
              "<div>\n",
              "<style scoped>\n",
              "    .dataframe tbody tr th:only-of-type {\n",
              "        vertical-align: middle;\n",
              "    }\n",
              "\n",
              "    .dataframe tbody tr th {\n",
              "        vertical-align: top;\n",
              "    }\n",
              "\n",
              "    .dataframe thead th {\n",
              "        text-align: right;\n",
              "    }\n",
              "</style>\n",
              "<table border=\"1\" class=\"dataframe\">\n",
              "  <thead>\n",
              "    <tr style=\"text-align: right;\">\n",
              "      <th></th>\n",
              "      <th>name</th>\n",
              "      <th>id</th>\n",
              "      <th>nametype</th>\n",
              "      <th>recclass</th>\n",
              "      <th>mass (g)</th>\n",
              "      <th>fall</th>\n",
              "      <th>year</th>\n",
              "      <th>reclat</th>\n",
              "      <th>reclong</th>\n",
              "      <th>GeoLocation</th>\n",
              "      <th>ones</th>\n",
              "      <th>fell</th>\n",
              "      <th>found</th>\n",
              "    </tr>\n",
              "  </thead>\n",
              "  <tbody>\n",
              "    <tr>\n",
              "      <th>0</th>\n",
              "      <td>Aachen</td>\n",
              "      <td>1</td>\n",
              "      <td>Valid</td>\n",
              "      <td>L5</td>\n",
              "      <td>21.0</td>\n",
              "      <td>Fell</td>\n",
              "      <td>01/01/1880 12:00:00 AM</td>\n",
              "      <td>50.8</td>\n",
              "      <td>6.1</td>\n",
              "      <td>(50.775, 6.08333)</td>\n",
              "      <td>1</td>\n",
              "      <td>1</td>\n",
              "      <td>0</td>\n",
              "    </tr>\n",
              "    <tr>\n",
              "      <th>1</th>\n",
              "      <td>Aarhus</td>\n",
              "      <td>2</td>\n",
              "      <td>Valid</td>\n",
              "      <td>H6</td>\n",
              "      <td>720.0</td>\n",
              "      <td>Fell</td>\n",
              "      <td>01/01/1951 12:00:00 AM</td>\n",
              "      <td>56.2</td>\n",
              "      <td>10.2</td>\n",
              "      <td>(56.18333, 10.23333)</td>\n",
              "      <td>1</td>\n",
              "      <td>1</td>\n",
              "      <td>0</td>\n",
              "    </tr>\n",
              "    <tr>\n",
              "      <th>2</th>\n",
              "      <td>Abee</td>\n",
              "      <td>6</td>\n",
              "      <td>Valid</td>\n",
              "      <td>EH4</td>\n",
              "      <td>107,000.0</td>\n",
              "      <td>Fell</td>\n",
              "      <td>01/01/1952 12:00:00 AM</td>\n",
              "      <td>54.2</td>\n",
              "      <td>-113.0</td>\n",
              "      <td>(54.21667, -113.0)</td>\n",
              "      <td>1</td>\n",
              "      <td>1</td>\n",
              "      <td>0</td>\n",
              "    </tr>\n",
              "    <tr>\n",
              "      <th>3</th>\n",
              "      <td>Acapulco</td>\n",
              "      <td>10</td>\n",
              "      <td>Valid</td>\n",
              "      <td>Acapulcoite</td>\n",
              "      <td>1,914.0</td>\n",
              "      <td>Fell</td>\n",
              "      <td>01/01/1976 12:00:00 AM</td>\n",
              "      <td>16.9</td>\n",
              "      <td>-99.9</td>\n",
              "      <td>(16.88333, -99.9)</td>\n",
              "      <td>1</td>\n",
              "      <td>1</td>\n",
              "      <td>0</td>\n",
              "    </tr>\n",
              "    <tr>\n",
              "      <th>4</th>\n",
              "      <td>Achiras</td>\n",
              "      <td>370</td>\n",
              "      <td>Valid</td>\n",
              "      <td>L6</td>\n",
              "      <td>780.0</td>\n",
              "      <td>Fell</td>\n",
              "      <td>01/01/1902 12:00:00 AM</td>\n",
              "      <td>-33.2</td>\n",
              "      <td>-65.0</td>\n",
              "      <td>(-33.16667, -64.95)</td>\n",
              "      <td>1</td>\n",
              "      <td>1</td>\n",
              "      <td>0</td>\n",
              "    </tr>\n",
              "    <tr>\n",
              "      <th>...</th>\n",
              "      <td>...</td>\n",
              "      <td>...</td>\n",
              "      <td>...</td>\n",
              "      <td>...</td>\n",
              "      <td>...</td>\n",
              "      <td>...</td>\n",
              "      <td>...</td>\n",
              "      <td>...</td>\n",
              "      <td>...</td>\n",
              "      <td>...</td>\n",
              "      <td>...</td>\n",
              "      <td>...</td>\n",
              "      <td>...</td>\n",
              "    </tr>\n",
              "    <tr>\n",
              "      <th>45711</th>\n",
              "      <td>Zillah 002</td>\n",
              "      <td>31356</td>\n",
              "      <td>Valid</td>\n",
              "      <td>Eucrite</td>\n",
              "      <td>172.0</td>\n",
              "      <td>Found</td>\n",
              "      <td>01/01/1990 12:00:00 AM</td>\n",
              "      <td>29.0</td>\n",
              "      <td>17.0</td>\n",
              "      <td>(29.037, 17.0185)</td>\n",
              "      <td>1</td>\n",
              "      <td>0</td>\n",
              "      <td>1</td>\n",
              "    </tr>\n",
              "    <tr>\n",
              "      <th>45712</th>\n",
              "      <td>Zinder</td>\n",
              "      <td>30409</td>\n",
              "      <td>Valid</td>\n",
              "      <td>Pallasite, ungrouped</td>\n",
              "      <td>46.0</td>\n",
              "      <td>Found</td>\n",
              "      <td>01/01/1999 12:00:00 AM</td>\n",
              "      <td>13.8</td>\n",
              "      <td>9.0</td>\n",
              "      <td>(13.78333, 8.96667)</td>\n",
              "      <td>1</td>\n",
              "      <td>0</td>\n",
              "      <td>1</td>\n",
              "    </tr>\n",
              "    <tr>\n",
              "      <th>45713</th>\n",
              "      <td>Zlin</td>\n",
              "      <td>30410</td>\n",
              "      <td>Valid</td>\n",
              "      <td>H4</td>\n",
              "      <td>3.3</td>\n",
              "      <td>Found</td>\n",
              "      <td>01/01/1939 12:00:00 AM</td>\n",
              "      <td>49.2</td>\n",
              "      <td>17.7</td>\n",
              "      <td>(49.25, 17.66667)</td>\n",
              "      <td>1</td>\n",
              "      <td>0</td>\n",
              "      <td>1</td>\n",
              "    </tr>\n",
              "    <tr>\n",
              "      <th>45714</th>\n",
              "      <td>Zubkovsky</td>\n",
              "      <td>31357</td>\n",
              "      <td>Valid</td>\n",
              "      <td>L6</td>\n",
              "      <td>2,167.0</td>\n",
              "      <td>Found</td>\n",
              "      <td>01/01/2003 12:00:00 AM</td>\n",
              "      <td>49.8</td>\n",
              "      <td>41.5</td>\n",
              "      <td>(49.78917, 41.5046)</td>\n",
              "      <td>1</td>\n",
              "      <td>0</td>\n",
              "      <td>1</td>\n",
              "    </tr>\n",
              "    <tr>\n",
              "      <th>45715</th>\n",
              "      <td>Zulu Queen</td>\n",
              "      <td>30414</td>\n",
              "      <td>Valid</td>\n",
              "      <td>L3.7</td>\n",
              "      <td>200.0</td>\n",
              "      <td>Found</td>\n",
              "      <td>01/01/1976 12:00:00 AM</td>\n",
              "      <td>34.0</td>\n",
              "      <td>-115.7</td>\n",
              "      <td>(33.98333, -115.68333)</td>\n",
              "      <td>1</td>\n",
              "      <td>0</td>\n",
              "      <td>1</td>\n",
              "    </tr>\n",
              "  </tbody>\n",
              "</table>\n",
              "<p>45716 rows × 13 columns</p>\n",
              "</div>"
            ],
            "text/plain": [
              "             name     id nametype  ... ones  fell found\n",
              "0          Aachen      1    Valid  ...    1     1     0\n",
              "1          Aarhus      2    Valid  ...    1     1     0\n",
              "2            Abee      6    Valid  ...    1     1     0\n",
              "3        Acapulco     10    Valid  ...    1     1     0\n",
              "4         Achiras    370    Valid  ...    1     1     0\n",
              "...           ...    ...      ...  ...  ...   ...   ...\n",
              "45711  Zillah 002  31356    Valid  ...    1     0     1\n",
              "45712      Zinder  30409    Valid  ...    1     0     1\n",
              "45713        Zlin  30410    Valid  ...    1     0     1\n",
              "45714   Zubkovsky  31357    Valid  ...    1     0     1\n",
              "45715  Zulu Queen  30414    Valid  ...    1     0     1\n",
              "\n",
              "[45716 rows x 13 columns]"
            ]
          },
          "metadata": {
            "tags": []
          },
          "execution_count": 68
        }
      ]
    },
    {
      "cell_type": "markdown",
      "metadata": {
        "id": "FJz_4zlDTgyY"
      },
      "source": [
        "#### Variables de tiempo "
      ]
    },
    {
      "cell_type": "code",
      "metadata": {
        "id": "ErGUy9aPE4EF",
        "colab": {
          "base_uri": "https://localhost:8080/",
          "height": 225
        },
        "outputId": "5112d27d-35ec-492f-a866-454c8105bf85"
      },
      "source": [
        "df_meteorites['year']"
      ],
      "execution_count": null,
      "outputs": [
        {
          "output_type": "execute_result",
          "data": {
            "text/plain": [
              "0        01/01/1880 12:00:00 AM\n",
              "1        01/01/1951 12:00:00 AM\n",
              "2        01/01/1952 12:00:00 AM\n",
              "3        01/01/1976 12:00:00 AM\n",
              "4        01/01/1902 12:00:00 AM\n",
              "                  ...          \n",
              "45711    01/01/1990 12:00:00 AM\n",
              "45712    01/01/1999 12:00:00 AM\n",
              "45713    01/01/1939 12:00:00 AM\n",
              "45714    01/01/2003 12:00:00 AM\n",
              "45715    01/01/1976 12:00:00 AM\n",
              "Name: year, Length: 45716, dtype: object"
            ]
          },
          "metadata": {
            "tags": []
          },
          "execution_count": 69
        }
      ]
    },
    {
      "cell_type": "markdown",
      "metadata": {
        "id": "Wy_AGtxDT5u_"
      },
      "source": [
        "- Para transformar la variable a tipo tiempo (ya que se encuentra de tipo texto), utilizamos `pd.to_datetime()` dentro del parentesis colocamos la serie y se pueden agregar otros argumentos extras que permiten convertir de tipo texto a tiempo. la primera es usar el parámetro `errors = 'coerce'`, esto me permite, que cada vez que encuentre un formato que no corresponda al tiempo, simplemente genere una variable no númerica, así mismo definimos el formato `format = '%m/%d/%Y %H:%M:%S %p'` que compone nuestra fecha"
      ]
    },
    {
      "cell_type": "code",
      "metadata": {
        "id": "AFFSxS6lE9gL",
        "colab": {
          "base_uri": "https://localhost:8080/"
        },
        "outputId": "7a699e98-f693-4657-96af-60fd54a965af"
      },
      "source": [
        "pd.to_datetime(\n",
        "df_meteorites['year'],\n",
        "errors = 'coerce',\n",
        "format = '%m/%d/%Y %H:%M:%S %p'\n",
        ")"
      ],
      "execution_count": 19,
      "outputs": [
        {
          "output_type": "execute_result",
          "data": {
            "text/plain": [
              "0       1880-01-01 12:00:00\n",
              "1       1951-01-01 12:00:00\n",
              "2       1952-01-01 12:00:00\n",
              "3       1976-01-01 12:00:00\n",
              "4       1902-01-01 12:00:00\n",
              "                ...        \n",
              "45711   1990-01-01 12:00:00\n",
              "45712   1999-01-01 12:00:00\n",
              "45713   1939-01-01 12:00:00\n",
              "45714   2003-01-01 12:00:00\n",
              "45715   1976-01-01 12:00:00\n",
              "Name: year, Length: 45716, dtype: datetime64[ns]"
            ]
          },
          "metadata": {
            "tags": []
          },
          "execution_count": 19
        }
      ]
    },
    {
      "cell_type": "markdown",
      "metadata": {
        "id": "J_8DQC10V9mX"
      },
      "source": [
        "Para almacenar la variable dentro del DataFrame, cogemos la columna 'año' y la sobreescribimos con la celda anterior que se creo. "
      ]
    },
    {
      "cell_type": "code",
      "metadata": {
        "id": "HGOV6UWmFVtn"
      },
      "source": [
        "df_meteorites['year'] =  pd.to_datetime(\n",
        "df_meteorites['year'],\n",
        "errors = 'coerce',\n",
        "format = '%m/%d/%Y %H:%M:%S %p'\n",
        ")"
      ],
      "execution_count": 20,
      "outputs": []
    },
    {
      "cell_type": "markdown",
      "metadata": {
        "id": "mXPZzon1WcFC"
      },
      "source": [
        "Revisamos los cambiamos que se han realizado con respecto al cambio de tipo de las variables y las nuevas columnas que se han creado"
      ]
    },
    {
      "cell_type": "code",
      "metadata": {
        "id": "vWAufz9tFdV6",
        "colab": {
          "base_uri": "https://localhost:8080/",
          "height": 260
        },
        "outputId": "aa065788-e443-4172-cec9-b14e589eb37f"
      },
      "source": [
        "df_meteorites.convert_dtypes().dtypes"
      ],
      "execution_count": null,
      "outputs": [
        {
          "output_type": "execute_result",
          "data": {
            "text/plain": [
              "name                   string\n",
              "id                      Int64\n",
              "nametype             category\n",
              "recclass               string\n",
              "mass (g)              float64\n",
              "fall                 category\n",
              "year           datetime64[ns]\n",
              "reclat                float64\n",
              "reclong               float64\n",
              "GeoLocation            string\n",
              "ones                    Int64\n",
              "fell                    UInt8\n",
              "found                   UInt8\n",
              "dtype: object"
            ]
          },
          "metadata": {
            "tags": []
          },
          "execution_count": 73
        }
      ]
    },
    {
      "cell_type": "markdown",
      "metadata": {
        "id": "OC1C6bPHWpvI"
      },
      "source": [
        "- Si se quiere renombrar el nombre de las columnas, se puede hacer utilizando  `.rename`, se crea dentro un diccionario que va a contener el nombre de la columna inicial y después el nombre de la columna que va a contener\n",
        "\n",
        "Si se quiere guardar directamente este cambio directamente en el DataFrame, agregamos el parámetro `inplace=True `, significa que los cambios que realice, se han guardados directamente en el DataFrame"
      ]
    },
    {
      "cell_type": "code",
      "metadata": {
        "id": "B13vBljmFfNi"
      },
      "source": [
        "df_meteorites.rename(columns={'mass (g)':'mass'}, inplace=True)"
      ],
      "execution_count": 21,
      "outputs": []
    },
    {
      "cell_type": "code",
      "metadata": {
        "id": "2MWQvC2BF_1U",
        "colab": {
          "base_uri": "https://localhost:8080/",
          "height": 424
        },
        "outputId": "e5ac48c3-9650-4901-e20f-e0f35f831a06"
      },
      "source": [
        "df_meteorites"
      ],
      "execution_count": 22,
      "outputs": [
        {
          "output_type": "execute_result",
          "data": {
            "text/html": [
              "<div>\n",
              "<style scoped>\n",
              "    .dataframe tbody tr th:only-of-type {\n",
              "        vertical-align: middle;\n",
              "    }\n",
              "\n",
              "    .dataframe tbody tr th {\n",
              "        vertical-align: top;\n",
              "    }\n",
              "\n",
              "    .dataframe thead th {\n",
              "        text-align: right;\n",
              "    }\n",
              "</style>\n",
              "<table border=\"1\" class=\"dataframe\">\n",
              "  <thead>\n",
              "    <tr style=\"text-align: right;\">\n",
              "      <th></th>\n",
              "      <th>name</th>\n",
              "      <th>id</th>\n",
              "      <th>nametype</th>\n",
              "      <th>recclass</th>\n",
              "      <th>mass</th>\n",
              "      <th>fall</th>\n",
              "      <th>year</th>\n",
              "      <th>reclat</th>\n",
              "      <th>reclong</th>\n",
              "      <th>GeoLocation</th>\n",
              "      <th>fell</th>\n",
              "      <th>found</th>\n",
              "    </tr>\n",
              "  </thead>\n",
              "  <tbody>\n",
              "    <tr>\n",
              "      <th>0</th>\n",
              "      <td>Aachen</td>\n",
              "      <td>1</td>\n",
              "      <td>Valid</td>\n",
              "      <td>L5</td>\n",
              "      <td>21.0</td>\n",
              "      <td>Fell</td>\n",
              "      <td>1880-01-01 12:00:00</td>\n",
              "      <td>50.8</td>\n",
              "      <td>6.1</td>\n",
              "      <td>(50.775, 6.08333)</td>\n",
              "      <td>1</td>\n",
              "      <td>0</td>\n",
              "    </tr>\n",
              "    <tr>\n",
              "      <th>1</th>\n",
              "      <td>Aarhus</td>\n",
              "      <td>2</td>\n",
              "      <td>Valid</td>\n",
              "      <td>H6</td>\n",
              "      <td>720.0</td>\n",
              "      <td>Fell</td>\n",
              "      <td>1951-01-01 12:00:00</td>\n",
              "      <td>56.2</td>\n",
              "      <td>10.2</td>\n",
              "      <td>(56.18333, 10.23333)</td>\n",
              "      <td>1</td>\n",
              "      <td>0</td>\n",
              "    </tr>\n",
              "    <tr>\n",
              "      <th>2</th>\n",
              "      <td>Abee</td>\n",
              "      <td>6</td>\n",
              "      <td>Valid</td>\n",
              "      <td>EH4</td>\n",
              "      <td>107,000.0</td>\n",
              "      <td>Fell</td>\n",
              "      <td>1952-01-01 12:00:00</td>\n",
              "      <td>54.2</td>\n",
              "      <td>-113.0</td>\n",
              "      <td>(54.21667, -113.0)</td>\n",
              "      <td>1</td>\n",
              "      <td>0</td>\n",
              "    </tr>\n",
              "    <tr>\n",
              "      <th>3</th>\n",
              "      <td>Acapulco</td>\n",
              "      <td>10</td>\n",
              "      <td>Valid</td>\n",
              "      <td>Acapulcoite</td>\n",
              "      <td>1,914.0</td>\n",
              "      <td>Fell</td>\n",
              "      <td>1976-01-01 12:00:00</td>\n",
              "      <td>16.9</td>\n",
              "      <td>-99.9</td>\n",
              "      <td>(16.88333, -99.9)</td>\n",
              "      <td>1</td>\n",
              "      <td>0</td>\n",
              "    </tr>\n",
              "    <tr>\n",
              "      <th>4</th>\n",
              "      <td>Achiras</td>\n",
              "      <td>370</td>\n",
              "      <td>Valid</td>\n",
              "      <td>L6</td>\n",
              "      <td>780.0</td>\n",
              "      <td>Fell</td>\n",
              "      <td>1902-01-01 12:00:00</td>\n",
              "      <td>-33.2</td>\n",
              "      <td>-65.0</td>\n",
              "      <td>(-33.16667, -64.95)</td>\n",
              "      <td>1</td>\n",
              "      <td>0</td>\n",
              "    </tr>\n",
              "    <tr>\n",
              "      <th>...</th>\n",
              "      <td>...</td>\n",
              "      <td>...</td>\n",
              "      <td>...</td>\n",
              "      <td>...</td>\n",
              "      <td>...</td>\n",
              "      <td>...</td>\n",
              "      <td>...</td>\n",
              "      <td>...</td>\n",
              "      <td>...</td>\n",
              "      <td>...</td>\n",
              "      <td>...</td>\n",
              "      <td>...</td>\n",
              "    </tr>\n",
              "    <tr>\n",
              "      <th>45711</th>\n",
              "      <td>Zillah 002</td>\n",
              "      <td>31356</td>\n",
              "      <td>Valid</td>\n",
              "      <td>Eucrite</td>\n",
              "      <td>172.0</td>\n",
              "      <td>Found</td>\n",
              "      <td>1990-01-01 12:00:00</td>\n",
              "      <td>29.0</td>\n",
              "      <td>17.0</td>\n",
              "      <td>(29.037, 17.0185)</td>\n",
              "      <td>0</td>\n",
              "      <td>1</td>\n",
              "    </tr>\n",
              "    <tr>\n",
              "      <th>45712</th>\n",
              "      <td>Zinder</td>\n",
              "      <td>30409</td>\n",
              "      <td>Valid</td>\n",
              "      <td>Pallasite, ungrouped</td>\n",
              "      <td>46.0</td>\n",
              "      <td>Found</td>\n",
              "      <td>1999-01-01 12:00:00</td>\n",
              "      <td>13.8</td>\n",
              "      <td>9.0</td>\n",
              "      <td>(13.78333, 8.96667)</td>\n",
              "      <td>0</td>\n",
              "      <td>1</td>\n",
              "    </tr>\n",
              "    <tr>\n",
              "      <th>45713</th>\n",
              "      <td>Zlin</td>\n",
              "      <td>30410</td>\n",
              "      <td>Valid</td>\n",
              "      <td>H4</td>\n",
              "      <td>3.3</td>\n",
              "      <td>Found</td>\n",
              "      <td>1939-01-01 12:00:00</td>\n",
              "      <td>49.2</td>\n",
              "      <td>17.7</td>\n",
              "      <td>(49.25, 17.66667)</td>\n",
              "      <td>0</td>\n",
              "      <td>1</td>\n",
              "    </tr>\n",
              "    <tr>\n",
              "      <th>45714</th>\n",
              "      <td>Zubkovsky</td>\n",
              "      <td>31357</td>\n",
              "      <td>Valid</td>\n",
              "      <td>L6</td>\n",
              "      <td>2,167.0</td>\n",
              "      <td>Found</td>\n",
              "      <td>2003-01-01 12:00:00</td>\n",
              "      <td>49.8</td>\n",
              "      <td>41.5</td>\n",
              "      <td>(49.78917, 41.5046)</td>\n",
              "      <td>0</td>\n",
              "      <td>1</td>\n",
              "    </tr>\n",
              "    <tr>\n",
              "      <th>45715</th>\n",
              "      <td>Zulu Queen</td>\n",
              "      <td>30414</td>\n",
              "      <td>Valid</td>\n",
              "      <td>L3.7</td>\n",
              "      <td>200.0</td>\n",
              "      <td>Found</td>\n",
              "      <td>1976-01-01 12:00:00</td>\n",
              "      <td>34.0</td>\n",
              "      <td>-115.7</td>\n",
              "      <td>(33.98333, -115.68333)</td>\n",
              "      <td>0</td>\n",
              "      <td>1</td>\n",
              "    </tr>\n",
              "  </tbody>\n",
              "</table>\n",
              "<p>45716 rows × 12 columns</p>\n",
              "</div>"
            ],
            "text/plain": [
              "             name     id nametype  ...             GeoLocation  fell found\n",
              "0          Aachen      1    Valid  ...       (50.775, 6.08333)     1     0\n",
              "1          Aarhus      2    Valid  ...    (56.18333, 10.23333)     1     0\n",
              "2            Abee      6    Valid  ...      (54.21667, -113.0)     1     0\n",
              "3        Acapulco     10    Valid  ...       (16.88333, -99.9)     1     0\n",
              "4         Achiras    370    Valid  ...     (-33.16667, -64.95)     1     0\n",
              "...           ...    ...      ...  ...                     ...   ...   ...\n",
              "45711  Zillah 002  31356    Valid  ...       (29.037, 17.0185)     0     1\n",
              "45712      Zinder  30409    Valid  ...     (13.78333, 8.96667)     0     1\n",
              "45713        Zlin  30410    Valid  ...       (49.25, 17.66667)     0     1\n",
              "45714   Zubkovsky  31357    Valid  ...     (49.78917, 41.5046)     0     1\n",
              "45715  Zulu Queen  30414    Valid  ...  (33.98333, -115.68333)     0     1\n",
              "\n",
              "[45716 rows x 12 columns]"
            ]
          },
          "metadata": {
            "tags": []
          },
          "execution_count": 22
        }
      ]
    },
    {
      "cell_type": "markdown",
      "metadata": {
        "id": "5NMzNA8hYcQ3"
      },
      "source": [
        "- Una forma practica de obtener los nombres de las columnas es hacer`list(nom_df)` "
      ]
    },
    {
      "cell_type": "code",
      "metadata": {
        "id": "1HywGVdRGBQO",
        "colab": {
          "base_uri": "https://localhost:8080/",
          "height": 243
        },
        "outputId": "dc3e26c2-b8cf-4f8d-cb14-a3664b5f9044"
      },
      "source": [
        "list(df_meteorites)"
      ],
      "execution_count": null,
      "outputs": [
        {
          "output_type": "execute_result",
          "data": {
            "text/plain": [
              "['name',\n",
              " 'id',\n",
              " 'nametype',\n",
              " 'recclass',\n",
              " 'mass',\n",
              " 'fall',\n",
              " 'year',\n",
              " 'reclat',\n",
              " 'reclong',\n",
              " 'GeoLocation',\n",
              " 'ones',\n",
              " 'fell',\n",
              " 'found']"
            ]
          },
          "metadata": {
            "tags": []
          },
          "execution_count": 76
        }
      ]
    },
    {
      "cell_type": "markdown",
      "metadata": {
        "id": "c1zDsD9naLR7"
      },
      "source": [
        "### Borrar Filas, Columnas y Copiar información\n"
      ]
    },
    {
      "cell_type": "code",
      "metadata": {
        "id": "DazgwAZYHGU7"
      },
      "source": [
        "df_meteorites.head(5)\n",
        "df_meteorites['ones'] = 1"
      ],
      "execution_count": 24,
      "outputs": []
    },
    {
      "cell_type": "markdown",
      "metadata": {
        "id": "ugCsE-McbRZC"
      },
      "source": [
        "Con `.drop()` Borramos "
      ]
    },
    {
      "cell_type": "code",
      "metadata": {
        "id": "PAALMovpHMei"
      },
      "source": [
        "df_meteorites.drop(['ones'], axis=1, inplace=True)"
      ],
      "execution_count": 25,
      "outputs": []
    },
    {
      "cell_type": "code",
      "metadata": {
        "id": "uYlAHfB8HTJU",
        "colab": {
          "base_uri": "https://localhost:8080/",
          "height": 363
        },
        "outputId": "73207e4f-ae7a-47f5-c5de-1f9031e07e52"
      },
      "source": [
        "df_meteorites.drop([0,2,4,6]).head(10)"
      ],
      "execution_count": null,
      "outputs": [
        {
          "output_type": "execute_result",
          "data": {
            "text/html": [
              "<div>\n",
              "<style scoped>\n",
              "    .dataframe tbody tr th:only-of-type {\n",
              "        vertical-align: middle;\n",
              "    }\n",
              "\n",
              "    .dataframe tbody tr th {\n",
              "        vertical-align: top;\n",
              "    }\n",
              "\n",
              "    .dataframe thead th {\n",
              "        text-align: right;\n",
              "    }\n",
              "</style>\n",
              "<table border=\"1\" class=\"dataframe\">\n",
              "  <thead>\n",
              "    <tr style=\"text-align: right;\">\n",
              "      <th></th>\n",
              "      <th>name</th>\n",
              "      <th>id</th>\n",
              "      <th>nametype</th>\n",
              "      <th>recclass</th>\n",
              "      <th>mass</th>\n",
              "      <th>fall</th>\n",
              "      <th>year</th>\n",
              "      <th>reclat</th>\n",
              "      <th>reclong</th>\n",
              "      <th>GeoLocation</th>\n",
              "      <th>fell</th>\n",
              "      <th>found</th>\n",
              "    </tr>\n",
              "  </thead>\n",
              "  <tbody>\n",
              "    <tr>\n",
              "      <th>1</th>\n",
              "      <td>Aarhus</td>\n",
              "      <td>2</td>\n",
              "      <td>Valid</td>\n",
              "      <td>H6</td>\n",
              "      <td>720.0</td>\n",
              "      <td>Fell</td>\n",
              "      <td>1951-01-01 12:00:00</td>\n",
              "      <td>56.2</td>\n",
              "      <td>10.2</td>\n",
              "      <td>(56.18333, 10.23333)</td>\n",
              "      <td>1</td>\n",
              "      <td>0</td>\n",
              "    </tr>\n",
              "    <tr>\n",
              "      <th>3</th>\n",
              "      <td>Acapulco</td>\n",
              "      <td>10</td>\n",
              "      <td>Valid</td>\n",
              "      <td>Acapulcoite</td>\n",
              "      <td>1,914.0</td>\n",
              "      <td>Fell</td>\n",
              "      <td>1976-01-01 12:00:00</td>\n",
              "      <td>16.9</td>\n",
              "      <td>-99.9</td>\n",
              "      <td>(16.88333, -99.9)</td>\n",
              "      <td>1</td>\n",
              "      <td>0</td>\n",
              "    </tr>\n",
              "    <tr>\n",
              "      <th>5</th>\n",
              "      <td>Adhi Kot</td>\n",
              "      <td>379</td>\n",
              "      <td>Valid</td>\n",
              "      <td>EH4</td>\n",
              "      <td>4,239.0</td>\n",
              "      <td>Fell</td>\n",
              "      <td>1919-01-01 12:00:00</td>\n",
              "      <td>32.1</td>\n",
              "      <td>71.8</td>\n",
              "      <td>(32.1, 71.8)</td>\n",
              "      <td>1</td>\n",
              "      <td>0</td>\n",
              "    </tr>\n",
              "    <tr>\n",
              "      <th>7</th>\n",
              "      <td>Agen</td>\n",
              "      <td>392</td>\n",
              "      <td>Valid</td>\n",
              "      <td>H5</td>\n",
              "      <td>30,000.0</td>\n",
              "      <td>Fell</td>\n",
              "      <td>1814-01-01 12:00:00</td>\n",
              "      <td>44.2</td>\n",
              "      <td>0.6</td>\n",
              "      <td>(44.21667, 0.61667)</td>\n",
              "      <td>1</td>\n",
              "      <td>0</td>\n",
              "    </tr>\n",
              "    <tr>\n",
              "      <th>8</th>\n",
              "      <td>Aguada</td>\n",
              "      <td>398</td>\n",
              "      <td>Valid</td>\n",
              "      <td>L6</td>\n",
              "      <td>1,620.0</td>\n",
              "      <td>Fell</td>\n",
              "      <td>1930-01-01 12:00:00</td>\n",
              "      <td>-31.6</td>\n",
              "      <td>-65.2</td>\n",
              "      <td>(-31.6, -65.23333)</td>\n",
              "      <td>1</td>\n",
              "      <td>0</td>\n",
              "    </tr>\n",
              "    <tr>\n",
              "      <th>9</th>\n",
              "      <td>Aguila Blanca</td>\n",
              "      <td>417</td>\n",
              "      <td>Valid</td>\n",
              "      <td>L</td>\n",
              "      <td>1,440.0</td>\n",
              "      <td>Fell</td>\n",
              "      <td>1920-01-01 12:00:00</td>\n",
              "      <td>-30.9</td>\n",
              "      <td>-64.5</td>\n",
              "      <td>(-30.86667, -64.55)</td>\n",
              "      <td>1</td>\n",
              "      <td>0</td>\n",
              "    </tr>\n",
              "    <tr>\n",
              "      <th>10</th>\n",
              "      <td>Aioun el Atrouss</td>\n",
              "      <td>423</td>\n",
              "      <td>Valid</td>\n",
              "      <td>Diogenite-pm</td>\n",
              "      <td>1,000.0</td>\n",
              "      <td>Fell</td>\n",
              "      <td>1974-01-01 12:00:00</td>\n",
              "      <td>16.4</td>\n",
              "      <td>-9.6</td>\n",
              "      <td>(16.39806, -9.57028)</td>\n",
              "      <td>1</td>\n",
              "      <td>0</td>\n",
              "    </tr>\n",
              "    <tr>\n",
              "      <th>11</th>\n",
              "      <td>Aïr</td>\n",
              "      <td>424</td>\n",
              "      <td>Valid</td>\n",
              "      <td>L6</td>\n",
              "      <td>24,000.0</td>\n",
              "      <td>Fell</td>\n",
              "      <td>1925-01-01 12:00:00</td>\n",
              "      <td>19.1</td>\n",
              "      <td>8.4</td>\n",
              "      <td>(19.08333, 8.38333)</td>\n",
              "      <td>1</td>\n",
              "      <td>0</td>\n",
              "    </tr>\n",
              "    <tr>\n",
              "      <th>12</th>\n",
              "      <td>Aire-sur-la-Lys</td>\n",
              "      <td>425</td>\n",
              "      <td>Valid</td>\n",
              "      <td>Unknown</td>\n",
              "      <td>nan</td>\n",
              "      <td>Fell</td>\n",
              "      <td>1769-01-01 12:00:00</td>\n",
              "      <td>50.7</td>\n",
              "      <td>2.3</td>\n",
              "      <td>(50.66667, 2.33333)</td>\n",
              "      <td>1</td>\n",
              "      <td>0</td>\n",
              "    </tr>\n",
              "    <tr>\n",
              "      <th>13</th>\n",
              "      <td>Akaba</td>\n",
              "      <td>426</td>\n",
              "      <td>Valid</td>\n",
              "      <td>L6</td>\n",
              "      <td>779.0</td>\n",
              "      <td>Fell</td>\n",
              "      <td>1949-01-01 12:00:00</td>\n",
              "      <td>29.5</td>\n",
              "      <td>35.0</td>\n",
              "      <td>(29.51667, 35.05)</td>\n",
              "      <td>1</td>\n",
              "      <td>0</td>\n",
              "    </tr>\n",
              "  </tbody>\n",
              "</table>\n",
              "</div>"
            ],
            "text/plain": [
              "                name   id nametype  ...           GeoLocation  fell found\n",
              "1             Aarhus    2    Valid  ...  (56.18333, 10.23333)     1     0\n",
              "3           Acapulco   10    Valid  ...     (16.88333, -99.9)     1     0\n",
              "5           Adhi Kot  379    Valid  ...          (32.1, 71.8)     1     0\n",
              "7               Agen  392    Valid  ...   (44.21667, 0.61667)     1     0\n",
              "8             Aguada  398    Valid  ...    (-31.6, -65.23333)     1     0\n",
              "9      Aguila Blanca  417    Valid  ...   (-30.86667, -64.55)     1     0\n",
              "10  Aioun el Atrouss  423    Valid  ...  (16.39806, -9.57028)     1     0\n",
              "11               Aïr  424    Valid  ...   (19.08333, 8.38333)     1     0\n",
              "12   Aire-sur-la-Lys  425    Valid  ...   (50.66667, 2.33333)     1     0\n",
              "13             Akaba  426    Valid  ...     (29.51667, 35.05)     1     0\n",
              "\n",
              "[10 rows x 12 columns]"
            ]
          },
          "metadata": {
            "tags": []
          },
          "execution_count": 84
        }
      ]
    },
    {
      "cell_type": "code",
      "metadata": {
        "id": "noBk8MakHuXH",
        "colab": {
          "base_uri": "https://localhost:8080/",
          "height": 424
        },
        "outputId": "9df3c341-1a6a-4330-e08c-9d1d2a64ce0c"
      },
      "source": [
        "df_meteorites.drop(columns = ['id','recclass'],index=[0,2,4,6])"
      ],
      "execution_count": null,
      "outputs": [
        {
          "output_type": "execute_result",
          "data": {
            "text/html": [
              "<div>\n",
              "<style scoped>\n",
              "    .dataframe tbody tr th:only-of-type {\n",
              "        vertical-align: middle;\n",
              "    }\n",
              "\n",
              "    .dataframe tbody tr th {\n",
              "        vertical-align: top;\n",
              "    }\n",
              "\n",
              "    .dataframe thead th {\n",
              "        text-align: right;\n",
              "    }\n",
              "</style>\n",
              "<table border=\"1\" class=\"dataframe\">\n",
              "  <thead>\n",
              "    <tr style=\"text-align: right;\">\n",
              "      <th></th>\n",
              "      <th>name</th>\n",
              "      <th>nametype</th>\n",
              "      <th>mass</th>\n",
              "      <th>fall</th>\n",
              "      <th>year</th>\n",
              "      <th>reclat</th>\n",
              "      <th>reclong</th>\n",
              "      <th>GeoLocation</th>\n",
              "      <th>fell</th>\n",
              "      <th>found</th>\n",
              "    </tr>\n",
              "  </thead>\n",
              "  <tbody>\n",
              "    <tr>\n",
              "      <th>1</th>\n",
              "      <td>Aarhus</td>\n",
              "      <td>Valid</td>\n",
              "      <td>720.0</td>\n",
              "      <td>Fell</td>\n",
              "      <td>1951-01-01 12:00:00</td>\n",
              "      <td>56.2</td>\n",
              "      <td>10.2</td>\n",
              "      <td>(56.18333, 10.23333)</td>\n",
              "      <td>1</td>\n",
              "      <td>0</td>\n",
              "    </tr>\n",
              "    <tr>\n",
              "      <th>3</th>\n",
              "      <td>Acapulco</td>\n",
              "      <td>Valid</td>\n",
              "      <td>1,914.0</td>\n",
              "      <td>Fell</td>\n",
              "      <td>1976-01-01 12:00:00</td>\n",
              "      <td>16.9</td>\n",
              "      <td>-99.9</td>\n",
              "      <td>(16.88333, -99.9)</td>\n",
              "      <td>1</td>\n",
              "      <td>0</td>\n",
              "    </tr>\n",
              "    <tr>\n",
              "      <th>5</th>\n",
              "      <td>Adhi Kot</td>\n",
              "      <td>Valid</td>\n",
              "      <td>4,239.0</td>\n",
              "      <td>Fell</td>\n",
              "      <td>1919-01-01 12:00:00</td>\n",
              "      <td>32.1</td>\n",
              "      <td>71.8</td>\n",
              "      <td>(32.1, 71.8)</td>\n",
              "      <td>1</td>\n",
              "      <td>0</td>\n",
              "    </tr>\n",
              "    <tr>\n",
              "      <th>7</th>\n",
              "      <td>Agen</td>\n",
              "      <td>Valid</td>\n",
              "      <td>30,000.0</td>\n",
              "      <td>Fell</td>\n",
              "      <td>1814-01-01 12:00:00</td>\n",
              "      <td>44.2</td>\n",
              "      <td>0.6</td>\n",
              "      <td>(44.21667, 0.61667)</td>\n",
              "      <td>1</td>\n",
              "      <td>0</td>\n",
              "    </tr>\n",
              "    <tr>\n",
              "      <th>8</th>\n",
              "      <td>Aguada</td>\n",
              "      <td>Valid</td>\n",
              "      <td>1,620.0</td>\n",
              "      <td>Fell</td>\n",
              "      <td>1930-01-01 12:00:00</td>\n",
              "      <td>-31.6</td>\n",
              "      <td>-65.2</td>\n",
              "      <td>(-31.6, -65.23333)</td>\n",
              "      <td>1</td>\n",
              "      <td>0</td>\n",
              "    </tr>\n",
              "    <tr>\n",
              "      <th>...</th>\n",
              "      <td>...</td>\n",
              "      <td>...</td>\n",
              "      <td>...</td>\n",
              "      <td>...</td>\n",
              "      <td>...</td>\n",
              "      <td>...</td>\n",
              "      <td>...</td>\n",
              "      <td>...</td>\n",
              "      <td>...</td>\n",
              "      <td>...</td>\n",
              "    </tr>\n",
              "    <tr>\n",
              "      <th>45711</th>\n",
              "      <td>Zillah 002</td>\n",
              "      <td>Valid</td>\n",
              "      <td>172.0</td>\n",
              "      <td>Found</td>\n",
              "      <td>1990-01-01 12:00:00</td>\n",
              "      <td>29.0</td>\n",
              "      <td>17.0</td>\n",
              "      <td>(29.037, 17.0185)</td>\n",
              "      <td>0</td>\n",
              "      <td>1</td>\n",
              "    </tr>\n",
              "    <tr>\n",
              "      <th>45712</th>\n",
              "      <td>Zinder</td>\n",
              "      <td>Valid</td>\n",
              "      <td>46.0</td>\n",
              "      <td>Found</td>\n",
              "      <td>1999-01-01 12:00:00</td>\n",
              "      <td>13.8</td>\n",
              "      <td>9.0</td>\n",
              "      <td>(13.78333, 8.96667)</td>\n",
              "      <td>0</td>\n",
              "      <td>1</td>\n",
              "    </tr>\n",
              "    <tr>\n",
              "      <th>45713</th>\n",
              "      <td>Zlin</td>\n",
              "      <td>Valid</td>\n",
              "      <td>3.3</td>\n",
              "      <td>Found</td>\n",
              "      <td>1939-01-01 12:00:00</td>\n",
              "      <td>49.2</td>\n",
              "      <td>17.7</td>\n",
              "      <td>(49.25, 17.66667)</td>\n",
              "      <td>0</td>\n",
              "      <td>1</td>\n",
              "    </tr>\n",
              "    <tr>\n",
              "      <th>45714</th>\n",
              "      <td>Zubkovsky</td>\n",
              "      <td>Valid</td>\n",
              "      <td>2,167.0</td>\n",
              "      <td>Found</td>\n",
              "      <td>2003-01-01 12:00:00</td>\n",
              "      <td>49.8</td>\n",
              "      <td>41.5</td>\n",
              "      <td>(49.78917, 41.5046)</td>\n",
              "      <td>0</td>\n",
              "      <td>1</td>\n",
              "    </tr>\n",
              "    <tr>\n",
              "      <th>45715</th>\n",
              "      <td>Zulu Queen</td>\n",
              "      <td>Valid</td>\n",
              "      <td>200.0</td>\n",
              "      <td>Found</td>\n",
              "      <td>1976-01-01 12:00:00</td>\n",
              "      <td>34.0</td>\n",
              "      <td>-115.7</td>\n",
              "      <td>(33.98333, -115.68333)</td>\n",
              "      <td>0</td>\n",
              "      <td>1</td>\n",
              "    </tr>\n",
              "  </tbody>\n",
              "</table>\n",
              "<p>45712 rows × 10 columns</p>\n",
              "</div>"
            ],
            "text/plain": [
              "             name nametype     mass  ...             GeoLocation fell  found\n",
              "1          Aarhus    Valid    720.0  ...    (56.18333, 10.23333)    1      0\n",
              "3        Acapulco    Valid  1,914.0  ...       (16.88333, -99.9)    1      0\n",
              "5        Adhi Kot    Valid  4,239.0  ...            (32.1, 71.8)    1      0\n",
              "7            Agen    Valid 30,000.0  ...     (44.21667, 0.61667)    1      0\n",
              "8          Aguada    Valid  1,620.0  ...      (-31.6, -65.23333)    1      0\n",
              "...           ...      ...      ...  ...                     ...  ...    ...\n",
              "45711  Zillah 002    Valid    172.0  ...       (29.037, 17.0185)    0      1\n",
              "45712      Zinder    Valid     46.0  ...     (13.78333, 8.96667)    0      1\n",
              "45713        Zlin    Valid      3.3  ...       (49.25, 17.66667)    0      1\n",
              "45714   Zubkovsky    Valid  2,167.0  ...     (49.78917, 41.5046)    0      1\n",
              "45715  Zulu Queen    Valid    200.0  ...  (33.98333, -115.68333)    0      1\n",
              "\n",
              "[45712 rows x 10 columns]"
            ]
          },
          "metadata": {
            "tags": []
          },
          "execution_count": 85
        }
      ]
    },
    {
      "cell_type": "code",
      "metadata": {
        "id": "SpVX0IxZI43J"
      },
      "source": [
        "df  = df_meteorites.copy(deep=True)\n",
        "df.drop(['id'],axis=1,inplace=True)"
      ],
      "execution_count": null,
      "outputs": []
    },
    {
      "cell_type": "code",
      "metadata": {
        "id": "NR1-M5hnI8lz",
        "colab": {
          "base_uri": "https://localhost:8080/",
          "height": 424
        },
        "outputId": "1bd44c60-1bb7-4c04-98c8-27c9550b7d11"
      },
      "source": [
        ""
      ],
      "execution_count": null,
      "outputs": [
        {
          "output_type": "execute_result",
          "data": {
            "text/html": [
              "<div>\n",
              "<style scoped>\n",
              "    .dataframe tbody tr th:only-of-type {\n",
              "        vertical-align: middle;\n",
              "    }\n",
              "\n",
              "    .dataframe tbody tr th {\n",
              "        vertical-align: top;\n",
              "    }\n",
              "\n",
              "    .dataframe thead th {\n",
              "        text-align: right;\n",
              "    }\n",
              "</style>\n",
              "<table border=\"1\" class=\"dataframe\">\n",
              "  <thead>\n",
              "    <tr style=\"text-align: right;\">\n",
              "      <th></th>\n",
              "      <th>name</th>\n",
              "      <th>nametype</th>\n",
              "      <th>recclass</th>\n",
              "      <th>mass</th>\n",
              "      <th>fall</th>\n",
              "      <th>year</th>\n",
              "      <th>reclat</th>\n",
              "      <th>reclong</th>\n",
              "      <th>GeoLocation</th>\n",
              "      <th>fell</th>\n",
              "      <th>found</th>\n",
              "    </tr>\n",
              "  </thead>\n",
              "  <tbody>\n",
              "    <tr>\n",
              "      <th>0</th>\n",
              "      <td>Aachen</td>\n",
              "      <td>Valid</td>\n",
              "      <td>L5</td>\n",
              "      <td>21.0</td>\n",
              "      <td>Fell</td>\n",
              "      <td>1880-01-01 12:00:00</td>\n",
              "      <td>50.8</td>\n",
              "      <td>6.1</td>\n",
              "      <td>(50.775, 6.08333)</td>\n",
              "      <td>1</td>\n",
              "      <td>0</td>\n",
              "    </tr>\n",
              "    <tr>\n",
              "      <th>1</th>\n",
              "      <td>Aarhus</td>\n",
              "      <td>Valid</td>\n",
              "      <td>H6</td>\n",
              "      <td>720.0</td>\n",
              "      <td>Fell</td>\n",
              "      <td>1951-01-01 12:00:00</td>\n",
              "      <td>56.2</td>\n",
              "      <td>10.2</td>\n",
              "      <td>(56.18333, 10.23333)</td>\n",
              "      <td>1</td>\n",
              "      <td>0</td>\n",
              "    </tr>\n",
              "    <tr>\n",
              "      <th>2</th>\n",
              "      <td>Abee</td>\n",
              "      <td>Valid</td>\n",
              "      <td>EH4</td>\n",
              "      <td>107,000.0</td>\n",
              "      <td>Fell</td>\n",
              "      <td>1952-01-01 12:00:00</td>\n",
              "      <td>54.2</td>\n",
              "      <td>-113.0</td>\n",
              "      <td>(54.21667, -113.0)</td>\n",
              "      <td>1</td>\n",
              "      <td>0</td>\n",
              "    </tr>\n",
              "    <tr>\n",
              "      <th>3</th>\n",
              "      <td>Acapulco</td>\n",
              "      <td>Valid</td>\n",
              "      <td>Acapulcoite</td>\n",
              "      <td>1,914.0</td>\n",
              "      <td>Fell</td>\n",
              "      <td>1976-01-01 12:00:00</td>\n",
              "      <td>16.9</td>\n",
              "      <td>-99.9</td>\n",
              "      <td>(16.88333, -99.9)</td>\n",
              "      <td>1</td>\n",
              "      <td>0</td>\n",
              "    </tr>\n",
              "    <tr>\n",
              "      <th>4</th>\n",
              "      <td>Achiras</td>\n",
              "      <td>Valid</td>\n",
              "      <td>L6</td>\n",
              "      <td>780.0</td>\n",
              "      <td>Fell</td>\n",
              "      <td>1902-01-01 12:00:00</td>\n",
              "      <td>-33.2</td>\n",
              "      <td>-65.0</td>\n",
              "      <td>(-33.16667, -64.95)</td>\n",
              "      <td>1</td>\n",
              "      <td>0</td>\n",
              "    </tr>\n",
              "    <tr>\n",
              "      <th>...</th>\n",
              "      <td>...</td>\n",
              "      <td>...</td>\n",
              "      <td>...</td>\n",
              "      <td>...</td>\n",
              "      <td>...</td>\n",
              "      <td>...</td>\n",
              "      <td>...</td>\n",
              "      <td>...</td>\n",
              "      <td>...</td>\n",
              "      <td>...</td>\n",
              "      <td>...</td>\n",
              "    </tr>\n",
              "    <tr>\n",
              "      <th>45711</th>\n",
              "      <td>Zillah 002</td>\n",
              "      <td>Valid</td>\n",
              "      <td>Eucrite</td>\n",
              "      <td>172.0</td>\n",
              "      <td>Found</td>\n",
              "      <td>1990-01-01 12:00:00</td>\n",
              "      <td>29.0</td>\n",
              "      <td>17.0</td>\n",
              "      <td>(29.037, 17.0185)</td>\n",
              "      <td>0</td>\n",
              "      <td>1</td>\n",
              "    </tr>\n",
              "    <tr>\n",
              "      <th>45712</th>\n",
              "      <td>Zinder</td>\n",
              "      <td>Valid</td>\n",
              "      <td>Pallasite, ungrouped</td>\n",
              "      <td>46.0</td>\n",
              "      <td>Found</td>\n",
              "      <td>1999-01-01 12:00:00</td>\n",
              "      <td>13.8</td>\n",
              "      <td>9.0</td>\n",
              "      <td>(13.78333, 8.96667)</td>\n",
              "      <td>0</td>\n",
              "      <td>1</td>\n",
              "    </tr>\n",
              "    <tr>\n",
              "      <th>45713</th>\n",
              "      <td>Zlin</td>\n",
              "      <td>Valid</td>\n",
              "      <td>H4</td>\n",
              "      <td>3.3</td>\n",
              "      <td>Found</td>\n",
              "      <td>1939-01-01 12:00:00</td>\n",
              "      <td>49.2</td>\n",
              "      <td>17.7</td>\n",
              "      <td>(49.25, 17.66667)</td>\n",
              "      <td>0</td>\n",
              "      <td>1</td>\n",
              "    </tr>\n",
              "    <tr>\n",
              "      <th>45714</th>\n",
              "      <td>Zubkovsky</td>\n",
              "      <td>Valid</td>\n",
              "      <td>L6</td>\n",
              "      <td>2,167.0</td>\n",
              "      <td>Found</td>\n",
              "      <td>2003-01-01 12:00:00</td>\n",
              "      <td>49.8</td>\n",
              "      <td>41.5</td>\n",
              "      <td>(49.78917, 41.5046)</td>\n",
              "      <td>0</td>\n",
              "      <td>1</td>\n",
              "    </tr>\n",
              "    <tr>\n",
              "      <th>45715</th>\n",
              "      <td>Zulu Queen</td>\n",
              "      <td>Valid</td>\n",
              "      <td>L3.7</td>\n",
              "      <td>200.0</td>\n",
              "      <td>Found</td>\n",
              "      <td>1976-01-01 12:00:00</td>\n",
              "      <td>34.0</td>\n",
              "      <td>-115.7</td>\n",
              "      <td>(33.98333, -115.68333)</td>\n",
              "      <td>0</td>\n",
              "      <td>1</td>\n",
              "    </tr>\n",
              "  </tbody>\n",
              "</table>\n",
              "<p>45716 rows × 11 columns</p>\n",
              "</div>"
            ],
            "text/plain": [
              "             name nametype  ... fell  found\n",
              "0          Aachen    Valid  ...    1      0\n",
              "1          Aarhus    Valid  ...    1      0\n",
              "2            Abee    Valid  ...    1      0\n",
              "3        Acapulco    Valid  ...    1      0\n",
              "4         Achiras    Valid  ...    1      0\n",
              "...           ...      ...  ...  ...    ...\n",
              "45711  Zillah 002    Valid  ...    0      1\n",
              "45712      Zinder    Valid  ...    0      1\n",
              "45713        Zlin    Valid  ...    0      1\n",
              "45714   Zubkovsky    Valid  ...    0      1\n",
              "45715  Zulu Queen    Valid  ...    0      1\n",
              "\n",
              "[45716 rows x 11 columns]"
            ]
          },
          "metadata": {
            "tags": []
          },
          "execution_count": 88
        }
      ]
    },
    {
      "cell_type": "code",
      "metadata": {
        "id": "9jCx0fw0JJLx",
        "colab": {
          "base_uri": "https://localhost:8080/",
          "height": 597
        },
        "outputId": "5dd1e689-45ca-4f1a-ea0b-10142329987b"
      },
      "source": [
        "df_meteorites"
      ],
      "execution_count": null,
      "outputs": [
        {
          "output_type": "execute_result",
          "data": {
            "text/html": [
              "<div>\n",
              "<style scoped>\n",
              "    .dataframe tbody tr th:only-of-type {\n",
              "        vertical-align: middle;\n",
              "    }\n",
              "\n",
              "    .dataframe tbody tr th {\n",
              "        vertical-align: top;\n",
              "    }\n",
              "\n",
              "    .dataframe thead th {\n",
              "        text-align: right;\n",
              "    }\n",
              "</style>\n",
              "<table border=\"1\" class=\"dataframe\">\n",
              "  <thead>\n",
              "    <tr style=\"text-align: right;\">\n",
              "      <th></th>\n",
              "      <th>name</th>\n",
              "      <th>id</th>\n",
              "      <th>nametype</th>\n",
              "      <th>recclass</th>\n",
              "      <th>mass</th>\n",
              "      <th>fall</th>\n",
              "      <th>year</th>\n",
              "      <th>reclat</th>\n",
              "      <th>reclong</th>\n",
              "      <th>GeoLocation</th>\n",
              "      <th>fell</th>\n",
              "      <th>found</th>\n",
              "    </tr>\n",
              "  </thead>\n",
              "  <tbody>\n",
              "    <tr>\n",
              "      <th>0</th>\n",
              "      <td>Aachen</td>\n",
              "      <td>1</td>\n",
              "      <td>Valid</td>\n",
              "      <td>L5</td>\n",
              "      <td>21.0</td>\n",
              "      <td>Fell</td>\n",
              "      <td>1880-01-01 12:00:00</td>\n",
              "      <td>50.8</td>\n",
              "      <td>6.1</td>\n",
              "      <td>(50.775, 6.08333)</td>\n",
              "      <td>1</td>\n",
              "      <td>0</td>\n",
              "    </tr>\n",
              "    <tr>\n",
              "      <th>1</th>\n",
              "      <td>Aarhus</td>\n",
              "      <td>2</td>\n",
              "      <td>Valid</td>\n",
              "      <td>H6</td>\n",
              "      <td>720.0</td>\n",
              "      <td>Fell</td>\n",
              "      <td>1951-01-01 12:00:00</td>\n",
              "      <td>56.2</td>\n",
              "      <td>10.2</td>\n",
              "      <td>(56.18333, 10.23333)</td>\n",
              "      <td>1</td>\n",
              "      <td>0</td>\n",
              "    </tr>\n",
              "    <tr>\n",
              "      <th>2</th>\n",
              "      <td>Abee</td>\n",
              "      <td>6</td>\n",
              "      <td>Valid</td>\n",
              "      <td>EH4</td>\n",
              "      <td>107,000.0</td>\n",
              "      <td>Fell</td>\n",
              "      <td>1952-01-01 12:00:00</td>\n",
              "      <td>54.2</td>\n",
              "      <td>-113.0</td>\n",
              "      <td>(54.21667, -113.0)</td>\n",
              "      <td>1</td>\n",
              "      <td>0</td>\n",
              "    </tr>\n",
              "    <tr>\n",
              "      <th>3</th>\n",
              "      <td>Acapulco</td>\n",
              "      <td>10</td>\n",
              "      <td>Valid</td>\n",
              "      <td>Acapulcoite</td>\n",
              "      <td>1,914.0</td>\n",
              "      <td>Fell</td>\n",
              "      <td>1976-01-01 12:00:00</td>\n",
              "      <td>16.9</td>\n",
              "      <td>-99.9</td>\n",
              "      <td>(16.88333, -99.9)</td>\n",
              "      <td>1</td>\n",
              "      <td>0</td>\n",
              "    </tr>\n",
              "    <tr>\n",
              "      <th>4</th>\n",
              "      <td>Achiras</td>\n",
              "      <td>370</td>\n",
              "      <td>Valid</td>\n",
              "      <td>L6</td>\n",
              "      <td>780.0</td>\n",
              "      <td>Fell</td>\n",
              "      <td>1902-01-01 12:00:00</td>\n",
              "      <td>-33.2</td>\n",
              "      <td>-65.0</td>\n",
              "      <td>(-33.16667, -64.95)</td>\n",
              "      <td>1</td>\n",
              "      <td>0</td>\n",
              "    </tr>\n",
              "    <tr>\n",
              "      <th>...</th>\n",
              "      <td>...</td>\n",
              "      <td>...</td>\n",
              "      <td>...</td>\n",
              "      <td>...</td>\n",
              "      <td>...</td>\n",
              "      <td>...</td>\n",
              "      <td>...</td>\n",
              "      <td>...</td>\n",
              "      <td>...</td>\n",
              "      <td>...</td>\n",
              "      <td>...</td>\n",
              "      <td>...</td>\n",
              "    </tr>\n",
              "    <tr>\n",
              "      <th>45711</th>\n",
              "      <td>Zillah 002</td>\n",
              "      <td>31356</td>\n",
              "      <td>Valid</td>\n",
              "      <td>Eucrite</td>\n",
              "      <td>172.0</td>\n",
              "      <td>Found</td>\n",
              "      <td>1990-01-01 12:00:00</td>\n",
              "      <td>29.0</td>\n",
              "      <td>17.0</td>\n",
              "      <td>(29.037, 17.0185)</td>\n",
              "      <td>0</td>\n",
              "      <td>1</td>\n",
              "    </tr>\n",
              "    <tr>\n",
              "      <th>45712</th>\n",
              "      <td>Zinder</td>\n",
              "      <td>30409</td>\n",
              "      <td>Valid</td>\n",
              "      <td>Pallasite, ungrouped</td>\n",
              "      <td>46.0</td>\n",
              "      <td>Found</td>\n",
              "      <td>1999-01-01 12:00:00</td>\n",
              "      <td>13.8</td>\n",
              "      <td>9.0</td>\n",
              "      <td>(13.78333, 8.96667)</td>\n",
              "      <td>0</td>\n",
              "      <td>1</td>\n",
              "    </tr>\n",
              "    <tr>\n",
              "      <th>45713</th>\n",
              "      <td>Zlin</td>\n",
              "      <td>30410</td>\n",
              "      <td>Valid</td>\n",
              "      <td>H4</td>\n",
              "      <td>3.3</td>\n",
              "      <td>Found</td>\n",
              "      <td>1939-01-01 12:00:00</td>\n",
              "      <td>49.2</td>\n",
              "      <td>17.7</td>\n",
              "      <td>(49.25, 17.66667)</td>\n",
              "      <td>0</td>\n",
              "      <td>1</td>\n",
              "    </tr>\n",
              "    <tr>\n",
              "      <th>45714</th>\n",
              "      <td>Zubkovsky</td>\n",
              "      <td>31357</td>\n",
              "      <td>Valid</td>\n",
              "      <td>L6</td>\n",
              "      <td>2,167.0</td>\n",
              "      <td>Found</td>\n",
              "      <td>2003-01-01 12:00:00</td>\n",
              "      <td>49.8</td>\n",
              "      <td>41.5</td>\n",
              "      <td>(49.78917, 41.5046)</td>\n",
              "      <td>0</td>\n",
              "      <td>1</td>\n",
              "    </tr>\n",
              "    <tr>\n",
              "      <th>45715</th>\n",
              "      <td>Zulu Queen</td>\n",
              "      <td>30414</td>\n",
              "      <td>Valid</td>\n",
              "      <td>L3.7</td>\n",
              "      <td>200.0</td>\n",
              "      <td>Found</td>\n",
              "      <td>1976-01-01 12:00:00</td>\n",
              "      <td>34.0</td>\n",
              "      <td>-115.7</td>\n",
              "      <td>(33.98333, -115.68333)</td>\n",
              "      <td>0</td>\n",
              "      <td>1</td>\n",
              "    </tr>\n",
              "  </tbody>\n",
              "</table>\n",
              "<p>45716 rows × 12 columns</p>\n",
              "</div>"
            ],
            "text/plain": [
              "             name     id nametype  ...             GeoLocation  fell found\n",
              "0          Aachen      1    Valid  ...       (50.775, 6.08333)     1     0\n",
              "1          Aarhus      2    Valid  ...    (56.18333, 10.23333)     1     0\n",
              "2            Abee      6    Valid  ...      (54.21667, -113.0)     1     0\n",
              "3        Acapulco     10    Valid  ...       (16.88333, -99.9)     1     0\n",
              "4         Achiras    370    Valid  ...     (-33.16667, -64.95)     1     0\n",
              "...           ...    ...      ...  ...                     ...   ...   ...\n",
              "45711  Zillah 002  31356    Valid  ...       (29.037, 17.0185)     0     1\n",
              "45712      Zinder  30409    Valid  ...     (13.78333, 8.96667)     0     1\n",
              "45713        Zlin  30410    Valid  ...       (49.25, 17.66667)     0     1\n",
              "45714   Zubkovsky  31357    Valid  ...     (49.78917, 41.5046)     0     1\n",
              "45715  Zulu Queen  30414    Valid  ...  (33.98333, -115.68333)     0     1\n",
              "\n",
              "[45716 rows x 12 columns]"
            ]
          },
          "metadata": {
            "tags": []
          },
          "execution_count": 89
        }
      ]
    }
  ]
}